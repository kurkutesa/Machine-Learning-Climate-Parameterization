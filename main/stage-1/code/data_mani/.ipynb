{
 "cells": [
  {
   "cell_type": "markdown",
   "metadata": {},
   "source": [
    "# Libraries"
   ]
  },
  {
   "cell_type": "code",
   "execution_count": 1,
   "metadata": {
    "ExecuteTime": {
     "end_time": "2019-02-13T22:23:23.600976Z",
     "start_time": "2019-02-13T22:23:20.566881Z"
    }
   },
   "outputs": [
    {
     "name": "stdout",
     "output_type": "stream",
     "text": [
      "All packages imported.\n"
     ]
    }
   ],
   "source": [
    "import os\n",
    "\n",
    "import numpy as np\n",
    "import pandas as pd\n",
    "from math import floor, ceil\n",
    "\n",
    "import matplotlib\n",
    "# matplotlib.use('TkAgg')\n",
    "import matplotlib.pyplot as plt\n",
    "import seaborn as sns\n",
    "\n",
    "import xarray as xr\n",
    "#import tensorflow as tf\n",
    "\n",
    "print('All packages imported.')"
   ]
  },
  {
   "cell_type": "markdown",
   "metadata": {},
   "source": [
    "# Data Import"
   ]
  },
  {
   "cell_type": "code",
   "execution_count": 2,
   "metadata": {
    "ExecuteTime": {
     "end_time": "2019-02-13T22:23:23.607511Z",
     "start_time": "2019-02-13T22:23:23.603130Z"
    }
   },
   "outputs": [],
   "source": [
    "def get_file_path(file_name):\n",
    "    CURRENT_DIR = os.getcwd()\n",
    "    DATA_DIR = f'{CURRENT_DIR}/../../../data/stage-1_cleaned'\n",
    "    FILE_PATH = f'{DATA_DIR}/{file_name}'\n",
    "    return FILE_PATH\n",
    "\n",
    "\n",
    "def import_DS(FILE_PATH):\n",
    "    return xr.open_dataset(FILE_PATH)\n",
    "\n",
    "def DS_dropna(DS):\n",
    "    return DS.dropna(dim='time')"
   ]
  },
  {
   "cell_type": "code",
   "execution_count": 3,
   "metadata": {
    "ExecuteTime": {
     "end_time": "2019-02-13T22:23:23.925591Z",
     "start_time": "2019-02-13T22:23:23.610205Z"
    }
   },
   "outputs": [
    {
     "data": {
      "text/plain": [
       "<xarray.Dataset>\n",
       "Dimensions:        (p: 37, time: 131496)\n",
       "Coordinates:\n",
       "  * time           (time) datetime64[ns] 1996-01-01T00:30:00 ... 2010-12-31T23:30:00\n",
       "  * p              (p) float32 1000.0 975.0 950.0 925.0 ... 150.0 125.0 100.0\n",
       "Data variables:\n",
       "    prec_sfc_next  (time) float32 ...\n",
       "    T_sfc          (time) float32 ...\n",
       "    p_sfc          (time) float32 ...\n",
       "    rh_sfc         (time) float32 ...\n",
       "    u_sfc          (time) float32 ...\n",
       "    v_sfc          (time) float32 ...\n",
       "    prec_sfc       (time) float32 ...\n",
       "    T_p            (time, p) float32 ...\n",
       "    rh_p           (time, p) float32 ...\n",
       "    u_p            (time, p) float32 ...\n",
       "    v_p            (time, p) float32 ..."
      ]
     },
     "execution_count": 3,
     "metadata": {},
     "output_type": "execute_result"
    }
   ],
   "source": [
    "# Get file\n",
    "file_name = 'twparmbeatmC1.cdf'\n",
    "FILE_PATH = get_file_path(file_name)\n",
    "\n",
    "# Import data\n",
    "armbeatm = import_DS(FILE_PATH)\n",
    "armbeatm"
   ]
  },
  {
   "cell_type": "code",
   "execution_count": 4,
   "metadata": {
    "ExecuteTime": {
     "end_time": "2019-02-13T22:23:24.239462Z",
     "start_time": "2019-02-13T22:23:23.928878Z"
    }
   },
   "outputs": [
    {
     "data": {
      "text/plain": [
       "<xarray.Dataset>\n",
       "Dimensions:                       (time: 8904960)\n",
       "Coordinates:\n",
       "  * time                          (time) datetime64[ns] 1996-10-10 ... 2014-07-06T23:59:00\n",
       "Data variables:\n",
       "    down_short_diffuse_hemisp     (time) float32 ...\n",
       "    qc_down_short_diffuse_hemisp  (time) int32 ..."
      ]
     },
     "execution_count": 4,
     "metadata": {},
     "output_type": "execute_result"
    }
   ],
   "source": [
    "# Get file\n",
    "file_name = 'twpqcrad1longC1.cdf'\n",
    "FILE_PATH = get_file_path(file_name)\n",
    "\n",
    "# Import data\n",
    "qcrad = import_DS(FILE_PATH)\n",
    "qcrad"
   ]
  },
  {
   "cell_type": "code",
   "execution_count": 5,
   "metadata": {
    "ExecuteTime": {
     "end_time": "2019-02-13T22:23:24.284267Z",
     "start_time": "2019-02-13T22:23:24.242300Z"
    }
   },
   "outputs": [
    {
     "data": {
      "text/plain": [
       "204901"
      ]
     },
     "execution_count": 5,
     "metadata": {},
     "output_type": "execute_result"
    }
   ],
   "source": [
    "np.isnan(qcrad['down_short_diffuse_hemisp'].values).sum()"
   ]
  },
  {
   "cell_type": "code",
   "execution_count": 6,
   "metadata": {
    "ExecuteTime": {
     "end_time": "2019-02-13T22:23:24.325574Z",
     "start_time": "2019-02-13T22:23:24.286645Z"
    }
   },
   "outputs": [
    {
     "data": {
      "text/plain": [
       "0.0"
      ]
     },
     "execution_count": 6,
     "metadata": {},
     "output_type": "execute_result"
    }
   ],
   "source": [
    "np.isnan(qcrad['qc_down_short_diffuse_hemisp'].values).mean()"
   ]
  },
  {
   "cell_type": "markdown",
   "metadata": {},
   "source": [
    "# Data Filtering"
   ]
  },
  {
   "cell_type": "code",
   "execution_count": 7,
   "metadata": {
    "ExecuteTime": {
     "end_time": "2019-02-13T22:23:24.332474Z",
     "start_time": "2019-02-13T22:23:24.327697Z"
    }
   },
   "outputs": [],
   "source": [
    "def np_filter(np_array, qc_array, good_class=0):\n",
    "    if np_array.size != qc_array.size:\n",
    "        raise Exception('Input arrays should have the same sizes.')\n",
    "    else:\n",
    "        return np.asarray([np_array[i] if qc_array[i] == good_class else np.nan for i in range(0,np_array.size)])"
   ]
  },
  {
   "cell_type": "code",
   "execution_count": 8,
   "metadata": {
    "ExecuteTime": {
     "end_time": "2019-02-13T22:23:24.366400Z",
     "start_time": "2019-02-13T22:23:24.334384Z"
    }
   },
   "outputs": [
    {
     "data": {
      "text/plain": [
       "278213"
      ]
     },
     "execution_count": 8,
     "metadata": {},
     "output_type": "execute_result"
    }
   ],
   "source": [
    "# class 0 is good, class 1 is suspicious, class 2/3 are bad and missing\n",
    "# Number of NaN and class 1\n",
    "np.isnan(qcrad['down_short_diffuse_hemisp'].values).sum() + (qcrad['qc_down_short_diffuse_hemisp'].values == 1).sum()"
   ]
  },
  {
   "cell_type": "code",
   "execution_count": 9,
   "metadata": {
    "ExecuteTime": {
     "end_time": "2019-02-13T22:23:54.199047Z",
     "start_time": "2019-02-13T22:23:24.369106Z"
    }
   },
   "outputs": [
    {
     "name": "stdout",
     "output_type": "stream",
     "text": [
      "278213\n"
     ]
    },
    {
     "data": {
      "text/plain": [
       "array([407.3999939 , 407.5083313 , 414.06466675, ..., 298.5       ,\n",
       "       289.20001221, 291.89001465])"
      ]
     },
     "execution_count": 9,
     "metadata": {},
     "output_type": "execute_result"
    }
   ],
   "source": [
    "# After filtering, number of NaN should be the same as the number above (hurray!)\n",
    "np_filtered = np_filter(qcrad['down_short_diffuse_hemisp'].values, \n",
    "                        qcrad['qc_down_short_diffuse_hemisp'].values)\n",
    "print(np.isnan(np_filtered).sum())\n",
    "np_filtered"
   ]
  },
  {
   "cell_type": "code",
   "execution_count": 10,
   "metadata": {
    "ExecuteTime": {
     "end_time": "2019-02-13T22:23:54.217616Z",
     "start_time": "2019-02-13T22:23:54.201072Z"
    }
   },
   "outputs": [
    {
     "data": {
      "text/plain": [
       "127589"
      ]
     },
     "execution_count": 10,
     "metadata": {},
     "output_type": "execute_result"
    }
   ],
   "source": [
    "(qcrad['qc_down_short_diffuse_hemisp'].values == 2).sum()"
   ]
  },
  {
   "cell_type": "code",
   "execution_count": 11,
   "metadata": {
    "ExecuteTime": {
     "end_time": "2019-02-13T22:23:54.232219Z",
     "start_time": "2019-02-13T22:23:54.219373Z"
    }
   },
   "outputs": [
    {
     "data": {
      "text/plain": [
       "16389709.0"
      ]
     },
     "execution_count": 11,
     "metadata": {},
     "output_type": "execute_result"
    }
   ],
   "source": [
    "qcrad['down_short_diffuse_hemisp'].values[qcrad['qc_down_short_diffuse_hemisp'].values == 1].sum()"
   ]
  },
  {
   "cell_type": "code",
   "execution_count": 12,
   "metadata": {
    "ExecuteTime": {
     "end_time": "2019-02-13T22:23:54.243182Z",
     "start_time": "2019-02-13T22:23:54.233782Z"
    }
   },
   "outputs": [
    {
     "data": {
      "text/plain": [
       "<xarray.DataArray 'down_short_diffuse_hemisp' (time: 8904960)>\n",
       "array([407.399994, 407.508331, 414.064667, ..., 298.5     , 289.200012,\n",
       "       291.890015])\n",
       "Coordinates:\n",
       "  * time     (time) datetime64[ns] 1996-10-10 ... 2014-07-06T23:59:00"
      ]
     },
     "execution_count": 12,
     "metadata": {},
     "output_type": "execute_result"
    }
   ],
   "source": [
    "da = xr.DataArray(np_filtered, coords=[('time', qcrad.time)], name='down_short_diffuse_hemisp')\n",
    "da"
   ]
  },
  {
   "cell_type": "markdown",
   "metadata": {},
   "source": [
    "# Merge"
   ]
  },
  {
   "cell_type": "code",
   "execution_count": null,
   "metadata": {
    "ExecuteTime": {
     "start_time": "2019-02-13T22:23:20.615Z"
    }
   },
   "outputs": [],
   "source": [
    "DS = xr.merge([armbeatm, da]).dropna(dim='time')\n",
    "DS"
   ]
  },
  {
   "cell_type": "code",
   "execution_count": 1,
   "metadata": {
    "ExecuteTime": {
     "end_time": "2019-02-13T22:29:16.248747Z",
     "start_time": "2019-02-13T22:29:16.244328Z"
    }
   },
   "outputs": [],
   "source": [
    "def save_netcdf(DS, FILE_PATH):\n",
    "    DS.to_netcdf(FILE_PATH)\n",
    "    print('Saved.')\n",
    "    return None\n",
    "\n",
    "\n",
    "def get_save_file_path(file_name, stage=1):\n",
    "    CURRENT_DIR = os.getcwd()\n",
    "    DATA_DIR = f'{CURRENT_DIR}/../../../data/stage-{stage}_cleaned'\n",
    "    FILE_PATH = f'{DATA_DIR}/{file_name}'\n",
    "    return FILE_PATH"
   ]
  },
  {
   "cell_type": "code",
   "execution_count": null,
   "metadata": {},
   "outputs": [],
   "source": [
    "# Save file\n",
    "file_name = 'merged_dropped.cdf'\n",
    "FILE_PATH = get_save_file_path(file_name)\n",
    "\n",
    "save_netcdf(DS, FILE_PATH)"
   ]
  }
 ],
 "metadata": {
  "hide_input": false,
  "kernelspec": {
   "display_name": "Python 3",
   "language": "python",
   "name": "python3"
  },
  "language_info": {
   "codemirror_mode": {
    "name": "ipython",
    "version": 3
   },
   "file_extension": ".py",
   "mimetype": "text/x-python",
   "name": "python",
   "nbconvert_exporter": "python",
   "pygments_lexer": "ipython3",
   "version": "3.6.8"
  },
  "toc": {
   "base_numbering": 1,
   "nav_menu": {},
   "number_sections": true,
   "sideBar": true,
   "skip_h1_title": false,
   "title_cell": "Table of Contents",
   "title_sidebar": "Contents",
   "toc_cell": false,
   "toc_position": {},
   "toc_section_display": true,
   "toc_window_display": false
  },
  "varInspector": {
   "cols": {
    "lenName": 16,
    "lenType": 16,
    "lenVar": 40
   },
   "kernels_config": {
    "python": {
     "delete_cmd_postfix": "",
     "delete_cmd_prefix": "del ",
     "library": "var_list.py",
     "varRefreshCmd": "print(var_dic_list())"
    },
    "r": {
     "delete_cmd_postfix": ") ",
     "delete_cmd_prefix": "rm(",
     "library": "var_list.r",
     "varRefreshCmd": "cat(var_dic_list()) "
    }
   },
   "types_to_exclude": [
    "module",
    "function",
    "builtin_function_or_method",
    "instance",
    "_Feature"
   ],
   "window_display": true
  }
 },
 "nbformat": 4,
 "nbformat_minor": 2
}

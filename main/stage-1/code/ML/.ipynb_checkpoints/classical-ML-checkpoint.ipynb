{
 "cells": [
  {
   "cell_type": "markdown",
   "metadata": {
    "hide_input": true
   },
   "source": [
    "# Libraries"
   ]
  },
  {
   "cell_type": "markdown",
   "metadata": {},
   "source": [
    "Import libraries, set random seed, define rainy threshold"
   ]
  },
  {
   "cell_type": "code",
   "execution_count": 1,
   "metadata": {
    "ExecuteTime": {
     "end_time": "2019-02-13T22:42:04.665402Z",
     "start_time": "2019-02-13T22:41:58.234292Z"
    }
   },
   "outputs": [
    {
     "name": "stdout",
     "output_type": "stream",
     "text": [
      "All packages imported.\n"
     ]
    }
   ],
   "source": [
    "import os\n",
    "\n",
    "import numpy as np\n",
    "import pandas as pd\n",
    "from math import floor, ceil\n",
    "\n",
    "import matplotlib.pyplot as plt\n",
    "import seaborn as sns\n",
    "\n",
    "import xarray as xr\n",
    "import tensorflow as tf\n",
    "\n",
    "print('All packages imported.')"
   ]
  },
  {
   "cell_type": "code",
   "execution_count": 2,
   "metadata": {
    "ExecuteTime": {
     "end_time": "2019-02-13T22:42:04.682619Z",
     "start_time": "2019-02-13T22:42:04.679298Z"
    }
   },
   "outputs": [
    {
     "name": "stdout",
     "output_type": "stream",
     "text": [
      "Random seed set as 42.\n"
     ]
    }
   ],
   "source": [
    "# Random seed for reproducibility\n",
    "\n",
    "seed = 42\n",
    "print(f'Random seed set as {seed}.')"
   ]
  },
  {
   "cell_type": "code",
   "execution_count": 3,
   "metadata": {
    "ExecuteTime": {
     "end_time": "2019-02-13T22:42:04.698891Z",
     "start_time": "2019-02-13T22:42:04.695098Z"
    }
   },
   "outputs": [
    {
     "name": "stdout",
     "output_type": "stream",
     "text": [
      "Threshold of rainy event is 0 mm/hr\n",
      "Classification\n"
     ]
    }
   ],
   "source": [
    "# Set threshold of rainy events\n",
    "classification = True\n",
    "\n",
    "prec_threshold = 0\n",
    "print(f'Threshold of rainy event is {prec_threshold} mm/hr')\n",
    "print('Classification' if classification else 'Regression')"
   ]
  },
  {
   "cell_type": "markdown",
   "metadata": {},
   "source": [
    "# Data Import"
   ]
  },
  {
   "cell_type": "code",
   "execution_count": 4,
   "metadata": {
    "ExecuteTime": {
     "end_time": "2019-02-13T22:42:04.714712Z",
     "start_time": "2019-02-13T22:42:04.710427Z"
    }
   },
   "outputs": [],
   "source": [
    "def get_file_path(file_name):\n",
    "    CURRENT_DIR = os.getcwd()\n",
    "    DATA_DIR = f'{CURRENT_DIR}/../../../data/stage-1_cleaned'\n",
    "    FILE_PATH = f'{DATA_DIR}/{file_name}'\n",
    "    return FILE_PATH\n",
    "\n",
    "\n",
    "def import_DS(FILE_PATH):\n",
    "    return xr.open_dataset(FILE_PATH)\n",
    "\n",
    "def DS_dropna(DS):\n",
    "    return DS.dropna(dim='time')"
   ]
  },
  {
   "cell_type": "code",
   "execution_count": 5,
   "metadata": {
    "ExecuteTime": {
     "end_time": "2019-02-13T22:42:05.896702Z",
     "start_time": "2019-02-13T22:42:05.708813Z"
    }
   },
   "outputs": [
    {
     "data": {
      "text/plain": [
       "<xarray.Dataset>\n",
       "Dimensions:                    (p: 37, time: 4759)\n",
       "Coordinates:\n",
       "  * time                       (time) datetime64[ns] 1997-08-28T04:30:00 ... 2010-08-25T23:30:00\n",
       "  * p                          (p) float32 1000.0 975.0 950.0 ... 125.0 100.0\n",
       "Data variables:\n",
       "    prec_sfc_next              (time) float32 ...\n",
       "    T_sfc                      (time) float32 ...\n",
       "    p_sfc                      (time) float32 ...\n",
       "    rh_sfc                     (time) float32 ...\n",
       "    u_sfc                      (time) float32 ...\n",
       "    v_sfc                      (time) float32 ...\n",
       "    prec_sfc                   (time) float32 ...\n",
       "    T_p                        (time, p) float32 ...\n",
       "    rh_p                       (time, p) float32 ...\n",
       "    u_p                        (time, p) float32 ...\n",
       "    v_p                        (time, p) float32 ...\n",
       "    down_short_diffuse_hemisp  (time) float64 ..."
      ]
     },
     "execution_count": 5,
     "metadata": {},
     "output_type": "execute_result"
    }
   ],
   "source": [
    "FILE_PATH = get_file_path(file_name='merged_dropped.cdf')\n",
    "DS_raw = import_DS(FILE_PATH)\n",
    "DS_raw"
   ]
  },
  {
   "cell_type": "code",
   "execution_count": 6,
   "metadata": {
    "ExecuteTime": {
     "end_time": "2019-02-13T22:42:21.785981Z",
     "start_time": "2019-02-13T22:42:21.753669Z"
    }
   },
   "outputs": [
    {
     "data": {
      "text/plain": [
       "<xarray.Dataset>\n",
       "Dimensions:                    (p: 37, time: 4759)\n",
       "Coordinates:\n",
       "  * time                       (time) datetime64[ns] 1997-08-28T04:30:00 ... 2010-08-25T23:30:00\n",
       "  * p                          (p) float32 1000.0 975.0 950.0 ... 125.0 100.0\n",
       "Data variables:\n",
       "    prec_sfc_next              (time) float32 0.04966664 0.04999997 ... 0.0 0.0\n",
       "    T_sfc                      (time) float32 300.92734 301.03537 ... 299.10202\n",
       "    p_sfc                      (time) float32 1008.7901 ... 1010.95233\n",
       "    rh_sfc                     (time) float32 80.57 72.501755 ... 87.67273\n",
       "    u_sfc                      (time) float32 -2.7884665 ... -1.1461726\n",
       "    v_sfc                      (time) float32 4.551383 5.972651 ... 2.0953407\n",
       "    prec_sfc                   (time) float32 0.047666643 ... 0.44877273\n",
       "    T_p                        (time, p) float32 299.9794 297.85 ... 195.81091\n",
       "    rh_p                       (time, p) float32 72.117645 ... 21.037518\n",
       "    u_p                        (time, p) float32 -2.8401828 ... -8.03497\n",
       "    v_p                        (time, p) float32 4.7782855 ... 2.6448529\n",
       "    down_short_diffuse_hemisp  (time) float64 191.3 210.8 ... -0.2421 175.1"
      ]
     },
     "execution_count": 6,
     "metadata": {},
     "output_type": "execute_result"
    }
   ],
   "source": [
    "DS = DS_dropna(DS_raw)\n",
    "DS"
   ]
  },
  {
   "cell_type": "markdown",
   "metadata": {},
   "source": [
    "# Data Pre-processing"
   ]
  },
  {
   "cell_type": "code",
   "execution_count": 7,
   "metadata": {
    "ExecuteTime": {
     "end_time": "2019-02-13T22:42:54.189595Z",
     "start_time": "2019-02-13T22:42:54.179708Z"
    }
   },
   "outputs": [],
   "source": [
    "str_y = 'prec_sfc_next'\n",
    "str_x_scalar = ['T_sfc', 'p_sfc', 'rh_sfc', 'u_sfc', 'v_sfc', 'prec_sfc', 'down_short_diffuse_hemisp']\n",
    "str_x_1d = ['T_p', 'rh_p', 'u_p', 'v_p']\n",
    "plev = DS['p'].values.astype(float)  # array of pressure level\n",
    "\n",
    "def extract(DS, str_y=str_y, str_x_scalar=str_x_scalar):\n",
    "    return DS[str_y].to_dataframe().values, DS[str_x_scalar].to_dataframe().values\n",
    "\n",
    "\n",
    "def merge_channels(DS, str_x_1d=str_x_1d):\n",
    "    channels = [DS[str_x_1d[i]].to_dataframe().unstack(level=-1)\n",
    "                for i in range(0, len(str_x_1d))]\n",
    "    X_conv = np.expand_dims(channels[0].values, axis=2)\n",
    "\n",
    "    for channel in channels[1:]:\n",
    "        channel = np.expand_dims(channel.values, axis=2)\n",
    "        X_conv = np.append(X_conv, channel, axis=2)\n",
    "\n",
    "    return X_conv"
   ]
  },
  {
   "cell_type": "code",
   "execution_count": 8,
   "metadata": {
    "ExecuteTime": {
     "end_time": "2019-02-13T22:42:54.868581Z",
     "start_time": "2019-02-13T22:42:54.854293Z"
    }
   },
   "outputs": [
    {
     "name": "stdout",
     "output_type": "stream",
     "text": [
      "(4759, 1)\n",
      "(4759, 7)\n"
     ]
    }
   ],
   "source": [
    "y, X_scalar = extract(DS)\n",
    "print(y.shape)\n",
    "print(X_scalar.shape)"
   ]
  },
  {
   "cell_type": "code",
   "execution_count": 9,
   "metadata": {
    "ExecuteTime": {
     "end_time": "2019-02-13T22:42:55.530315Z",
     "start_time": "2019-02-13T22:42:55.383046Z"
    }
   },
   "outputs": [
    {
     "data": {
      "text/plain": [
       "(4759, 37, 4)"
      ]
     },
     "execution_count": 9,
     "metadata": {},
     "output_type": "execute_result"
    }
   ],
   "source": [
    "X_conv = merge_channels(DS)\n",
    "X_conv.shape"
   ]
  },
  {
   "cell_type": "code",
   "execution_count": 12,
   "metadata": {
    "ExecuteTime": {
     "end_time": "2019-02-13T22:43:23.389517Z",
     "start_time": "2019-02-13T22:43:23.386198Z"
    }
   },
   "outputs": [
    {
     "name": "stdout",
     "output_type": "stream",
     "text": [
      "1 class ratio= 48.60%\n"
     ]
    }
   ],
   "source": [
    "binary = y > prec_threshold\n",
    "print('1 class ratio= {:.2%}'.format(binary.mean()))"
   ]
  },
  {
   "cell_type": "markdown",
   "metadata": {},
   "source": [
    "# Data Standardization"
   ]
  },
  {
   "cell_type": "code",
   "execution_count": 10,
   "metadata": {
    "ExecuteTime": {
     "end_time": "2019-02-13T22:42:58.990884Z",
     "start_time": "2019-02-13T22:42:58.981235Z"
    }
   },
   "outputs": [],
   "source": [
    "def split(binary, y, X_scalar, X_conv, train_size=0.7, seed=seed):\n",
    "    from sklearn.model_selection import train_test_split\n",
    "    train_binary, test_binary, train_y, test_y, train_X_scalar, test_X_scalar, train_X_conv, test_X_conv = train_test_split(binary, y, X_scalar, X_conv,\n",
    "                                                                                                                            train_size=train_size,\n",
    "                                                                                                                            random_state=seed,\n",
    "                                                                                                                            shuffle=True,\n",
    "                                                                                                                            stratify=None)\n",
    "    return train_binary, test_binary, train_y, test_y, train_X_scalar, test_X_scalar, train_X_conv, test_X_conv\n",
    "\n",
    "\n",
    "def standardize(train, test):\n",
    "    from sklearn.preprocessing import StandardScaler\n",
    "    scaler = StandardScaler()\n",
    "\n",
    "    train = scaler.fit_transform(train)\n",
    "    test = scaler.transform(test)\n",
    "    return train, test, scaler\n",
    "\n",
    "\n",
    "def standardize_3d(train, test):\n",
    "    from sklearn.preprocessing import StandardScaler\n",
    "    scalers = {}\n",
    "    for i in range(train.shape[2]):\n",
    "        scalers[i] = StandardScaler()\n",
    "        train[:, :, i] = scalers[i].fit_transform(train[:, :, i])\n",
    "\n",
    "    for i in range(test.shape[2]):\n",
    "        test[:, :, i] = scalers[i].transform(test[:, :, i])\n",
    "\n",
    "    return train, test, scalers"
   ]
  },
  {
   "cell_type": "code",
   "execution_count": 13,
   "metadata": {
    "ExecuteTime": {
     "end_time": "2019-02-13T22:43:27.220408Z",
     "start_time": "2019-02-13T22:43:26.388886Z"
    }
   },
   "outputs": [
    {
     "name": "stderr",
     "output_type": "stream",
     "text": [
      "/scratch/s1895566/miniconda/base/envs/venv/lib/python3.6/site-packages/sklearn/model_selection/_split.py:2026: FutureWarning: From version 0.21, test_size will always complement train_size unless both are specified.\n",
      "  FutureWarning)\n"
     ]
    }
   ],
   "source": [
    "# train-test split\n",
    "train_binary, test_binary, train_y, test_y, train_X_scalar, test_X_scalar, train_X_conv, test_X_conv = split(\n",
    "    binary, y, X_scalar, X_conv)"
   ]
  },
  {
   "cell_type": "code",
   "execution_count": 14,
   "metadata": {
    "ExecuteTime": {
     "end_time": "2019-02-13T22:43:29.146092Z",
     "start_time": "2019-02-13T22:43:29.055883Z"
    }
   },
   "outputs": [],
   "source": [
    "# standardize\n",
    "train_y, test_y, scaler_y = standardize(train_y, test_y)\n",
    "train_X_scalar, test_X_scalar, scaler_X_scalar = standardize(train_X_scalar, test_X_scalar)\n",
    "train_X_conv, test_X_conv, scalers_X_conv = standardize_3d(train_X_conv, test_X_conv)"
   ]
  },
  {
   "cell_type": "markdown",
   "metadata": {},
   "source": [
    "# Neural Network Training"
   ]
  },
  {
   "cell_type": "code",
   "execution_count": 15,
   "metadata": {
    "ExecuteTime": {
     "end_time": "2019-02-13T22:43:30.307288Z",
     "start_time": "2019-02-13T22:43:30.167442Z"
    }
   },
   "outputs": [
    {
     "name": "stderr",
     "output_type": "stream",
     "text": [
      "Using TensorFlow backend.\n"
     ]
    }
   ],
   "source": [
    "from keras.models import Model\n",
    "from keras.layers import Activation, BatchNormalization, Conv1D, Dense, Dropout, MaxPooling1D\n",
    "from keras.layers import concatenate, Flatten, Input\n",
    "from keras.optimizers import Adam\n",
    "from keras.utils import plot_model\n",
    "from keras import regularizers"
   ]
  },
  {
   "cell_type": "code",
   "execution_count": 19,
   "metadata": {
    "ExecuteTime": {
     "end_time": "2019-02-13T22:45:23.310740Z",
     "start_time": "2019-02-13T22:45:22.623750Z"
    }
   },
   "outputs": [
    {
     "name": "stdout",
     "output_type": "stream",
     "text": [
      "__________________________________________________________________________________________________\n",
      "Layer (type)                    Output Shape         Param #     Connected to                     \n",
      "==================================================================================================\n",
      "column_input (InputLayer)       (None, 37, 4)        0                                            \n",
      "__________________________________________________________________________________________________\n",
      "conv1d_3 (Conv1D)               (None, 32, 16)       400         column_input[0][0]               \n",
      "__________________________________________________________________________________________________\n",
      "batch_normalization_3 (BatchNor (None, 32, 16)       64          conv1d_3[0][0]                   \n",
      "__________________________________________________________________________________________________\n",
      "max_pooling1d_3 (MaxPooling1D)  (None, 8, 16)        0           batch_normalization_3[0][0]      \n",
      "__________________________________________________________________________________________________\n",
      "activation_3 (Activation)       (None, 8, 16)        0           max_pooling1d_3[0][0]            \n",
      "__________________________________________________________________________________________________\n",
      "conv1d_4 (Conv1D)               (None, 5, 8)         520         activation_3[0][0]               \n",
      "__________________________________________________________________________________________________\n",
      "batch_normalization_4 (BatchNor (None, 5, 8)         32          conv1d_4[0][0]                   \n",
      "__________________________________________________________________________________________________\n",
      "max_pooling1d_4 (MaxPooling1D)  (None, 1, 8)         0           batch_normalization_4[0][0]      \n",
      "__________________________________________________________________________________________________\n",
      "activation_4 (Activation)       (None, 1, 8)         0           max_pooling1d_4[0][0]            \n",
      "__________________________________________________________________________________________________\n",
      "flatten_2 (Flatten)             (None, 8)            0           activation_4[0][0]               \n",
      "__________________________________________________________________________________________________\n",
      "surface_input (InputLayer)      (None, 7)            0                                            \n",
      "__________________________________________________________________________________________________\n",
      "concatenate_2 (Concatenate)     (None, 15)           0           flatten_2[0][0]                  \n",
      "                                                                 surface_input[0][0]              \n",
      "__________________________________________________________________________________________________\n",
      "output (Dense)                  (None, 1)            16          concatenate_2[0][0]              \n",
      "==================================================================================================\n",
      "Total params: 1,032\n",
      "Trainable params: 984\n",
      "Non-trainable params: 48\n",
      "__________________________________________________________________________________________________\n",
      "None\n"
     ]
    }
   ],
   "source": [
    "final_activation, loss_metric, show_metric, labels = [\n",
    "    'sigmoid', 'binary_crossentropy', ['accuracy'], train_binary] if classification else ['relu', 'mean_squared_error', None, train_y]\n",
    "\n",
    "\n",
    "# Input placeholders\n",
    "input_conv = Input(shape=train_X_conv.shape[1:], name='column_input')\n",
    "input_scalar = Input(shape=(train_X_scalar.shape[1],), name='surface_input')\n",
    "\n",
    "# Hidden layers\n",
    "conv_1 = Conv1D(16, kernel_size=6)(input_conv)\n",
    "bn_1 = BatchNormalization()(conv_1)\n",
    "pool_1 = MaxPooling1D(pool_size=4)(bn_1)\n",
    "act_1 = Activation('relu')(pool_1)\n",
    "\n",
    "conv_2 = Conv1D(8, kernel_size=4)(act_1)\n",
    "bn_2 = BatchNormalization()(conv_2)\n",
    "pool_2 = MaxPooling1D(pool_size=5)(bn_2)\n",
    "act_2 = Activation('relu')(pool_2)\n",
    "\n",
    "flatten_2 = Flatten()(act_2)\n",
    "\n",
    "layer = concatenate([flatten_2, input_scalar])\n",
    "#layer = Dense(4, activation='relu')(layer)\n",
    "\n",
    "output = Dense(1,\n",
    "               kernel_regularizer=regularizers.l2(0.02),\n",
    "               activation=final_activation,\n",
    "               name='output')(layer)\n",
    "\n",
    "# 1. Initialize\n",
    "model = Model(inputs=[input_conv, input_scalar], outputs=output)\n",
    "plot_model(model, show_shapes=True, to_file='model.png')\n",
    "print(model.summary())"
   ]
  },
  {
   "cell_type": "code",
   "execution_count": 17,
   "metadata": {
    "ExecuteTime": {
     "end_time": "2019-02-13T22:43:40.505047Z",
     "start_time": "2019-02-13T22:43:40.464180Z"
    }
   },
   "outputs": [],
   "source": [
    "# 2. Compile\n",
    "model.compile(optimizer=Adam(),\n",
    "              loss=loss_metric,\n",
    "              metrics=show_metric)"
   ]
  },
  {
   "cell_type": "code",
   "execution_count": 18,
   "metadata": {
    "ExecuteTime": {
     "end_time": "2019-02-13T22:45:13.595556Z",
     "start_time": "2019-02-13T22:43:42.338171Z"
    }
   },
   "outputs": [
    {
     "name": "stdout",
     "output_type": "stream",
     "text": [
      "Epoch 1/5000\n",
      " - 1s - loss: 0.7481 - acc: 0.5536\n",
      "Epoch 2/5000\n",
      " - 0s - loss: 0.6985 - acc: 0.5725\n",
      "Epoch 3/5000\n",
      " - 0s - loss: 0.6755 - acc: 0.6022\n",
      "Epoch 4/5000\n",
      " - 0s - loss: 0.6631 - acc: 0.6187\n",
      "Epoch 5/5000\n",
      " - 0s - loss: 0.6501 - acc: 0.6403\n",
      "Epoch 6/5000\n",
      " - 0s - loss: 0.6406 - acc: 0.6512\n",
      "Epoch 7/5000\n",
      " - 0s - loss: 0.6344 - acc: 0.6614\n",
      "Epoch 8/5000\n",
      " - 0s - loss: 0.6265 - acc: 0.6770\n",
      "Epoch 9/5000\n",
      " - 0s - loss: 0.6219 - acc: 0.6854\n",
      "Epoch 10/5000\n",
      " - 0s - loss: 0.6183 - acc: 0.6764\n",
      "Epoch 11/5000\n",
      " - 0s - loss: 0.6177 - acc: 0.6851\n",
      "Epoch 12/5000\n",
      " - 0s - loss: 0.6112 - acc: 0.6887\n",
      "Epoch 13/5000\n",
      " - 0s - loss: 0.6097 - acc: 0.6884\n",
      "Epoch 14/5000\n",
      " - 0s - loss: 0.6058 - acc: 0.7082\n",
      "Epoch 15/5000\n",
      " - 0s - loss: 0.6039 - acc: 0.6995\n",
      "Epoch 16/5000\n",
      " - 0s - loss: 0.6020 - acc: 0.6974\n",
      "Epoch 17/5000\n",
      " - 0s - loss: 0.6036 - acc: 0.6962\n",
      "Epoch 18/5000\n",
      " - 0s - loss: 0.5986 - acc: 0.7052\n",
      "Epoch 19/5000\n",
      " - 0s - loss: 0.5958 - acc: 0.7076\n",
      "Epoch 20/5000\n",
      " - 0s - loss: 0.5929 - acc: 0.7079\n",
      "Epoch 21/5000\n",
      " - 0s - loss: 0.5900 - acc: 0.7178\n",
      "Epoch 22/5000\n",
      " - 0s - loss: 0.5859 - acc: 0.7205\n",
      "Epoch 23/5000\n",
      " - 0s - loss: 0.5873 - acc: 0.7160\n",
      "Epoch 24/5000\n",
      " - 0s - loss: 0.5825 - acc: 0.7250\n",
      "Epoch 25/5000\n",
      " - 0s - loss: 0.5800 - acc: 0.7214\n",
      "Epoch 26/5000\n",
      " - 0s - loss: 0.5780 - acc: 0.7166\n",
      "Epoch 27/5000\n",
      " - 0s - loss: 0.5797 - acc: 0.7250\n",
      "Epoch 28/5000\n",
      " - 0s - loss: 0.5745 - acc: 0.7340\n",
      "Epoch 29/5000\n",
      " - 0s - loss: 0.5696 - acc: 0.7310\n",
      "Epoch 30/5000\n",
      " - 0s - loss: 0.5710 - acc: 0.7250\n",
      "Epoch 31/5000\n",
      " - 0s - loss: 0.5681 - acc: 0.7361\n",
      "Epoch 32/5000\n",
      " - 0s - loss: 0.5691 - acc: 0.7262\n",
      "Epoch 33/5000\n",
      " - 0s - loss: 0.5603 - acc: 0.7364\n",
      "Epoch 34/5000\n",
      " - 0s - loss: 0.5625 - acc: 0.7391\n",
      "Epoch 35/5000\n",
      " - 0s - loss: 0.5641 - acc: 0.7355\n",
      "Epoch 36/5000\n",
      " - 0s - loss: 0.5605 - acc: 0.7328\n",
      "Epoch 37/5000\n",
      " - 0s - loss: 0.5589 - acc: 0.7400\n",
      "Epoch 38/5000\n",
      " - 0s - loss: 0.5564 - acc: 0.7361\n",
      "Epoch 39/5000\n",
      " - 0s - loss: 0.5530 - acc: 0.7427\n",
      "Epoch 40/5000\n",
      " - 0s - loss: 0.5523 - acc: 0.7472\n",
      "Epoch 41/5000\n",
      " - 0s - loss: 0.5460 - acc: 0.7514\n",
      "Epoch 42/5000\n",
      " - 0s - loss: 0.5487 - acc: 0.7355\n",
      "Epoch 43/5000\n",
      " - 0s - loss: 0.5475 - acc: 0.7508\n",
      "Epoch 44/5000\n",
      " - 0s - loss: 0.5460 - acc: 0.7505\n",
      "Epoch 45/5000\n",
      " - 0s - loss: 0.5378 - acc: 0.7526\n",
      "Epoch 46/5000\n",
      " - 0s - loss: 0.5406 - acc: 0.7553\n",
      "Epoch 47/5000\n",
      " - 0s - loss: 0.5383 - acc: 0.7586\n",
      "Epoch 48/5000\n",
      " - 0s - loss: 0.5405 - acc: 0.7493\n",
      "Epoch 49/5000\n",
      " - 0s - loss: 0.5422 - acc: 0.7508\n",
      "Epoch 50/5000\n",
      " - 0s - loss: 0.5364 - acc: 0.7571\n",
      "Epoch 51/5000\n",
      " - 0s - loss: 0.5334 - acc: 0.7622\n",
      "Epoch 52/5000\n",
      " - 0s - loss: 0.5327 - acc: 0.7619\n",
      "Epoch 53/5000\n",
      " - 0s - loss: 0.5329 - acc: 0.7577\n",
      "Epoch 54/5000\n",
      " - 0s - loss: 0.5309 - acc: 0.7625\n",
      "Epoch 55/5000\n",
      " - 0s - loss: 0.5344 - acc: 0.7607\n",
      "Epoch 56/5000\n",
      " - 0s - loss: 0.5257 - acc: 0.7640\n",
      "Epoch 57/5000\n",
      " - 0s - loss: 0.5275 - acc: 0.7613\n",
      "Epoch 58/5000\n",
      " - 0s - loss: 0.5279 - acc: 0.7571\n",
      "Epoch 59/5000\n",
      " - 0s - loss: 0.5241 - acc: 0.7673\n",
      "Epoch 60/5000\n",
      " - 0s - loss: 0.5277 - acc: 0.7679\n",
      "Epoch 61/5000\n",
      " - 0s - loss: 0.5252 - acc: 0.7727\n",
      "Epoch 62/5000\n",
      " - 0s - loss: 0.5273 - acc: 0.7580\n",
      "Epoch 63/5000\n",
      " - 0s - loss: 0.5181 - acc: 0.7640\n",
      "Epoch 64/5000\n",
      " - 0s - loss: 0.5161 - acc: 0.7754\n",
      "Epoch 65/5000\n",
      " - 0s - loss: 0.5180 - acc: 0.7664\n",
      "Epoch 66/5000\n",
      " - 0s - loss: 0.5157 - acc: 0.7763\n",
      "Epoch 67/5000\n",
      " - 0s - loss: 0.5158 - acc: 0.7670\n",
      "Epoch 68/5000\n",
      " - 0s - loss: 0.5117 - acc: 0.7760\n",
      "Epoch 69/5000\n",
      " - 0s - loss: 0.5082 - acc: 0.7757\n",
      "Epoch 70/5000\n",
      " - 0s - loss: 0.5121 - acc: 0.7784\n",
      "Epoch 71/5000\n",
      " - 0s - loss: 0.5146 - acc: 0.7709\n",
      "Epoch 72/5000\n",
      " - 0s - loss: 0.5118 - acc: 0.7724\n",
      "Epoch 73/5000\n",
      " - 0s - loss: 0.5070 - acc: 0.7787\n",
      "Epoch 74/5000\n",
      " - 0s - loss: 0.5022 - acc: 0.7850\n",
      "Epoch 75/5000\n",
      " - 0s - loss: 0.5049 - acc: 0.7796\n",
      "Epoch 76/5000\n",
      " - 0s - loss: 0.5061 - acc: 0.7778\n",
      "Epoch 77/5000\n",
      " - 0s - loss: 0.5106 - acc: 0.7667\n",
      "Epoch 78/5000\n",
      " - 0s - loss: 0.5045 - acc: 0.7832\n",
      "Epoch 79/5000\n",
      " - 0s - loss: 0.5061 - acc: 0.7790\n",
      "Epoch 80/5000\n",
      " - 0s - loss: 0.5014 - acc: 0.7775\n",
      "Epoch 81/5000\n",
      " - 0s - loss: 0.5002 - acc: 0.7820\n",
      "Epoch 82/5000\n",
      " - 0s - loss: 0.5008 - acc: 0.7853\n",
      "Epoch 83/5000\n",
      " - 0s - loss: 0.4991 - acc: 0.7835\n",
      "Epoch 84/5000\n",
      " - 0s - loss: 0.4989 - acc: 0.7814\n",
      "Epoch 85/5000\n",
      " - 0s - loss: 0.4922 - acc: 0.7905\n",
      "Epoch 86/5000\n",
      " - 0s - loss: 0.4933 - acc: 0.7926\n",
      "Epoch 87/5000\n",
      " - 0s - loss: 0.4992 - acc: 0.7872\n",
      "Epoch 88/5000\n",
      " - 0s - loss: 0.5004 - acc: 0.7802\n",
      "Epoch 89/5000\n",
      " - 0s - loss: 0.4954 - acc: 0.7869\n",
      "Epoch 90/5000\n",
      " - 0s - loss: 0.4959 - acc: 0.7887\n",
      "Epoch 91/5000\n",
      " - 0s - loss: 0.4991 - acc: 0.7766\n",
      "Epoch 92/5000\n",
      " - 0s - loss: 0.4897 - acc: 0.7899\n",
      "Epoch 93/5000\n",
      " - 0s - loss: 0.4958 - acc: 0.7929\n",
      "Epoch 94/5000\n",
      " - 0s - loss: 0.4906 - acc: 0.7938\n",
      "Epoch 95/5000\n",
      " - 0s - loss: 0.4934 - acc: 0.7796\n",
      "Epoch 96/5000\n",
      " - 0s - loss: 0.4939 - acc: 0.7853\n",
      "Epoch 97/5000\n",
      " - 0s - loss: 0.4908 - acc: 0.7893\n",
      "Epoch 98/5000\n",
      " - 0s - loss: 0.4872 - acc: 0.7863\n",
      "Epoch 99/5000\n",
      " - 0s - loss: 0.4861 - acc: 0.7902\n",
      "Epoch 100/5000\n",
      " - 0s - loss: 0.4843 - acc: 0.7887\n",
      "Epoch 101/5000\n",
      " - 0s - loss: 0.4860 - acc: 0.7920\n",
      "Epoch 102/5000\n",
      " - 0s - loss: 0.4844 - acc: 0.7896\n",
      "Epoch 103/5000\n",
      " - 0s - loss: 0.4869 - acc: 0.7896\n",
      "Epoch 104/5000\n",
      " - 0s - loss: 0.4844 - acc: 0.7941\n",
      "Epoch 105/5000\n",
      " - 0s - loss: 0.4803 - acc: 0.7980\n",
      "Epoch 106/5000\n",
      " - 0s - loss: 0.4800 - acc: 0.7983\n",
      "Epoch 107/5000\n",
      " - 0s - loss: 0.4823 - acc: 0.7944\n",
      "Epoch 108/5000\n",
      " - 0s - loss: 0.4824 - acc: 0.7953\n",
      "Epoch 109/5000\n",
      " - 0s - loss: 0.4767 - acc: 0.8031\n",
      "Epoch 110/5000\n",
      " - 0s - loss: 0.4793 - acc: 0.7968\n",
      "Epoch 111/5000\n",
      " - 0s - loss: 0.4819 - acc: 0.7920\n",
      "Epoch 112/5000\n",
      " - 0s - loss: 0.4785 - acc: 0.7980\n",
      "Epoch 113/5000\n",
      " - 0s - loss: 0.4745 - acc: 0.7962\n",
      "Epoch 114/5000\n",
      " - 0s - loss: 0.4751 - acc: 0.7971\n",
      "Epoch 115/5000\n",
      " - 0s - loss: 0.4728 - acc: 0.8013\n",
      "Epoch 116/5000\n",
      " - 0s - loss: 0.4720 - acc: 0.8034\n",
      "Epoch 117/5000\n",
      " - 0s - loss: 0.4776 - acc: 0.7971\n",
      "Epoch 118/5000\n",
      " - 0s - loss: 0.4746 - acc: 0.7989\n",
      "Epoch 119/5000\n",
      " - 0s - loss: 0.4743 - acc: 0.7986\n",
      "Epoch 120/5000\n",
      " - 0s - loss: 0.4747 - acc: 0.7974\n",
      "Epoch 121/5000\n",
      " - 0s - loss: 0.4726 - acc: 0.7938\n",
      "Epoch 122/5000\n",
      " - 0s - loss: 0.4757 - acc: 0.7926\n",
      "Epoch 123/5000\n",
      " - 0s - loss: 0.4735 - acc: 0.7968\n",
      "Epoch 124/5000\n",
      " - 0s - loss: 0.4731 - acc: 0.8016\n",
      "Epoch 125/5000\n",
      " - 0s - loss: 0.4677 - acc: 0.8070\n",
      "Epoch 126/5000\n",
      " - 0s - loss: 0.4691 - acc: 0.8001\n",
      "Epoch 127/5000\n",
      " - 0s - loss: 0.4679 - acc: 0.8076\n",
      "Epoch 128/5000\n",
      " - 0s - loss: 0.4663 - acc: 0.7959\n",
      "Epoch 129/5000\n",
      " - 0s - loss: 0.4742 - acc: 0.7941\n",
      "Epoch 130/5000\n",
      " - 0s - loss: 0.4635 - acc: 0.8067\n",
      "Epoch 131/5000\n",
      " - 0s - loss: 0.4650 - acc: 0.8043\n",
      "Epoch 132/5000\n",
      " - 0s - loss: 0.4637 - acc: 0.8070\n",
      "Epoch 133/5000\n",
      " - 0s - loss: 0.4648 - acc: 0.8076\n",
      "Epoch 134/5000\n",
      " - 0s - loss: 0.4644 - acc: 0.8046\n",
      "Epoch 135/5000\n",
      " - 0s - loss: 0.4593 - acc: 0.8079\n",
      "Epoch 136/5000\n",
      " - 0s - loss: 0.4684 - acc: 0.8028\n",
      "Epoch 137/5000\n",
      " - 0s - loss: 0.4618 - acc: 0.8001\n",
      "Epoch 138/5000\n",
      " - 0s - loss: 0.4568 - acc: 0.8133\n",
      "Epoch 139/5000\n",
      " - 0s - loss: 0.4566 - acc: 0.8043\n",
      "Epoch 140/5000\n",
      " - 0s - loss: 0.4585 - acc: 0.8076\n",
      "Epoch 141/5000\n",
      " - 0s - loss: 0.4737 - acc: 0.7962\n",
      "Epoch 142/5000\n",
      " - 0s - loss: 0.4558 - acc: 0.8130\n",
      "Epoch 143/5000\n",
      " - 0s - loss: 0.4638 - acc: 0.8052\n",
      "Epoch 144/5000\n",
      " - 0s - loss: 0.4545 - acc: 0.8154\n",
      "Epoch 145/5000\n",
      " - 0s - loss: 0.4548 - acc: 0.8118\n",
      "Epoch 146/5000\n",
      " - 0s - loss: 0.4609 - acc: 0.8106\n",
      "Epoch 147/5000\n",
      " - 0s - loss: 0.4561 - acc: 0.8067\n",
      "Epoch 148/5000\n",
      " - 0s - loss: 0.4600 - acc: 0.8076\n",
      "Epoch 149/5000\n",
      " - 0s - loss: 0.4545 - acc: 0.8139\n",
      "Epoch 150/5000\n",
      " - 0s - loss: 0.4545 - acc: 0.8103\n",
      "Epoch 151/5000\n",
      " - 0s - loss: 0.4491 - acc: 0.8127\n",
      "Epoch 152/5000\n",
      " - 0s - loss: 0.4545 - acc: 0.8148\n",
      "Epoch 153/5000\n",
      " - 0s - loss: 0.4543 - acc: 0.8028\n",
      "Epoch 154/5000\n",
      " - 0s - loss: 0.4601 - acc: 0.8094\n",
      "Epoch 155/5000\n",
      " - 0s - loss: 0.4625 - acc: 0.8067\n",
      "Epoch 156/5000\n",
      " - 0s - loss: 0.4543 - acc: 0.8103\n",
      "Epoch 157/5000\n",
      " - 0s - loss: 0.4543 - acc: 0.8019\n",
      "Epoch 158/5000\n",
      " - 0s - loss: 0.4536 - acc: 0.8061\n",
      "Epoch 159/5000\n",
      " - 0s - loss: 0.4559 - acc: 0.8067\n",
      "Epoch 160/5000\n",
      " - 0s - loss: 0.4551 - acc: 0.8028\n",
      "Epoch 161/5000\n",
      " - 0s - loss: 0.4524 - acc: 0.8058\n",
      "Epoch 162/5000\n",
      " - 0s - loss: 0.4559 - acc: 0.8139\n",
      "Epoch 163/5000\n",
      " - 0s - loss: 0.4539 - acc: 0.8124\n",
      "Epoch 164/5000\n",
      " - 0s - loss: 0.4539 - acc: 0.8103\n",
      "Epoch 165/5000\n",
      " - 0s - loss: 0.4520 - acc: 0.8112\n",
      "Epoch 166/5000\n",
      " - 0s - loss: 0.4479 - acc: 0.8196\n",
      "Epoch 167/5000\n"
     ]
    },
    {
     "name": "stdout",
     "output_type": "stream",
     "text": [
      " - 0s - loss: 0.4542 - acc: 0.8118\n",
      "Epoch 168/5000\n",
      " - 0s - loss: 0.4514 - acc: 0.8124\n",
      "Epoch 169/5000\n",
      " - 0s - loss: 0.4443 - acc: 0.8139\n",
      "Epoch 170/5000\n",
      " - 0s - loss: 0.4475 - acc: 0.8154\n",
      "Epoch 171/5000\n",
      " - 0s - loss: 0.4467 - acc: 0.8181\n",
      "Epoch 172/5000\n",
      " - 0s - loss: 0.4473 - acc: 0.8157\n",
      "Epoch 173/5000\n",
      " - 0s - loss: 0.4432 - acc: 0.8160\n",
      "Epoch 174/5000\n",
      " - 0s - loss: 0.4461 - acc: 0.8115\n",
      "Epoch 175/5000\n",
      " - 0s - loss: 0.4391 - acc: 0.8220\n",
      "Epoch 176/5000\n",
      " - 0s - loss: 0.4482 - acc: 0.8100\n",
      "Epoch 177/5000\n",
      " - 0s - loss: 0.4490 - acc: 0.8103\n",
      "Epoch 178/5000\n",
      " - 0s - loss: 0.4432 - acc: 0.8181\n",
      "Epoch 179/5000\n",
      " - 0s - loss: 0.4471 - acc: 0.8205\n",
      "Epoch 180/5000\n",
      " - 0s - loss: 0.4435 - acc: 0.8094\n",
      "Epoch 181/5000\n",
      " - 0s - loss: 0.4487 - acc: 0.8088\n",
      "Epoch 182/5000\n",
      " - 0s - loss: 0.4415 - acc: 0.8172\n",
      "Epoch 183/5000\n",
      " - 0s - loss: 0.4488 - acc: 0.8178\n",
      "Epoch 184/5000\n",
      " - 0s - loss: 0.4439 - acc: 0.8169\n",
      "Epoch 185/5000\n",
      " - 0s - loss: 0.4363 - acc: 0.8142\n",
      "Epoch 186/5000\n",
      " - 0s - loss: 0.4471 - acc: 0.8115\n",
      "Epoch 187/5000\n",
      " - 0s - loss: 0.4454 - acc: 0.8151\n",
      "Epoch 188/5000\n",
      " - 0s - loss: 0.4466 - acc: 0.8127\n",
      "Epoch 189/5000\n",
      " - 0s - loss: 0.4397 - acc: 0.8142\n",
      "Epoch 190/5000\n",
      " - 0s - loss: 0.4386 - acc: 0.8190\n",
      "Epoch 191/5000\n",
      " - 0s - loss: 0.4397 - acc: 0.8178\n",
      "Epoch 192/5000\n",
      " - 0s - loss: 0.4396 - acc: 0.8169\n",
      "Epoch 193/5000\n",
      " - 0s - loss: 0.4424 - acc: 0.8193\n",
      "Epoch 194/5000\n",
      " - 0s - loss: 0.4348 - acc: 0.8184\n",
      "Epoch 195/5000\n",
      " - 0s - loss: 0.4391 - acc: 0.8163\n",
      "Epoch 196/5000\n",
      " - 0s - loss: 0.4364 - acc: 0.8175\n",
      "Epoch 197/5000\n",
      " - 0s - loss: 0.4406 - acc: 0.8130\n",
      "Epoch 198/5000\n",
      " - 0s - loss: 0.4430 - acc: 0.8118\n",
      "Epoch 199/5000\n",
      " - 0s - loss: 0.4405 - acc: 0.8136\n",
      "Epoch 200/5000\n",
      " - 0s - loss: 0.4406 - acc: 0.8148\n",
      "Epoch 201/5000\n",
      " - 0s - loss: 0.4391 - acc: 0.8166\n",
      "Epoch 202/5000\n",
      " - 0s - loss: 0.4450 - acc: 0.8109\n",
      "Epoch 203/5000\n",
      " - 0s - loss: 0.4366 - acc: 0.8229\n",
      "Epoch 204/5000\n",
      " - 0s - loss: 0.4361 - acc: 0.8244\n",
      "Epoch 205/5000\n",
      " - 0s - loss: 0.4390 - acc: 0.8211\n",
      "Epoch 206/5000\n",
      " - 0s - loss: 0.4304 - acc: 0.8310\n",
      "Epoch 207/5000\n",
      " - 0s - loss: 0.4298 - acc: 0.8307\n",
      "Epoch 208/5000\n",
      " - 0s - loss: 0.4391 - acc: 0.8232\n",
      "Epoch 209/5000\n",
      " - 0s - loss: 0.4269 - acc: 0.8223\n",
      "Epoch 210/5000\n",
      " - 0s - loss: 0.4409 - acc: 0.8160\n",
      "Epoch 211/5000\n",
      " - 0s - loss: 0.4366 - acc: 0.8166\n",
      "Epoch 212/5000\n",
      " - 0s - loss: 0.4378 - acc: 0.8136\n",
      "Epoch 213/5000\n",
      " - 0s - loss: 0.4353 - acc: 0.8250\n",
      "Epoch 214/5000\n",
      " - 0s - loss: 0.4379 - acc: 0.8232\n",
      "Epoch 215/5000\n",
      " - 0s - loss: 0.4347 - acc: 0.8175\n",
      "Epoch 216/5000\n",
      " - 0s - loss: 0.4312 - acc: 0.8232\n",
      "Epoch 217/5000\n",
      " - 0s - loss: 0.4229 - acc: 0.8331\n",
      "Epoch 218/5000\n",
      " - 0s - loss: 0.4335 - acc: 0.8208\n",
      "Epoch 219/5000\n"
     ]
    },
    {
     "ename": "KeyboardInterrupt",
     "evalue": "",
     "output_type": "error",
     "traceback": [
      "\u001b[0;31m---------------------------------------------------------------------------\u001b[0m",
      "\u001b[0;31mKeyboardInterrupt\u001b[0m                         Traceback (most recent call last)",
      "\u001b[0;32m<ipython-input-18-89b59352d69f>\u001b[0m in \u001b[0;36m<module>\u001b[0;34m\u001b[0m\n\u001b[1;32m      2\u001b[0m model.fit([train_X_conv, train_X_scalar], labels,\n\u001b[1;32m      3\u001b[0m           \u001b[0mepochs\u001b[0m\u001b[0;34m=\u001b[0m\u001b[0;36m5000\u001b[0m\u001b[0;34m,\u001b[0m\u001b[0;34m\u001b[0m\u001b[0;34m\u001b[0m\u001b[0m\n\u001b[0;32m----> 4\u001b[0;31m           verbose=2)\n\u001b[0m",
      "\u001b[0;32m/scratch/s1895566/miniconda/base/envs/venv/lib/python3.6/site-packages/keras/engine/training.py\u001b[0m in \u001b[0;36mfit\u001b[0;34m(self, x, y, batch_size, epochs, verbose, callbacks, validation_split, validation_data, shuffle, class_weight, sample_weight, initial_epoch, steps_per_epoch, validation_steps, **kwargs)\u001b[0m\n\u001b[1;32m   1037\u001b[0m                                         \u001b[0minitial_epoch\u001b[0m\u001b[0;34m=\u001b[0m\u001b[0minitial_epoch\u001b[0m\u001b[0;34m,\u001b[0m\u001b[0;34m\u001b[0m\u001b[0;34m\u001b[0m\u001b[0m\n\u001b[1;32m   1038\u001b[0m                                         \u001b[0msteps_per_epoch\u001b[0m\u001b[0;34m=\u001b[0m\u001b[0msteps_per_epoch\u001b[0m\u001b[0;34m,\u001b[0m\u001b[0;34m\u001b[0m\u001b[0;34m\u001b[0m\u001b[0m\n\u001b[0;32m-> 1039\u001b[0;31m                                         validation_steps=validation_steps)\n\u001b[0m\u001b[1;32m   1040\u001b[0m \u001b[0;34m\u001b[0m\u001b[0m\n\u001b[1;32m   1041\u001b[0m     def evaluate(self, x=None, y=None,\n",
      "\u001b[0;32m/scratch/s1895566/miniconda/base/envs/venv/lib/python3.6/site-packages/keras/engine/training_arrays.py\u001b[0m in \u001b[0;36mfit_loop\u001b[0;34m(model, f, ins, out_labels, batch_size, epochs, verbose, callbacks, val_f, val_ins, shuffle, callback_metrics, initial_epoch, steps_per_epoch, validation_steps)\u001b[0m\n\u001b[1;32m    197\u001b[0m                     \u001b[0mins_batch\u001b[0m\u001b[0;34m[\u001b[0m\u001b[0mi\u001b[0m\u001b[0;34m]\u001b[0m \u001b[0;34m=\u001b[0m \u001b[0mins_batch\u001b[0m\u001b[0;34m[\u001b[0m\u001b[0mi\u001b[0m\u001b[0;34m]\u001b[0m\u001b[0;34m.\u001b[0m\u001b[0mtoarray\u001b[0m\u001b[0;34m(\u001b[0m\u001b[0;34m)\u001b[0m\u001b[0;34m\u001b[0m\u001b[0;34m\u001b[0m\u001b[0m\n\u001b[1;32m    198\u001b[0m \u001b[0;34m\u001b[0m\u001b[0m\n\u001b[0;32m--> 199\u001b[0;31m                 \u001b[0mouts\u001b[0m \u001b[0;34m=\u001b[0m \u001b[0mf\u001b[0m\u001b[0;34m(\u001b[0m\u001b[0mins_batch\u001b[0m\u001b[0;34m)\u001b[0m\u001b[0;34m\u001b[0m\u001b[0;34m\u001b[0m\u001b[0m\n\u001b[0m\u001b[1;32m    200\u001b[0m                 \u001b[0mouts\u001b[0m \u001b[0;34m=\u001b[0m \u001b[0mto_list\u001b[0m\u001b[0;34m(\u001b[0m\u001b[0mouts\u001b[0m\u001b[0;34m)\u001b[0m\u001b[0;34m\u001b[0m\u001b[0;34m\u001b[0m\u001b[0m\n\u001b[1;32m    201\u001b[0m                 \u001b[0;32mfor\u001b[0m \u001b[0ml\u001b[0m\u001b[0;34m,\u001b[0m \u001b[0mo\u001b[0m \u001b[0;32min\u001b[0m \u001b[0mzip\u001b[0m\u001b[0;34m(\u001b[0m\u001b[0mout_labels\u001b[0m\u001b[0;34m,\u001b[0m \u001b[0mouts\u001b[0m\u001b[0;34m)\u001b[0m\u001b[0;34m:\u001b[0m\u001b[0;34m\u001b[0m\u001b[0;34m\u001b[0m\u001b[0m\n",
      "\u001b[0;32m/scratch/s1895566/miniconda/base/envs/venv/lib/python3.6/site-packages/keras/backend/tensorflow_backend.py\u001b[0m in \u001b[0;36m__call__\u001b[0;34m(self, inputs)\u001b[0m\n\u001b[1;32m   2719\u001b[0m                     \u001b[0;34m'In order to feed symbolic tensors to a Keras model '\u001b[0m\u001b[0;34m\u001b[0m\u001b[0;34m\u001b[0m\u001b[0m\n\u001b[1;32m   2720\u001b[0m                     'in TensorFlow, you need tensorflow 1.8 or higher.')\n\u001b[0;32m-> 2721\u001b[0;31m             \u001b[0;32mreturn\u001b[0m \u001b[0mself\u001b[0m\u001b[0;34m.\u001b[0m\u001b[0m_legacy_call\u001b[0m\u001b[0;34m(\u001b[0m\u001b[0minputs\u001b[0m\u001b[0;34m)\u001b[0m\u001b[0;34m\u001b[0m\u001b[0;34m\u001b[0m\u001b[0m\n\u001b[0m\u001b[1;32m   2722\u001b[0m \u001b[0;34m\u001b[0m\u001b[0m\n\u001b[1;32m   2723\u001b[0m \u001b[0;34m\u001b[0m\u001b[0m\n",
      "\u001b[0;32m/scratch/s1895566/miniconda/base/envs/venv/lib/python3.6/site-packages/keras/backend/tensorflow_backend.py\u001b[0m in \u001b[0;36m_legacy_call\u001b[0;34m(self, inputs)\u001b[0m\n\u001b[1;32m   2691\u001b[0m         \u001b[0msession\u001b[0m \u001b[0;34m=\u001b[0m \u001b[0mget_session\u001b[0m\u001b[0;34m(\u001b[0m\u001b[0;34m)\u001b[0m\u001b[0;34m\u001b[0m\u001b[0;34m\u001b[0m\u001b[0m\n\u001b[1;32m   2692\u001b[0m         updated = session.run(fetches=fetches, feed_dict=feed_dict,\n\u001b[0;32m-> 2693\u001b[0;31m                               **self.session_kwargs)\n\u001b[0m\u001b[1;32m   2694\u001b[0m         \u001b[0;32mreturn\u001b[0m \u001b[0mupdated\u001b[0m\u001b[0;34m[\u001b[0m\u001b[0;34m:\u001b[0m\u001b[0mlen\u001b[0m\u001b[0;34m(\u001b[0m\u001b[0mself\u001b[0m\u001b[0;34m.\u001b[0m\u001b[0moutputs\u001b[0m\u001b[0;34m)\u001b[0m\u001b[0;34m]\u001b[0m\u001b[0;34m\u001b[0m\u001b[0;34m\u001b[0m\u001b[0m\n\u001b[1;32m   2695\u001b[0m \u001b[0;34m\u001b[0m\u001b[0m\n",
      "\u001b[0;32m/scratch/s1895566/miniconda/base/envs/venv/lib/python3.6/site-packages/tensorflow/python/client/session.py\u001b[0m in \u001b[0;36mrun\u001b[0;34m(self, fetches, feed_dict, options, run_metadata)\u001b[0m\n\u001b[1;32m    893\u001b[0m     \u001b[0;32mtry\u001b[0m\u001b[0;34m:\u001b[0m\u001b[0;34m\u001b[0m\u001b[0;34m\u001b[0m\u001b[0m\n\u001b[1;32m    894\u001b[0m       result = self._run(None, fetches, feed_dict, options_ptr,\n\u001b[0;32m--> 895\u001b[0;31m                          run_metadata_ptr)\n\u001b[0m\u001b[1;32m    896\u001b[0m       \u001b[0;32mif\u001b[0m \u001b[0mrun_metadata\u001b[0m\u001b[0;34m:\u001b[0m\u001b[0;34m\u001b[0m\u001b[0;34m\u001b[0m\u001b[0m\n\u001b[1;32m    897\u001b[0m         \u001b[0mproto_data\u001b[0m \u001b[0;34m=\u001b[0m \u001b[0mtf_session\u001b[0m\u001b[0;34m.\u001b[0m\u001b[0mTF_GetBuffer\u001b[0m\u001b[0;34m(\u001b[0m\u001b[0mrun_metadata_ptr\u001b[0m\u001b[0;34m)\u001b[0m\u001b[0;34m\u001b[0m\u001b[0;34m\u001b[0m\u001b[0m\n",
      "\u001b[0;32m/scratch/s1895566/miniconda/base/envs/venv/lib/python3.6/site-packages/tensorflow/python/client/session.py\u001b[0m in \u001b[0;36m_run\u001b[0;34m(self, handle, fetches, feed_dict, options, run_metadata)\u001b[0m\n\u001b[1;32m   1098\u001b[0m \u001b[0;34m\u001b[0m\u001b[0m\n\u001b[1;32m   1099\u001b[0m           if (not is_tensor_handle_feed and\n\u001b[0;32m-> 1100\u001b[0;31m               not subfeed_t.get_shape().is_compatible_with(np_val.shape)):\n\u001b[0m\u001b[1;32m   1101\u001b[0m             raise ValueError(\n\u001b[1;32m   1102\u001b[0m                 \u001b[0;34m'Cannot feed value of shape %r for Tensor %r, '\u001b[0m\u001b[0;34m\u001b[0m\u001b[0;34m\u001b[0m\u001b[0m\n",
      "\u001b[0;31mKeyboardInterrupt\u001b[0m: "
     ]
    }
   ],
   "source": [
    "# 3. Train\n",
    "model.fit([train_X_conv, train_X_scalar], labels,\n",
    "          epochs=5000,\n",
    "          verbose=2)"
   ]
  },
  {
   "cell_type": "markdown",
   "metadata": {},
   "source": [
    "# Testing"
   ]
  },
  {
   "cell_type": "markdown",
   "metadata": {},
   "source": [
    "## Regression"
   ]
  },
  {
   "cell_type": "code",
   "execution_count": 47,
   "metadata": {
    "ExecuteTime": {
     "end_time": "2019-02-12T23:43:40.705551Z",
     "start_time": "2019-02-12T23:43:40.700582Z"
    }
   },
   "outputs": [],
   "source": [
    "def inverse_standardize(y, y_hat, scaler):\n",
    "    y, y_hat = [scaler.inverse_transform(yyy) for yyy in [y, y_hat]]\n",
    "    \n",
    "    plt.figure(figsize=(10, 10))\n",
    "    ax = sns.scatterplot(y[:,0], y_hat[:,0])\n",
    "    ax.set(xlabel='Actual Precipitation', ylabel='Predicted Precipitation')\n",
    "    plt.show()\n",
    "    return None"
   ]
  },
  {
   "cell_type": "code",
   "execution_count": 61,
   "metadata": {
    "ExecuteTime": {
     "end_time": "2019-02-13T00:16:16.298344Z",
     "start_time": "2019-02-13T00:16:15.372808Z"
    }
   },
   "outputs": [
    {
     "name": "stdout",
     "output_type": "stream",
     "text": [
      "Test loss= 0.9541\n"
     ]
    },
    {
     "data": {
      "image/png": "[encoded data removed]",
      "text/plain": [
       "<Figure size 720x720 with 1 Axes>"
      ]
     },
     "metadata": {
      "needs_background": "light"
     },
     "output_type": "display_data"
    }
   ],
   "source": [
    "# 4. Test\n",
    "if not classification:\n",
    "    test_loss = model.evaluate([test_X_conv, test_X_scalar], test_y, verbose=0)\n",
    "    print(f'Test loss= {test_loss:.4f}')\n",
    "\n",
    "    test_y_hat = model.predict([test_X_conv, test_X_scalar])\n",
    "    inverse_standardize(test_y, test_y_hat, scaler_y)"
   ]
  },
  {
   "cell_type": "markdown",
   "metadata": {
    "ExecuteTime": {
     "end_time": "2019-02-13T00:58:00.871824Z",
     "start_time": "2019-02-13T00:58:00.869477Z"
    }
   },
   "source": [
    "## Classification"
   ]
  },
  {
   "cell_type": "code",
   "execution_count": 41,
   "metadata": {
    "ExecuteTime": {
     "end_time": "2019-02-13T01:01:32.857543Z",
     "start_time": "2019-02-13T01:01:32.854738Z"
    }
   },
   "outputs": [],
   "source": [
    "from sklearn.metrics import accuracy_score, classification_report, confusion_matrix"
   ]
  },
  {
   "cell_type": "code",
   "execution_count": 50,
   "metadata": {
    "ExecuteTime": {
     "end_time": "2019-02-13T01:16:54.651343Z",
     "start_time": "2019-02-13T01:16:54.459299Z"
    }
   },
   "outputs": [],
   "source": [
    "if classification:\n",
    "    proba_binary_hat = model.predict([test_X_conv, test_X_scalar])\n",
    "    test_binary_hat = proba_binary_hat >= 0.5"
   ]
  },
  {
   "cell_type": "code",
   "execution_count": 52,
   "metadata": {
    "ExecuteTime": {
     "end_time": "2019-02-13T01:17:18.641703Z",
     "start_time": "2019-02-13T01:17:18.632875Z"
    }
   },
   "outputs": [
    {
     "name": "stdout",
     "output_type": "stream",
     "text": [
      "0.5412335412335413\n",
      "             precision    recall  f1-score   support\n",
      "\n",
      "      False       0.55      0.50      0.52       724\n",
      "       True       0.54      0.58      0.56       719\n",
      "\n",
      "avg / total       0.54      0.54      0.54      1443\n",
      "\n",
      "[[362 362]\n",
      " [300 419]]\n"
     ]
    }
   ],
   "source": [
    "if classification:\n",
    "    print(accuracy_score(test_binary, test_binary_hat))\n",
    "    print(classification_report(test_binary, test_binary_hat))\n",
    "    print(confusion_matrix(test_binary, test_binary_hat))"
   ]
  },
  {
   "cell_type": "code",
   "execution_count": 61,
   "metadata": {
    "ExecuteTime": {
     "end_time": "2019-02-13T02:30:52.031024Z",
     "start_time": "2019-02-13T02:30:51.698110Z"
    }
   },
   "outputs": [
    {
     "name": "stdout",
     "output_type": "stream",
     "text": [
      "1443/1443 [==============================] - 0s 225us/step\n",
      "Test score: 1.3965369853515717\n",
      "Test accuracy: 0.5647955648368709\n"
     ]
    }
   ],
   "source": [
    "score, acc = model.evaluate([test_X_conv, test_X_scalar], test_binary)\n",
    "print('Test score:', score)\n",
    "print('Test accuracy:', acc)"
   ]
  },
  {
   "cell_type": "markdown",
   "metadata": {},
   "source": [
    "# Script Conversion (for ssh Burn)"
   ]
  },
  {
   "cell_type": "code",
   "execution_count": 25,
   "metadata": {
    "ExecuteTime": {
     "end_time": "2019-02-13T23:36:47.029242Z",
     "start_time": "2019-02-13T23:36:44.761002Z"
    }
   },
   "outputs": [
    {
     "name": "stdout",
     "output_type": "stream",
     "text": [
      "[NbConvertApp] Converting notebook neural-net.ipynb to script\n",
      "[NbConvertApp] Writing 7226 bytes to neural-net.py\n"
     ]
    }
   ],
   "source": [
    "!jupyter nbconvert --to script neural-net.ipynb"
   ]
  },
  {
   "cell_type": "code",
   "execution_count": null,
   "metadata": {},
   "outputs": [],
   "source": []
  }
 ],
 "metadata": {
  "hide_input": false,
  "kernelspec": {
   "display_name": "Python 3",
   "language": "python",
   "name": "python3"
  },
  "language_info": {
   "codemirror_mode": {
    "name": "ipython",
    "version": 3
   },
   "file_extension": ".py",
   "mimetype": "text/x-python",
   "name": "python",
   "nbconvert_exporter": "python",
   "pygments_lexer": "ipython3",
   "version": "3.6.8"
  },
  "toc": {
   "base_numbering": 1,
   "nav_menu": {},
   "number_sections": true,
   "sideBar": true,
   "skip_h1_title": false,
   "title_cell": "Table of Contents",
   "title_sidebar": "Contents",
   "toc_cell": false,
   "toc_position": {},
   "toc_section_display": true,
   "toc_window_display": true
  },
  "varInspector": {
   "cols": {
    "lenName": 16,
    "lenType": 16,
    "lenVar": 40
   },
   "kernels_config": {
    "python": {
     "delete_cmd_postfix": "",
     "delete_cmd_prefix": "del ",
     "library": "var_list.py",
     "varRefreshCmd": "print(var_dic_list())"
    },
    "r": {
     "delete_cmd_postfix": ") ",
     "delete_cmd_prefix": "rm(",
     "library": "var_list.r",
     "varRefreshCmd": "cat(var_dic_list()) "
    }
   },
   "oldHeight": 122.85,
   "position": {
    "height": "40px",
    "left": "1170px",
    "right": "20px",
    "top": "120px",
    "width": "250px"
   },
   "types_to_exclude": [
    "module",
    "function",
    "builtin_function_or_method",
    "instance",
    "_Feature"
   ],
   "varInspector_section_display": "none",
   "window_display": true
  }
 },
 "nbformat": 4,
 "nbformat_minor": 2
}

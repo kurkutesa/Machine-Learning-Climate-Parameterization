{
 "cells": [
  {
   "cell_type": "markdown",
   "metadata": {},
   "source": [
    "# Pre-extracting"
   ]
  },
  {
   "cell_type": "code",
   "execution_count": 1,
   "metadata": {
    "ExecuteTime": {
     "end_time": "2019-03-04T00:55:53.009870Z",
     "start_time": "2019-03-04T00:55:50.518002Z"
    }
   },
   "outputs": [
    {
     "name": "stdout",
     "output_type": "stream",
     "text": [
      "All packages imported.\n"
     ]
    }
   ],
   "source": [
    "import os\n",
    "import numpy as np\n",
    "import pandas as pd\n",
    "import matplotlib.pyplot as plt\n",
    "import seaborn as sns\n",
    "import ipywidgets as widgets\n",
    "import xarray as xr\n",
    "import datetime\n",
    "print('All packages imported.')"
   ]
  },
  {
   "cell_type": "markdown",
   "metadata": {},
   "source": [
    "## Site Selection"
   ]
  },
  {
   "cell_type": "code",
   "execution_count": 2,
   "metadata": {
    "ExecuteTime": {
     "end_time": "2019-03-04T00:55:55.525919Z",
     "start_time": "2019-03-04T00:55:55.508853Z"
    }
   },
   "outputs": [
    {
     "data": {
      "application/vnd.jupyter.widget-view+json": {
       "model_id": "bc41e36827fd49839b80a93f52514562",
       "version_major": 2,
       "version_minor": 0
      },
      "text/plain": [
       "Select(description='ARM Site:', layout=Layout(width='175px'), options=('sgp-C1', 'twp-C1', 'twp-C2', 'twp-C3')…"
      ]
     },
     "metadata": {},
     "output_type": "display_data"
    },
    {
     "name": "stdout",
     "output_type": "stream",
     "text": [
      "Switch site to twp-C1\n",
      "Switch site to twp-C2\n",
      "Switch site to twp-C3\n"
     ]
    }
   ],
   "source": [
    "product = 'armbeatm'\n",
    "site = widgets.Select(\n",
    "    options=['sgp-C1', 'twp-C1', 'twp-C2', 'twp-C3'],\n",
    "    value='sgp-C1',\n",
    "    rows=6,\n",
    "    description='ARM Site:',\n",
    "    disabled=False\n",
    ")\n",
    "\n",
    "\n",
    "def on_change(change):\n",
    "    if change['type'] == 'change' and change['name'] == 'value':\n",
    "        print(f\"Switch site to {change['new']}\")\n",
    "\n",
    "\n",
    "site.layout.width = '175px'\n",
    "site.observe(on_change)\n",
    "display(site)"
   ]
  },
  {
   "cell_type": "markdown",
   "metadata": {},
   "source": [
    "## Data Import"
   ]
  },
  {
   "cell_type": "code",
   "execution_count": 31,
   "metadata": {
    "ExecuteTime": {
     "end_time": "2019-03-04T00:59:32.933237Z",
     "start_time": "2019-03-04T00:59:32.927302Z"
    }
   },
   "outputs": [],
   "source": [
    "def site2stream(site, product):\n",
    "    region, index = site.split('-')\n",
    "    stream = region+product+index\n",
    "    print(f'Ready for data stream: {stream}')\n",
    "    return stream\n",
    "\n",
    "def get_ARM_files_path(site, stream, ext='nc'):\n",
    "    CURRENT_DIR = os.getcwd()\n",
    "    DATA_DIR = f'{CURRENT_DIR}/../../data/ARM/{site}/{stream}'\n",
    "    FILE_PATH = f'{DATA_DIR}/{stream}.*.{ext}'\n",
    "    return FILE_PATH\n",
    "\n",
    "def get_DS(mf):\n",
    "    return xr.open_mfdataset(mf)"
   ]
  },
  {
   "cell_type": "code",
   "execution_count": 32,
   "metadata": {
    "ExecuteTime": {
     "end_time": "2019-03-04T00:59:59.016949Z",
     "start_time": "2019-03-04T00:59:33.452313Z"
    }
   },
   "outputs": [
    {
     "name": "stdout",
     "output_type": "stream",
     "text": [
      "Ready for data stream: twparmbeatmC3\n"
     ]
    },
    {
     "data": {
      "text/plain": [
       "<xarray.Dataset>\n",
       "Dimensions:        (p: 37, range: 2, time: 78888, z: 512)\n",
       "Coordinates:\n",
       "  * time           (time) datetime64[ns] 2002-01-01T00:30:00 ... 2010-12-31T23:30:00\n",
       "  * p              (p) float32 1000.0 975.0 950.0 925.0 ... 150.0 125.0 100.0\n",
       "  * z              (z) float32 15.0 60.0 105.0 150.0 ... 22920.0 22965.0 23010.0\n",
       "    z10            float32 10.0\n",
       "    z2             float32 2.0\n",
       "Dimensions without coordinates: range\n",
       "Data variables:\n",
       "    base_time      (time) datetime64[ns] 2002-01-01 2002-01-01 ... 2010-01-01\n",
       "    time_offset    (time) datetime64[ns] dask.array<shape=(78888,), chunksize=(8760,)>\n",
       "    time_bounds    (time, range) datetime64[ns] dask.array<shape=(78888, 2), chunksize=(8760, 2)>\n",
       "    time_frac      (time) datetime64[ns] dask.array<shape=(78888,), chunksize=(8760,)>\n",
       "    p_bounds       (time, p, range) float64 dask.array<shape=(78888, 37, 2), chunksize=(8760, 37, 2)>\n",
       "    z_bounds       (time, z, range) float64 dask.array<shape=(78888, 512, 2), chunksize=(8760, 512, 2)>\n",
       "    u_sfc          (time) float32 dask.array<shape=(78888,), chunksize=(8760,)>\n",
       "    v_sfc          (time) float32 dask.array<shape=(78888,), chunksize=(8760,)>\n",
       "    T_sfc          (time) float32 dask.array<shape=(78888,), chunksize=(8760,)>\n",
       "    rh_sfc         (time) float32 dask.array<shape=(78888,), chunksize=(8760,)>\n",
       "    p_sfc          (time) float32 dask.array<shape=(78888,), chunksize=(8760,)>\n",
       "    prec_sfc       (time) float32 dask.array<shape=(78888,), chunksize=(8760,)>\n",
       "    T_p            (time, p) float32 dask.array<shape=(78888, 37), chunksize=(8760, 37)>\n",
       "    T_z            (time, z) float32 dask.array<shape=(78888, 512), chunksize=(8760, 512)>\n",
       "    Td_p           (time, p) float32 dask.array<shape=(78888, 37), chunksize=(8760, 37)>\n",
       "    Td_z           (time, z) float32 dask.array<shape=(78888, 512), chunksize=(8760, 512)>\n",
       "    rh_p           (time, p) float32 dask.array<shape=(78888, 37), chunksize=(8760, 37)>\n",
       "    rh_z           (time, z) float32 dask.array<shape=(78888, 512), chunksize=(8760, 512)>\n",
       "    u_p            (time, p) float32 dask.array<shape=(78888, 37), chunksize=(8760, 37)>\n",
       "    u_z            (time, z) float32 dask.array<shape=(78888, 512), chunksize=(8760, 512)>\n",
       "    v_p            (time, p) float32 dask.array<shape=(78888, 37), chunksize=(8760, 37)>\n",
       "    v_z            (time, z) float32 dask.array<shape=(78888, 512), chunksize=(8760, 512)>\n",
       "    lat            (time) float64 12.4 12.4 12.4 12.4 ... 12.4 12.4 12.4 12.4\n",
       "    lon            (time) float64 130.9 130.9 130.9 130.9 ... 130.9 130.9 130.9\n",
       "    alt            (time) float64 29.9 29.9 29.9 29.9 ... 29.9 29.9 29.9 29.9\n",
       "    qc_precip_sfc  (time) float32 dask.array<shape=(78888,), chunksize=(35064,)>\n",
       "Attributes:\n",
       "    Conventions:             CF-1.6\n",
       "    title:                   ARM Best Estimate (ARMBE) Product, atmospheric p...\n",
       "    description:             ARM Best Estimate hourly averaged qc controlled ...\n",
       "    project:                 Atmospheric Radiation Measurements (ARM) Program...\n",
       "    location:                TWP, C3; lon = 130.9 E, lat = 12.4 S, alt = 29.9...\n",
       "    averaging_interval:      60 min. reported at the center of the interval\n",
       "    references:              http://science.arm.gov/wg/cpm/scm/best_estimate....\n",
       "    institution:             Lawrence Livermore National Laboratory, CA, USA\n",
       "    software:                IDL program, R.B.McCoy, LLNL, renata@llnl.gov\n",
       "    source:                  ARM VAPs: MET, sounding\n",
       "    source_met:              twpsmet60sC3.b1.2002*.cdf\n",
       "    source_sonde:            twpsondewnpnC3.b1.2002*.cdf\n",
       "    site_id:                 twp\n",
       "    facility_id:             C3\n",
       "    platform_id:             armbeatm\n",
       "    datastream:              twparmbeatmC3.c1\n",
       "    location_description:    Tropical Western Pacific (TWP), Darwin, Australia\n",
       "    data_level:              c1\n",
       "    dod_version:             armbeatm-c1-1.4\n",
       "    process_version:         armbeatm v1.4\n",
       "    command_line:            armbeatm_correct_soundings_v1.4\n",
       "    input_datastreams:       twparmbeatmC3.c1:1.3:20100101; twpsondewnpnC3.b1...\n",
       "    postprocessing_date:     Tue Feb  4 20:14:26 2014 UTC\n",
       "    postprocessing_commnd:   armbeatm_correct_soundings_v1.4\n",
       "    postprocessing_svn_tag:  9650\n",
       "    doi:                     10.5439/1111571\n",
       "    doi_url:                 http://dx.doi.org/10.5439/1111571\n",
       "    suggested_citation:      see http://www.arm.gov/data/armbe\n",
       "    history:                 created by user mccoy20 on machine dream.llnl.go..."
      ]
     },
     "execution_count": 32,
     "metadata": {},
     "output_type": "execute_result"
    }
   ],
   "source": [
    "stream = site2stream(site.value, product)\n",
    "FILE_PATH = get_ARM_files_path(site=site.value, stream=stream, ext='cdf')\n",
    "DS = get_DS(FILE_PATH)\n",
    "DS"
   ]
  },
  {
   "cell_type": "code",
   "execution_count": 33,
   "metadata": {
    "ExecuteTime": {
     "end_time": "2019-03-04T00:59:59.123651Z",
     "start_time": "2019-03-04T00:59:59.114565Z"
    }
   },
   "outputs": [
    {
     "name": "stdout",
     "output_type": "stream",
     "text": [
      "Ready for data stream: twparmbeatmC3\n",
      "Nothing to do.\n"
     ]
    }
   ],
   "source": [
    "# Try to import newer measurements with different format\n",
    "try:\n",
    "    stream = site2stream(site.value, product)\n",
    "    FILE_PATH = get_ARM_files_path(site=site.value, stream=stream, ext='nc')\n",
    "    DS2 = xr.open_mfdataset(FILE_PATH, decode_times=False, concat_dim='time')\n",
    "    DS2['time'] = [np.datetime64(dt_) for dt_ in [datetime.datetime.utcfromtimestamp(\n",
    "        int_) for int_ in (DS2.base_time + DS2.time_offset).values]]\n",
    "    old_name, new_name = [['precip_rate_sfc', 'temperature_sfc',\n",
    "                          'relative_humidity_sfc', 'u_wind_sfc', 'v_wind_sfc', 'pressure_sfc', 'temperature_p', 'relative_humidity_p', 'u_wind_p', 'v_wind_p'],\n",
    "    ['prec_sfc', 'T_sfc', 'rh_sfc', 'u_sfc',\n",
    "     'v_sfc', 'p_sfc', 'T_p', 'rh_p', 'u_p', 'v_p']]\n",
    "    name_dict = dict(zip(old_name, new_name))\n",
    "    DS2 = DS2.rename(name_dict)\n",
    "    print(DS2)\n",
    "except:\n",
    "    print('Nothing to do.')"
   ]
  },
  {
   "cell_type": "code",
   "execution_count": 34,
   "metadata": {
    "ExecuteTime": {
     "end_time": "2019-03-04T00:59:59.447145Z",
     "start_time": "2019-03-04T00:59:59.219983Z"
    }
   },
   "outputs": [
    {
     "name": "stdout",
     "output_type": "stream",
     "text": [
      "QC is empty.\n"
     ]
    }
   ],
   "source": [
    "# Ensure that qc is null\n",
    "try:\n",
    "    if DS['qc_precip_sfc'].dropna(dim='time').values.size == 0:\n",
    "        print('QC is empty.')\n",
    "    else:\n",
    "        print('QC IS NOT EMPTY!!!')\n",
    "except:\n",
    "    print('There is no QC.')"
   ]
  },
  {
   "cell_type": "markdown",
   "metadata": {},
   "source": [
    "# Data Handling"
   ]
  },
  {
   "cell_type": "markdown",
   "metadata": {},
   "source": [
    "## Variable Extraction"
   ]
  },
  {
   "cell_type": "code",
   "execution_count": 35,
   "metadata": {
    "ExecuteTime": {
     "end_time": "2019-03-04T00:59:59.547690Z",
     "start_time": "2019-03-04T00:59:59.545069Z"
    }
   },
   "outputs": [],
   "source": [
    "from utils import DS_count_valid, DS_extract"
   ]
  },
  {
   "cell_type": "code",
   "execution_count": 36,
   "metadata": {
    "ExecuteTime": {
     "end_time": "2019-03-04T00:59:59.651432Z",
     "start_time": "2019-03-04T00:59:59.648563Z"
    }
   },
   "outputs": [],
   "source": [
    "# hand-pick var_interest\n",
    "var_interest = ['prec_sfc', 'T_sfc', 'rh_sfc', 'u_sfc', 'v_sfc', 'p_sfc', 'T_p', 'rh_p', 'u_p', 'v_p']"
   ]
  },
  {
   "cell_type": "code",
   "execution_count": 37,
   "metadata": {
    "ExecuteTime": {
     "end_time": "2019-03-04T00:59:59.752409Z",
     "start_time": "2019-03-04T00:59:59.744388Z"
    }
   },
   "outputs": [
    {
     "name": "stdout",
     "output_type": "stream",
     "text": [
      "<xarray.Dataset>\n",
      "Dimensions:   (p: 37, time: 78888)\n",
      "Coordinates:\n",
      "  * p         (p) float32 1000.0 975.0 950.0 925.0 ... 175.0 150.0 125.0 100.0\n",
      "  * time      (time) datetime64[ns] 2002-01-01T00:30:00 ... 2010-12-31T23:30:00\n",
      "Data variables:\n",
      "    prec_sfc  (time) float32 dask.array<shape=(78888,), chunksize=(8760,)>\n",
      "    T_sfc     (time) float32 dask.array<shape=(78888,), chunksize=(8760,)>\n",
      "    rh_sfc    (time) float32 dask.array<shape=(78888,), chunksize=(8760,)>\n",
      "    u_sfc     (time) float32 dask.array<shape=(78888,), chunksize=(8760,)>\n",
      "    v_sfc     (time) float32 dask.array<shape=(78888,), chunksize=(8760,)>\n",
      "    p_sfc     (time) float32 dask.array<shape=(78888,), chunksize=(8760,)>\n",
      "    T_p       (time, p) float32 dask.array<shape=(78888, 37), chunksize=(8760, 37)>\n",
      "    rh_p      (time, p) float32 dask.array<shape=(78888, 37), chunksize=(8760, 37)>\n",
      "    u_p       (time, p) float32 dask.array<shape=(78888, 37), chunksize=(8760, 37)>\n",
      "    v_p       (time, p) float32 dask.array<shape=(78888, 37), chunksize=(8760, 37)>\n",
      "Attributes:\n",
      "    Conventions:             CF-1.6\n",
      "    title:                   ARM Best Estimate (ARMBE) Product, atmospheric p...\n",
      "    description:             ARM Best Estimate hourly averaged qc controlled ...\n",
      "    project:                 Atmospheric Radiation Measurements (ARM) Program...\n",
      "    location:                TWP, C3; lon = 130.9 E, lat = 12.4 S, alt = 29.9...\n",
      "    averaging_interval:      60 min. reported at the center of the interval\n",
      "    references:              http://science.arm.gov/wg/cpm/scm/best_estimate....\n",
      "    institution:             Lawrence Livermore National Laboratory, CA, USA\n",
      "    software:                IDL program, R.B.McCoy, LLNL, renata@llnl.gov\n",
      "    source:                  ARM VAPs: MET, sounding\n",
      "    source_met:              twpsmet60sC3.b1.2002*.cdf\n",
      "    source_sonde:            twpsondewnpnC3.b1.2002*.cdf\n",
      "    site_id:                 twp\n",
      "    facility_id:             C3\n",
      "    platform_id:             armbeatm\n",
      "    datastream:              twparmbeatmC3.c1\n",
      "    location_description:    Tropical Western Pacific (TWP), Darwin, Australia\n",
      "    data_level:              c1\n",
      "    dod_version:             armbeatm-c1-1.4\n",
      "    process_version:         armbeatm v1.4\n",
      "    command_line:            armbeatm_correct_soundings_v1.4\n",
      "    input_datastreams:       twparmbeatmC3.c1:1.3:20100101; twpsondewnpnC3.b1...\n",
      "    postprocessing_date:     Tue Feb  4 20:14:26 2014 UTC\n",
      "    postprocessing_commnd:   armbeatm_correct_soundings_v1.4\n",
      "    postprocessing_svn_tag:  9650\n",
      "    doi:                     10.5439/1111571\n",
      "    doi_url:                 http://dx.doi.org/10.5439/1111571\n",
      "    suggested_citation:      see http://www.arm.gov/data/armbe\n",
      "    history:                 created by user mccoy20 on machine dream.llnl.go...\n",
      "\n"
     ]
    }
   ],
   "source": [
    "DS_interest = DS_extract(DS, \n",
    "                         extract_list=var_interest,\n",
    "                         drop_list=['z2','z10'])\n",
    "print(DS_interest)\n",
    "\n",
    "try:\n",
    "    DS2_interest = DS_extract(DS2, \n",
    "                              extract_list=var_interest)\n",
    "    print(DS2_interest)\n",
    "except:\n",
    "    print('')"
   ]
  },
  {
   "cell_type": "markdown",
   "metadata": {},
   "source": [
    "## Predictand Shift"
   ]
  },
  {
   "cell_type": "code",
   "execution_count": 38,
   "metadata": {
    "ExecuteTime": {
     "end_time": "2019-03-04T00:59:59.847967Z",
     "start_time": "2019-03-04T00:59:59.845624Z"
    }
   },
   "outputs": [],
   "source": [
    "from utils import DS_shift_and_append"
   ]
  },
  {
   "cell_type": "code",
   "execution_count": 39,
   "metadata": {
    "ExecuteTime": {
     "end_time": "2019-03-04T00:59:59.952749Z",
     "start_time": "2019-03-04T00:59:59.940948Z"
    }
   },
   "outputs": [
    {
     "name": "stdout",
     "output_type": "stream",
     "text": [
      "<xarray.Dataset>\n",
      "Dimensions:        (p: 37, time: 78888)\n",
      "Coordinates:\n",
      "  * time           (time) datetime64[ns] 2002-01-01T00:30:00 ... 2010-12-31T23:30:00\n",
      "  * p              (p) float32 1000.0 975.0 950.0 925.0 ... 150.0 125.0 100.0\n",
      "Data variables:\n",
      "    prec_sfc_next  (time) float32 dask.array<shape=(78888,), chunksize=(8760,)>\n",
      "    prec_sfc       (time) float32 dask.array<shape=(78888,), chunksize=(8760,)>\n",
      "    T_sfc          (time) float32 dask.array<shape=(78888,), chunksize=(8760,)>\n",
      "    rh_sfc         (time) float32 dask.array<shape=(78888,), chunksize=(8760,)>\n",
      "    u_sfc          (time) float32 dask.array<shape=(78888,), chunksize=(8760,)>\n",
      "    v_sfc          (time) float32 dask.array<shape=(78888,), chunksize=(8760,)>\n",
      "    p_sfc          (time) float32 dask.array<shape=(78888,), chunksize=(8760,)>\n",
      "    T_p            (time, p) float32 dask.array<shape=(78888, 37), chunksize=(8760, 37)>\n",
      "    rh_p           (time, p) float32 dask.array<shape=(78888, 37), chunksize=(8760, 37)>\n",
      "    u_p            (time, p) float32 dask.array<shape=(78888, 37), chunksize=(8760, 37)>\n",
      "    v_p            (time, p) float32 dask.array<shape=(78888, 37), chunksize=(8760, 37)>\n",
      "\n"
     ]
    }
   ],
   "source": [
    "DS_shift = DS_shift_and_append(DS_interest,\n",
    "                               var_name='prec_sfc',\n",
    "                               new_var_name='prec_sfc_next',\n",
    "                               shift_hour=1)\n",
    "print(DS_shift)\n",
    "\n",
    "try:\n",
    "    DS2_shift = DS_shift_and_append(DS2_interest,\n",
    "                                     var_name='prec_sfc',\n",
    "                                     new_var_name='prec_sfc_next',\n",
    "                                     shift_hour=1)\n",
    "    print(DS2_shift)\n",
    "except:\n",
    "    print('')"
   ]
  },
  {
   "cell_type": "code",
   "execution_count": 40,
   "metadata": {
    "ExecuteTime": {
     "end_time": "2019-03-04T01:00:00.622431Z",
     "start_time": "2019-03-04T01:00:00.046199Z"
    }
   },
   "outputs": [
    {
     "name": "stdout",
     "output_type": "stream",
     "text": [
      "Precipitation shift is correctly done.\n"
     ]
    }
   ],
   "source": [
    "if np.nanargmax(DS_shift['prec_sfc'].values) - np.nanargmax(DS_shift['prec_sfc_next'].values) == 1:\n",
    "    print('Precipitation shift is correctly done.')\n",
    "else:\n",
    "    print('Something wrong with the shift.')"
   ]
  },
  {
   "cell_type": "markdown",
   "metadata": {},
   "source": [
    "## NaN Dropping"
   ]
  },
  {
   "cell_type": "code",
   "execution_count": 41,
   "metadata": {
    "ExecuteTime": {
     "end_time": "2019-03-04T01:00:03.965332Z",
     "start_time": "2019-03-04T01:00:00.720698Z"
    }
   },
   "outputs": [
    {
     "name": "stdout",
     "output_type": "stream",
     "text": [
      "<xarray.Dataset>\n",
      "Dimensions:        (p: 37, time: 5470)\n",
      "Coordinates:\n",
      "  * time           (time) datetime64[ns] 2002-04-01T11:30:00 ... 2010-08-16T23:30:00\n",
      "  * p              (p) float32 1000.0 975.0 950.0 925.0 ... 150.0 125.0 100.0\n",
      "Data variables:\n",
      "    prec_sfc_next  (time) float32 dask.array<shape=(5470,), chunksize=(487,)>\n",
      "    prec_sfc       (time) float32 dask.array<shape=(5470,), chunksize=(487,)>\n",
      "    T_sfc          (time) float32 dask.array<shape=(5470,), chunksize=(487,)>\n",
      "    rh_sfc         (time) float32 dask.array<shape=(5470,), chunksize=(487,)>\n",
      "    u_sfc          (time) float32 dask.array<shape=(5470,), chunksize=(487,)>\n",
      "    v_sfc          (time) float32 dask.array<shape=(5470,), chunksize=(487,)>\n",
      "    p_sfc          (time) float32 dask.array<shape=(5470,), chunksize=(487,)>\n",
      "    T_p            (time, p) float32 dask.array<shape=(5470, 37), chunksize=(487, 37)>\n",
      "    rh_p           (time, p) float32 dask.array<shape=(5470, 37), chunksize=(487, 37)>\n",
      "    u_p            (time, p) float32 dask.array<shape=(5470, 37), chunksize=(487, 37)>\n",
      "    v_p            (time, p) float32 dask.array<shape=(5470, 37), chunksize=(487, 37)>\n",
      "\n"
     ]
    }
   ],
   "source": [
    "DS_shift = DS_shift.dropna(dim='time')\n",
    "print(DS_shift)\n",
    "\n",
    "try:\n",
    "    DS2_shift = DS2_shift.dropna(dim='time')\n",
    "    print(DS2_shift)\n",
    "except:\n",
    "    print('')"
   ]
  },
  {
   "cell_type": "markdown",
   "metadata": {},
   "source": [
    "# DataSet Merging"
   ]
  },
  {
   "cell_type": "code",
   "execution_count": 42,
   "metadata": {
    "ExecuteTime": {
     "end_time": "2019-03-04T01:00:04.061597Z",
     "start_time": "2019-03-04T01:00:04.057622Z"
    }
   },
   "outputs": [
    {
     "name": "stdout",
     "output_type": "stream",
     "text": [
      "\n"
     ]
    }
   ],
   "source": [
    "try:\n",
    "    DS2_shift = DS2_shift.rename({'pressure':'p'})\n",
    "    DS_shift = xr.merge([DS_shift, DS2_shift])\n",
    "    print(DS_shift)\n",
    "except:\n",
    "    print('')"
   ]
  },
  {
   "cell_type": "markdown",
   "metadata": {},
   "source": [
    "# Post-extracting"
   ]
  },
  {
   "cell_type": "markdown",
   "metadata": {},
   "source": [
    "## NetCDF Saving"
   ]
  },
  {
   "cell_type": "code",
   "execution_count": 43,
   "metadata": {
    "ExecuteTime": {
     "end_time": "2019-03-04T01:00:04.157806Z",
     "start_time": "2019-03-04T01:00:04.153259Z"
    }
   },
   "outputs": [],
   "source": [
    "def save_netcdf(DS, FILE_PATH):\n",
    "    DS.to_netcdf(FILE_PATH)\n",
    "    \n",
    "    print_path = FILE_PATH.split('../')\n",
    "    print(f'Saved to {print_path[-1]}')\n",
    "    return None\n",
    "\n",
    "\n",
    "def get_save_file_path(file_name, stage=3):\n",
    "    CURRENT_DIR = os.getcwd()\n",
    "    DATA_DIR = f'{CURRENT_DIR}/../../data/stage-{stage}_cleaned'\n",
    "    FILE_PATH = f'{DATA_DIR}/{file_name}'\n",
    "    return FILE_PATH"
   ]
  },
  {
   "cell_type": "code",
   "execution_count": 44,
   "metadata": {
    "ExecuteTime": {
     "end_time": "2019-03-04T01:00:07.165100Z",
     "start_time": "2019-03-04T01:00:04.249656Z"
    }
   },
   "outputs": [
    {
     "name": "stdout",
     "output_type": "stream",
     "text": [
      "Saved to data/stage-3_cleaned/twparmbeatmC3_standard_dropped.cdf\n"
     ]
    }
   ],
   "source": [
    "file_name = f'{stream}_standard_dropped.cdf'\n",
    "FILE_PATH = get_save_file_path(file_name)\n",
    "\n",
    "save_netcdf(DS_shift, FILE_PATH)"
   ]
  },
  {
   "cell_type": "code",
   "execution_count": null,
   "metadata": {},
   "outputs": [],
   "source": []
  },
  {
   "cell_type": "code",
   "execution_count": null,
   "metadata": {},
   "outputs": [],
   "source": []
  }
 ],
 "metadata": {
  "hide_input": false,
  "kernelspec": {
   "display_name": "Python 3",
   "language": "python",
   "name": "python3"
  },
  "language_info": {
   "codemirror_mode": {
    "name": "ipython",
    "version": 3
   },
   "file_extension": ".py",
   "mimetype": "text/x-python",
   "name": "python",
   "nbconvert_exporter": "python",
   "pygments_lexer": "ipython3",
   "version": "3.6.8"
  },
  "toc": {
   "base_numbering": 1,
   "nav_menu": {},
   "number_sections": true,
   "sideBar": true,
   "skip_h1_title": false,
   "title_cell": "Table of Contents",
   "title_sidebar": "Contents",
   "toc_cell": false,
   "toc_position": {},
   "toc_section_display": true,
   "toc_window_display": true
  },
  "varInspector": {
   "cols": {
    "lenName": 16,
    "lenType": 16,
    "lenVar": 40
   },
   "kernels_config": {
    "python": {
     "delete_cmd_postfix": "",
     "delete_cmd_prefix": "del ",
     "library": "var_list.py",
     "varRefreshCmd": "print(var_dic_list())"
    },
    "r": {
     "delete_cmd_postfix": ") ",
     "delete_cmd_prefix": "rm(",
     "library": "var_list.r",
     "varRefreshCmd": "cat(var_dic_list()) "
    }
   },
   "oldHeight": 277.85,
   "position": {
    "height": "40px",
    "left": "1170px",
    "right": "17px",
    "top": "120px",
    "width": "253px"
   },
   "types_to_exclude": [
    "module",
    "function",
    "builtin_function_or_method",
    "instance",
    "_Feature"
   ],
   "varInspector_section_display": "none",
   "window_display": true
  }
 },
 "nbformat": 4,
 "nbformat_minor": 2
}

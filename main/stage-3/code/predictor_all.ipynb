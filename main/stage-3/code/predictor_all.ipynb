{
 "cells": [
  {
   "cell_type": "markdown",
   "metadata": {
    "hide_input": true
   },
   "source": [
    "# Setup"
   ]
  },
  {
   "cell_type": "markdown",
   "metadata": {},
   "source": [
    "## Python Environment"
   ]
  },
  {
   "cell_type": "code",
   "execution_count": 1,
   "metadata": {
    "ExecuteTime": {
     "end_time": "2019-02-28T00:58:57.445172Z",
     "start_time": "2019-02-28T00:52:59.921818Z"
    }
   },
   "outputs": [
    {
     "name": "stdout",
     "output_type": "stream",
     "text": [
      "All packages imported.\n",
      "Random seed set as 42.\n"
     ]
    }
   ],
   "source": [
    "import os\n",
    "import copy\n",
    "import numpy as np\n",
    "import pandas as pd\n",
    "import matplotlib.pyplot as plt\n",
    "import seaborn as sns\n",
    "import ipywidgets as widgets\n",
    "import xarray as xr\n",
    "print('All packages imported.')\n",
    "\n",
    "# default_site = 'twp-C1'\n",
    "seed = 42 # for reproducibility\n",
    "print(f'Random seed set as {seed}.')"
   ]
  },
  {
   "cell_type": "code",
   "execution_count": 2,
   "metadata": {
    "ExecuteTime": {
     "end_time": "2019-02-28T00:59:44.968023Z",
     "start_time": "2019-02-28T00:59:44.950338Z"
    }
   },
   "outputs": [
    {
     "name": "stdout",
     "output_type": "stream",
     "text": [
      "Threshold of rainy event is 0.1 mm/hr\n"
     ]
    }
   ],
   "source": [
    "# Set threshold of rainy events\n",
    "prec_threshold = 0.1\n",
    "print(f'Threshold of rainy event is {prec_threshold} mm/hr')"
   ]
  },
  {
   "cell_type": "code",
   "execution_count": 3,
   "metadata": {
    "ExecuteTime": {
     "end_time": "2019-02-28T01:00:00.467634Z",
     "start_time": "2019-02-28T00:59:48.228666Z"
    }
   },
   "outputs": [],
   "source": [
    "# Forced library reload\n",
    "%reload_ext autoreload\n",
    "%autoreload 2\n",
    "# %aimport utils"
   ]
  },
  {
   "cell_type": "markdown",
   "metadata": {},
   "source": [
    "# Data Pre-processing"
   ]
  },
  {
   "cell_type": "markdown",
   "metadata": {},
   "source": [
    "## Data Import from Pickle"
   ]
  },
  {
   "cell_type": "code",
   "execution_count": 15,
   "metadata": {
    "ExecuteTime": {
     "end_time": "2019-02-28T01:35:23.953389Z",
     "start_time": "2019-02-28T01:34:11.622832Z"
    }
   },
   "outputs": [],
   "source": [
    "import pickle\n",
    "from utils import sample_concat\n",
    "\n",
    "def get_save_file_path(file_name, stage=2):\n",
    "    CURRENT_DIR = os.getcwd()\n",
    "    DATA_DIR = f'{CURRENT_DIR}/../../data/stage-{stage}_cleaned'\n",
    "    FILE_PATH = f'{DATA_DIR}/{file_name}'\n",
    "    return FILE_PATH"
   ]
  },
  {
   "cell_type": "code",
   "execution_count": 6,
   "metadata": {
    "ExecuteTime": {
     "end_time": "2019-02-28T01:04:48.644410Z",
     "start_time": "2019-02-28T01:03:51.724933Z"
    }
   },
   "outputs": [],
   "source": [
    "streams, s_list = ['twparmbeatmC1', 'twparmbeatmC2', 'twparmbeatmC3', 'sgparmbeatmC1'], []\n",
    "\n",
    "for stream in streams:\n",
    "    with open(get_save_file_path(f'{stream}.obj.pickle'), 'rb') as handle:\n",
    "        s_list.append(pickle.load(handle))"
   ]
  },
  {
   "cell_type": "code",
   "execution_count": 16,
   "metadata": {
    "ExecuteTime": {
     "end_time": "2019-02-28T01:36:05.698018Z",
     "start_time": "2019-02-28T01:36:05.636819Z"
    }
   },
   "outputs": [
    {
     "name": "stdout",
     "output_type": "stream",
     "text": [
      "10926, 5463, 1822\n"
     ]
    }
   ],
   "source": [
    "s = sample_concat(s_list, shuffle=True)\n",
    "print(f'{s.train.size}, {s.validation.size}, {s.test.size}')"
   ]
  },
  {
   "cell_type": "markdown",
   "metadata": {},
   "source": [
    "## Data Standardization/Flattening"
   ]
  },
  {
   "cell_type": "code",
   "execution_count": 17,
   "metadata": {
    "ExecuteTime": {
     "end_time": "2019-02-28T01:36:41.372113Z",
     "start_time": "2019-02-28T01:36:12.563767Z"
    }
   },
   "outputs": [],
   "source": [
    "from utils import standardize_all, flattening_all\n",
    "s = standardize_all(s)\n",
    "s = flattening_all(s)"
   ]
  },
  {
   "cell_type": "markdown",
   "metadata": {},
   "source": [
    "## Data Grouping"
   ]
  },
  {
   "cell_type": "code",
   "execution_count": 18,
   "metadata": {
    "ExecuteTime": {
     "end_time": "2019-02-28T01:37:40.137857Z",
     "start_time": "2019-02-28T01:37:40.071878Z"
    }
   },
   "outputs": [],
   "source": [
    "# for convenience\n",
    "from utils import all_x, all_y\n",
    "\n",
    "# for classification\n",
    "all_data = (s.train.Xflatten, s.validation.Xflatten, np.squeeze(s.train.bin), np.squeeze(s.validation.bin))\n",
    "#all_data = (train_Xflatten, valid_Xflatten, np.squeeze(train_bin), np.squeeze(valid_bin))"
   ]
  },
  {
   "cell_type": "markdown",
   "metadata": {},
   "source": [
    "# Classical Classification"
   ]
  },
  {
   "cell_type": "markdown",
   "metadata": {},
   "source": [
    "## Model Objectification"
   ]
  },
  {
   "cell_type": "raw",
   "metadata": {
    "ExecuteTime": {
     "end_time": "2019-02-26T15:46:14.317486Z",
     "start_time": "2019-02-26T15:46:14.287220Z"
    }
   },
   "source": [
    "# class weight implementation (replaced y f1_macro loss)\n",
    "'''\n",
    "from sklearn.utils.class_weight import compute_class_weight\n",
    "classes = [0,1]\n",
    "class_w = compute_class_weight(class_weight='balanced', \n",
    "                               classes=classes, \n",
    "                               y=np.squeeze(train_bin))\n",
    "\n",
    "class_w_dict = dict(zip(classes,class_w))\n",
    "class_w_dict\n",
    "'''"
   ]
  },
  {
   "cell_type": "code",
   "execution_count": 19,
   "metadata": {
    "ExecuteTime": {
     "end_time": "2019-02-28T01:39:00.066134Z",
     "start_time": "2019-02-28T01:39:00.034932Z"
    }
   },
   "outputs": [],
   "source": [
    "from classes import Classifier"
   ]
  },
  {
   "cell_type": "markdown",
   "metadata": {},
   "source": [
    "## Common Classifiers"
   ]
  },
  {
   "cell_type": "markdown",
   "metadata": {
    "ExecuteTime": {
     "end_time": "2019-02-17T17:03:07.230404Z",
     "start_time": "2019-02-17T17:03:07.225191Z"
    }
   },
   "source": [
    "### K-nearest Neighbours"
   ]
  },
  {
   "cell_type": "code",
   "execution_count": 20,
   "metadata": {
    "ExecuteTime": {
     "end_time": "2019-02-28T01:47:13.800498Z",
     "start_time": "2019-02-28T01:39:00.140085Z"
    }
   },
   "outputs": [
    {
     "name": "stdout",
     "output_type": "stream",
     "text": [
      "KNN k=1: CV F1 macro= [0.6166] + [0.0136]\n",
      "KNN k=2: CV F1 macro= [0.5831] + [0.0148]\n",
      "KNN k=3: CV F1 macro= [0.6203] + [0.0124]\n",
      "KNN k=4: CV F1 macro= [0.5755] + [0.0119]\n",
      "KNN k=5: CV F1 macro= [0.6058] + [0.0135]\n",
      "KNN k=6: CV F1 macro= [0.5634] + [0.0126]\n",
      "KNN k=7: CV F1 macro= [0.5888] + [0.0128]\n",
      "KNN k=8: CV F1 macro= [0.5471] + [0.0078]\n",
      "KNN k=9: CV F1 macro= [0.5616] + [0.0067]\n",
      "KNN k=10: CV F1 macro= [0.5401] + [0.0086]\n",
      "              precision    recall  f1-score   support\n",
      "\n",
      "       False       0.92      0.97      0.95      4946\n",
      "        True       0.42      0.22      0.29       517\n",
      "\n",
      "   micro avg       0.90      0.90      0.90      5463\n",
      "   macro avg       0.67      0.59      0.62      5463\n",
      "weighted avg       0.87      0.90      0.88      5463\n",
      "\n",
      "[[4794  152]\n",
      " [ 405  112]]\n",
      "AUROC= 0.5930\n",
      "F1 macro= 0.6160\n",
      "\n",
      "KNN k=3: F1 macro= 0.6160\n"
     ]
    }
   ],
   "source": [
    "# WARNING - high-dim KNN is time-consuming\n",
    "from utils_classifiers import KNN_grid_search\n",
    "# KNN does not have class_weight implemented - make sense\n",
    "knn = Classifier('KNN', KNN_grid_search(all_data))"
   ]
  },
  {
   "cell_type": "markdown",
   "metadata": {},
   "source": [
    "### Logistic Regression"
   ]
  },
  {
   "cell_type": "code",
   "execution_count": 21,
   "metadata": {
    "ExecuteTime": {
     "end_time": "2019-02-28T02:01:12.170334Z",
     "start_time": "2019-02-28T01:47:31.810475Z"
    }
   },
   "outputs": [
    {
     "name": "stdout",
     "output_type": "stream",
     "text": [
      "L2 LogReg β=0.1: CV F1 macro= [0.5848] + [0.0081]\n",
      "L2 LogReg β=0.2: CV F1 macro= [0.5854] + [0.0079]\n",
      "L2 LogReg β=0.3: CV F1 macro= [0.5863] + [0.0086]\n",
      "L2 LogReg β=0.4: CV F1 macro= [0.5861] + [0.0086]\n",
      "L2 LogReg β=0.5: CV F1 macro= [0.5857] + [0.0090]\n",
      "L2 LogReg β=0.6: CV F1 macro= [0.5858] + [0.0089]\n",
      "L2 LogReg β=0.7: CV F1 macro= [0.5856] + [0.0085]\n",
      "L2 LogReg β=0.8: CV F1 macro= [0.5854] + [0.0089]\n",
      "L2 LogReg β=0.9: CV F1 macro= [0.5855] + [0.0081]\n",
      "L2 LogReg β=1.0: CV F1 macro= [0.5850] + [0.0081]\n",
      "L2 LogReg β=2.0: CV F1 macro= [0.5844] + [0.0068]\n",
      "L2 LogReg β=3.0: CV F1 macro= [0.5848] + [0.0063]\n",
      "L2 LogReg β=4.0: CV F1 macro= [0.5851] + [0.0066]\n",
      "L2 LogReg β=5.0: CV F1 macro= [0.5852] + [0.0066]\n",
      "L2 LogReg β=6.0: CV F1 macro= [0.5852] + [0.0067]\n",
      "L2 LogReg β=7.0: CV F1 macro= [0.5853] + [0.0066]\n",
      "L2 LogReg β=8.0: CV F1 macro= [0.5849] + [0.0066]\n",
      "L2 LogReg β=9.0: CV F1 macro= [0.5847] + [0.0067]\n",
      "L2 LogReg β=10.0: CV F1 macro= [0.5847] + [0.0064]\n",
      "L1 LogReg β=0.1: CV F1 macro= [0.5849] + [0.0056]\n",
      "L1 LogReg β=0.2: CV F1 macro= [0.5869] + [0.0067]\n",
      "L1 LogReg β=0.3: CV F1 macro= [0.5872] + [0.0078]\n",
      "L1 LogReg β=0.4: CV F1 macro= [0.5859] + [0.0083]\n",
      "L1 LogReg β=0.5: CV F1 macro= [0.5845] + [0.0084]\n",
      "L1 LogReg β=0.6: CV F1 macro= [0.5851] + [0.0078]\n",
      "L1 LogReg β=0.7: CV F1 macro= [0.5854] + [0.0073]\n",
      "L1 LogReg β=0.8: CV F1 macro= [0.5851] + [0.0074]\n",
      "L1 LogReg β=0.9: CV F1 macro= [0.5852] + [0.0072]\n",
      "L1 LogReg β=1.0: CV F1 macro= [0.5854] + [0.0075]\n",
      "L1 LogReg β=2.0: CV F1 macro= [0.5844] + [0.0068]\n",
      "L1 LogReg β=3.0: CV F1 macro= [0.5849] + [0.0064]\n",
      "L1 LogReg β=4.0: CV F1 macro= [0.5845] + [0.0059]\n",
      "L1 LogReg β=5.0: CV F1 macro= [0.5850] + [0.0062]\n",
      "L1 LogReg β=6.0: CV F1 macro= [0.5852] + [0.0062]\n",
      "L1 LogReg β=7.0: CV F1 macro= [0.5853] + [0.0058]\n",
      "L1 LogReg β=8.0: CV F1 macro= [0.5850] + [0.0060]\n",
      "L1 LogReg β=9.0: CV F1 macro= [0.5849] + [0.0060]\n",
      "L1 LogReg β=10.0: CV F1 macro= [0.5850] + [0.0060]\n"
     ]
    },
    {
     "name": "stderr",
     "output_type": "stream",
     "text": [
      "/scratch/s1895566/miniconda/base/envs/venv/lib/python3.6/site-packages/sklearn/linear_model/logistic.py:433: FutureWarning: Default solver will be changed to 'lbfgs' in 0.22. Specify a solver to silence this warning.\n",
      "  FutureWarning)\n"
     ]
    },
    {
     "name": "stdout",
     "output_type": "stream",
     "text": [
      "              precision    recall  f1-score   support\n",
      "\n",
      "       False       0.96      0.73      0.83      4946\n",
      "        True       0.22      0.72      0.33       517\n",
      "\n",
      "   micro avg       0.73      0.73      0.73      5463\n",
      "   macro avg       0.59      0.72      0.58      5463\n",
      "weighted avg       0.89      0.73      0.78      5463\n",
      "\n",
      "[[3604 1342]\n",
      " [ 146  371]]\n",
      "AUROC= 0.7231\n",
      "F1 macro= 0.5808\n",
      "\n",
      "L1 LogReg β=0.3: F1 macro= 0.5808\n"
     ]
    }
   ],
   "source": [
    "from utils_classifiers import LogReg_grid_search\n",
    "logreg = Classifier('Logistic Regression', LogReg_grid_search(all_data))"
   ]
  },
  {
   "cell_type": "markdown",
   "metadata": {
    "hide_input": true
   },
   "source": [
    "### Support-vector Machine"
   ]
  },
  {
   "cell_type": "code",
   "execution_count": 22,
   "metadata": {
    "ExecuteTime": {
     "end_time": "2019-02-28T02:16:21.545938Z",
     "start_time": "2019-02-28T02:01:36.824674Z"
    }
   },
   "outputs": [
    {
     "name": "stdout",
     "output_type": "stream",
     "text": [
      "SVM β=0.1: CV F1 macro= [0.5598] + [0.0072]\n",
      "SVM β=0.2: CV F1 macro= [0.5771] + [0.0070]\n",
      "SVM β=0.3: CV F1 macro= [0.5899] + [0.0063]\n",
      "SVM β=0.4: CV F1 macro= [0.5981] + [0.0057]\n",
      "SVM β=0.5: CV F1 macro= [0.6032] + [0.0066]\n",
      "SVM β=0.6: CV F1 macro= [0.6085] + [0.0062]\n",
      "SVM β=0.7: CV F1 macro= [0.6128] + [0.0060]\n",
      "SVM β=0.8: CV F1 macro= [0.6160] + [0.0050]\n",
      "SVM β=0.9: CV F1 macro= [0.6194] + [0.0052]\n",
      "SVM β=1.0: CV F1 macro= [0.6205] + [0.0052]\n",
      "SVM β=2.0: CV F1 macro= [0.6370] + [0.0090]\n",
      "SVM β=3.0: CV F1 macro= [0.6497] + [0.0088]\n",
      "SVM β=4.0: CV F1 macro= [0.6530] + [0.0086]\n",
      "SVM β=5.0: CV F1 macro= [0.6563] + [0.0092]\n",
      "SVM β=6.0: CV F1 macro= [0.6591] + [0.0101]\n",
      "SVM β=7.0: CV F1 macro= [0.6600] + [0.0091]\n",
      "SVM β=8.0: CV F1 macro= [0.6604] + [0.0087]\n",
      "SVM β=9.0: CV F1 macro= [0.6618] + [0.0070]\n",
      "SVM β=10.0: CV F1 macro= [0.6636] + [0.0092]\n",
      "              precision    recall  f1-score   support\n",
      "\n",
      "       False       0.95      0.88      0.91      4946\n",
      "        True       0.32      0.52      0.39       517\n",
      "\n",
      "   micro avg       0.85      0.85      0.85      5463\n",
      "   macro avg       0.63      0.70      0.65      5463\n",
      "weighted avg       0.89      0.85      0.86      5463\n",
      "\n",
      "[[4371  575]\n",
      " [ 249  268]]\n",
      "AUROC= 0.7011\n",
      "F1 macro= 0.6540\n",
      "\n",
      "SVM β=10.0: F1 macro= 0.6540\n"
     ]
    }
   ],
   "source": [
    "from utils_classifiers import SVM_grid_search\n",
    "svm = Classifier('SVM', SVM_grid_search(all_data))"
   ]
  },
  {
   "cell_type": "markdown",
   "metadata": {},
   "source": [
    "## Tree-type Classifiers"
   ]
  },
  {
   "cell_type": "markdown",
   "metadata": {},
   "source": [
    "### Random Forest"
   ]
  },
  {
   "cell_type": "code",
   "execution_count": 23,
   "metadata": {
    "ExecuteTime": {
     "end_time": "2019-02-28T02:17:32.898697Z",
     "start_time": "2019-02-28T02:16:34.202822Z"
    }
   },
   "outputs": [
    {
     "name": "stdout",
     "output_type": "stream",
     "text": [
      "              precision    recall  f1-score   support\n",
      "\n",
      "       False       0.97      0.71      0.82      4946\n",
      "        True       0.22      0.76      0.34       517\n",
      "\n",
      "   micro avg       0.72      0.72      0.72      5463\n",
      "   macro avg       0.59      0.74      0.58      5463\n",
      "weighted avg       0.90      0.72      0.77      5463\n",
      "\n",
      "[[3524 1422]\n",
      " [ 122  395]]\n",
      "AUROC= 0.7383\n",
      "F1 macro= 0.5794\n",
      "RandomForest depth=2: F1 macro= [0.5794]\n",
      "              precision    recall  f1-score   support\n",
      "\n",
      "       False       0.97      0.74      0.84      4946\n",
      "        True       0.24      0.76      0.36       517\n",
      "\n",
      "   micro avg       0.74      0.74      0.74      5463\n",
      "   macro avg       0.60      0.75      0.60      5463\n",
      "weighted avg       0.90      0.74      0.79      5463\n",
      "\n",
      "[[3666 1280]\n",
      " [ 122  395]]\n",
      "AUROC= 0.7526\n",
      "F1 macro= 0.5999\n",
      "RandomForest depth=3: F1 macro= [0.5999]\n",
      "              precision    recall  f1-score   support\n",
      "\n",
      "       False       0.97      0.77      0.86      4946\n",
      "        True       0.26      0.77      0.39       517\n",
      "\n",
      "   micro avg       0.77      0.77      0.77      5463\n",
      "   macro avg       0.62      0.77      0.63      5463\n",
      "weighted avg       0.90      0.77      0.82      5463\n",
      "\n",
      "[[3827 1119]\n",
      " [ 118  399]]\n",
      "AUROC= 0.7728\n",
      "F1 macro= 0.6265\n",
      "RandomForest depth=4: F1 macro= [0.6265]\n",
      "              precision    recall  f1-score   support\n",
      "\n",
      "       False       0.97      0.81      0.88      4946\n",
      "        True       0.29      0.76      0.42       517\n",
      "\n",
      "   micro avg       0.81      0.81      0.81      5463\n",
      "   macro avg       0.63      0.78      0.65      5463\n",
      "weighted avg       0.91      0.81      0.84      5463\n",
      "\n",
      "[[4010  936]\n",
      " [ 126  391]]\n",
      "AUROC= 0.7835\n",
      "F1 macro= 0.6536\n",
      "RandomForest depth=5: F1 macro= [0.6536]\n",
      "              precision    recall  f1-score   support\n",
      "\n",
      "       False       0.97      0.85      0.90      4946\n",
      "        True       0.34      0.74      0.46       517\n",
      "\n",
      "   micro avg       0.84      0.84      0.84      5463\n",
      "   macro avg       0.65      0.79      0.68      5463\n",
      "weighted avg       0.91      0.84      0.86      5463\n",
      "\n",
      "[[4197  749]\n",
      " [ 136  381]]\n",
      "AUROC= 0.7928\n",
      "F1 macro= 0.6836\n",
      "RandomForest depth=6: F1 macro= [0.6836]\n",
      "              precision    recall  f1-score   support\n",
      "\n",
      "       False       0.97      0.88      0.92      4946\n",
      "        True       0.39      0.70      0.50       517\n",
      "\n",
      "   micro avg       0.87      0.87      0.87      5463\n",
      "   macro avg       0.68      0.79      0.71      5463\n",
      "weighted avg       0.91      0.87      0.88      5463\n",
      "\n",
      "[[4377  569]\n",
      " [ 154  363]]\n",
      "AUROC= 0.7935\n",
      "F1 macro= 0.7124\n",
      "RandomForest depth=7: F1 macro= [0.7124]\n",
      "              precision    recall  f1-score   support\n",
      "\n",
      "       False       0.96      0.91      0.94      4946\n",
      "        True       0.44      0.66      0.53       517\n",
      "\n",
      "   micro avg       0.89      0.89      0.89      5463\n",
      "   macro avg       0.70      0.79      0.73      5463\n",
      "weighted avg       0.91      0.89      0.90      5463\n",
      "\n",
      "[[4520  426]\n",
      " [ 177  340]]\n",
      "AUROC= 0.7858\n",
      "F1 macro= 0.7337\n",
      "RandomForest depth=8: F1 macro= [0.7337]\n",
      "              precision    recall  f1-score   support\n",
      "\n",
      "       False       0.96      0.94      0.95      4946\n",
      "        True       0.51      0.60      0.55       517\n",
      "\n",
      "   micro avg       0.91      0.91      0.91      5463\n",
      "   macro avg       0.73      0.77      0.75      5463\n",
      "weighted avg       0.92      0.91      0.91      5463\n",
      "\n",
      "[[4645  301]\n",
      " [ 206  311]]\n",
      "AUROC= 0.7703\n",
      "F1 macro= 0.7496\n",
      "RandomForest depth=9: F1 macro= [0.7496]\n",
      "              precision    recall  f1-score   support\n",
      "\n",
      "       False       0.95      0.95      0.95      4946\n",
      "        True       0.55      0.56      0.55       517\n",
      "\n",
      "   micro avg       0.92      0.92      0.92      5463\n",
      "   macro avg       0.75      0.75      0.75      5463\n",
      "weighted avg       0.92      0.92      0.92      5463\n",
      "\n",
      "[[4712  234]\n",
      " [ 229  288]]\n",
      "AUROC= 0.7549\n",
      "F1 macro= 0.7538\n",
      "RandomForest depth=10: F1 macro= [0.7538]\n",
      "              precision    recall  f1-score   support\n",
      "\n",
      "       False       0.95      0.95      0.95      4946\n",
      "        True       0.55      0.56      0.55       517\n",
      "\n",
      "   micro avg       0.92      0.92      0.92      5463\n",
      "   macro avg       0.75      0.75      0.75      5463\n",
      "weighted avg       0.92      0.92      0.92      5463\n",
      "\n",
      "[[4712  234]\n",
      " [ 229  288]]\n",
      "AUROC= 0.7549\n",
      "F1 macro= 0.7538\n",
      "\n",
      "RandomForest depth=10: F1 macro= 0.7538\n"
     ]
    }
   ],
   "source": [
    "from utils_classifiers import RandomForest_grid_search\n",
    "forest = Classifier('Random Forest', RandomForest_grid_search(all_data))"
   ]
  },
  {
   "cell_type": "markdown",
   "metadata": {},
   "source": [
    "### Bagging"
   ]
  },
  {
   "cell_type": "code",
   "execution_count": 24,
   "metadata": {
    "ExecuteTime": {
     "end_time": "2019-02-28T02:18:53.734530Z",
     "start_time": "2019-02-28T02:17:45.515714Z"
    }
   },
   "outputs": [
    {
     "name": "stdout",
     "output_type": "stream",
     "text": [
      "              precision    recall  f1-score   support\n",
      "\n",
      "       False       0.95      0.98      0.96      4946\n",
      "        True       0.72      0.51      0.60       517\n",
      "\n",
      "   micro avg       0.93      0.93      0.93      5463\n",
      "   macro avg       0.83      0.75      0.78      5463\n",
      "weighted avg       0.93      0.93      0.93      5463\n",
      "\n",
      "[[4842  104]\n",
      " [ 252  265]]\n",
      "AUROC= 0.7458\n",
      "F1 macro= 0.7814\n"
     ]
    }
   ],
   "source": [
    "from utils_classifiers import Bagging\n",
    "# Bagging does not have class_weight implemented\n",
    "bag = Classifier('Bagging', Bagging(all_data))"
   ]
  },
  {
   "cell_type": "markdown",
   "metadata": {},
   "source": [
    "### Decision Tree"
   ]
  },
  {
   "cell_type": "code",
   "execution_count": 25,
   "metadata": {
    "ExecuteTime": {
     "end_time": "2019-02-28T02:19:07.566858Z",
     "start_time": "2019-02-28T02:19:04.763015Z"
    }
   },
   "outputs": [
    {
     "name": "stdout",
     "output_type": "stream",
     "text": [
      "              precision    recall  f1-score   support\n",
      "\n",
      "       False       0.94      0.95      0.95      4946\n",
      "        True       0.47      0.45      0.46       517\n",
      "\n",
      "   micro avg       0.90      0.90      0.90      5463\n",
      "   macro avg       0.71      0.70      0.70      5463\n",
      "weighted avg       0.90      0.90      0.90      5463\n",
      "\n",
      "[[4685  261]\n",
      " [ 284  233]]\n",
      "AUROC= 0.6990\n",
      "F1 macro= 0.7030\n"
     ]
    }
   ],
   "source": [
    "from utils_classifiers import DecisionTree\n",
    "tree = Classifier('Decision Tree', DecisionTree(all_data))"
   ]
  },
  {
   "cell_type": "markdown",
   "metadata": {},
   "source": [
    "### Extra Trees"
   ]
  },
  {
   "cell_type": "code",
   "execution_count": 26,
   "metadata": {
    "ExecuteTime": {
     "end_time": "2019-02-28T02:19:11.391643Z",
     "start_time": "2019-02-28T02:19:07.649912Z"
    }
   },
   "outputs": [
    {
     "name": "stdout",
     "output_type": "stream",
     "text": [
      "              precision    recall  f1-score   support\n",
      "\n",
      "       False       0.91      1.00      0.95      4946\n",
      "        True       0.70      0.08      0.15       517\n",
      "\n",
      "   micro avg       0.91      0.91      0.91      5463\n",
      "   macro avg       0.81      0.54      0.55      5463\n",
      "weighted avg       0.89      0.91      0.88      5463\n",
      "\n",
      "[[4928   18]\n",
      " [ 475   42]]\n",
      "AUROC= 0.5388\n",
      "F1 macro= 0.5490\n"
     ]
    }
   ],
   "source": [
    "from utils_classifiers import ExtraTrees\n",
    "extra = Classifier('Extra Trees', ExtraTrees(all_data))"
   ]
  },
  {
   "cell_type": "markdown",
   "metadata": {},
   "source": [
    "## Boosting Classifiers"
   ]
  },
  {
   "cell_type": "markdown",
   "metadata": {},
   "source": [
    "### Gradient Boosting"
   ]
  },
  {
   "cell_type": "code",
   "execution_count": 27,
   "metadata": {
    "ExecuteTime": {
     "end_time": "2019-02-28T02:22:17.223873Z",
     "start_time": "2019-02-28T02:19:11.484446Z"
    },
    "scrolled": true
   },
   "outputs": [
    {
     "name": "stdout",
     "output_type": "stream",
     "text": [
      "              precision    recall  f1-score   support\n",
      "\n",
      "       False       0.95      0.97      0.96      4946\n",
      "        True       0.68      0.51      0.58       517\n",
      "\n",
      "   micro avg       0.93      0.93      0.93      5463\n",
      "   macro avg       0.81      0.74      0.77      5463\n",
      "weighted avg       0.92      0.93      0.93      5463\n",
      "\n",
      "[[4821  125]\n",
      " [ 254  263]]\n",
      "AUROC= 0.7417\n",
      "F1 macro= 0.7717\n"
     ]
    }
   ],
   "source": [
    "from utils_classifiers import GradB\n",
    "# GradB does not have class_weight implemented\n",
    "gradb = Classifier('Gradient Boosting', GradB(all_data))"
   ]
  },
  {
   "cell_type": "markdown",
   "metadata": {},
   "source": [
    "### AdaBoost"
   ]
  },
  {
   "cell_type": "code",
   "execution_count": 28,
   "metadata": {
    "ExecuteTime": {
     "end_time": "2019-02-28T02:26:36.036483Z",
     "start_time": "2019-02-28T02:22:34.677312Z"
    }
   },
   "outputs": [
    {
     "name": "stdout",
     "output_type": "stream",
     "text": [
      "              precision    recall  f1-score   support\n",
      "\n",
      "       False       0.94      0.97      0.96      4946\n",
      "        True       0.62      0.41      0.49       517\n",
      "\n",
      "   micro avg       0.92      0.92      0.92      5463\n",
      "   macro avg       0.78      0.69      0.72      5463\n",
      "weighted avg       0.91      0.92      0.91      5463\n",
      "\n",
      "[[4815  131]\n",
      " [ 305  212]]\n",
      "AUROC= 0.6918\n",
      "F1 macro= 0.7249\n"
     ]
    }
   ],
   "source": [
    "from utils_classifiers import AdaB\n",
    "# AdaB does not have class_weight implemented\n",
    "adab = Classifier('AdaBoost', AdaB(all_data))"
   ]
  },
  {
   "cell_type": "markdown",
   "metadata": {},
   "source": [
    "### XGBoost"
   ]
  },
  {
   "cell_type": "code",
   "execution_count": 29,
   "metadata": {
    "ExecuteTime": {
     "end_time": "2019-02-28T02:27:08.254014Z",
     "start_time": "2019-02-28T02:26:50.338038Z"
    }
   },
   "outputs": [
    {
     "name": "stdout",
     "output_type": "stream",
     "text": [
      "              precision    recall  f1-score   support\n",
      "\n",
      "       False       0.95      0.98      0.97      4946\n",
      "        True       0.71      0.54      0.61       517\n",
      "\n",
      "   micro avg       0.94      0.94      0.94      5463\n",
      "   macro avg       0.83      0.76      0.79      5463\n",
      "weighted avg       0.93      0.94      0.93      5463\n",
      "\n",
      "[[4834  112]\n",
      " [ 238  279]]\n",
      "AUROC= 0.7585\n",
      "F1 macro= 0.7898\n"
     ]
    }
   ],
   "source": [
    "from utils_classifiers import XGB\n",
    "# XGB does not have class_weight implemented\n",
    "xgb = Classifier('XGBoost', XGB(all_data))"
   ]
  },
  {
   "cell_type": "markdown",
   "metadata": {},
   "source": [
    "## Bayesian Classifiers"
   ]
  },
  {
   "cell_type": "markdown",
   "metadata": {},
   "source": [
    "### Naïve Bayes"
   ]
  },
  {
   "cell_type": "code",
   "execution_count": 30,
   "metadata": {
    "ExecuteTime": {
     "end_time": "2019-02-28T02:27:09.375427Z",
     "start_time": "2019-02-28T02:27:08.378955Z"
    }
   },
   "outputs": [
    {
     "name": "stdout",
     "output_type": "stream",
     "text": [
      "              precision    recall  f1-score   support\n",
      "\n",
      "       False       0.97      0.34      0.50      4946\n",
      "        True       0.13      0.91      0.22       517\n",
      "\n",
      "   micro avg       0.39      0.39      0.39      5463\n",
      "   macro avg       0.55      0.62      0.36      5463\n",
      "weighted avg       0.89      0.39      0.48      5463\n",
      "\n",
      "[[1678 3268]\n",
      " [  47  470]]\n",
      "AUROC= 0.6242\n",
      "F1 macro= 0.3620\n"
     ]
    }
   ],
   "source": [
    "from utils_classifiers import NBayes\n",
    "# NBayes does not have class_weight implemented\n",
    "bayes = Classifier('Naïve Bayes', NBayes(all_data))"
   ]
  },
  {
   "cell_type": "markdown",
   "metadata": {},
   "source": [
    "### Gaussian Process"
   ]
  },
  {
   "cell_type": "code",
   "execution_count": 31,
   "metadata": {
    "ExecuteTime": {
     "end_time": "2019-02-28T02:40:34.776501Z",
     "start_time": "2019-02-28T02:27:09.456973Z"
    }
   },
   "outputs": [
    {
     "name": "stdout",
     "output_type": "stream",
     "text": [
      "              precision    recall  f1-score   support\n",
      "\n",
      "       False       0.93      0.96      0.94      4946\n",
      "        True       0.39      0.26      0.31       517\n",
      "\n",
      "   micro avg       0.89      0.89      0.89      5463\n",
      "   macro avg       0.66      0.61      0.63      5463\n",
      "weighted avg       0.87      0.89      0.88      5463\n",
      "\n",
      "[[4732  214]\n",
      " [ 381  136]]\n",
      "AUROC= 0.6099\n",
      "F1 macro= 0.6273\n"
     ]
    }
   ],
   "source": [
    "from utils_classifiers import GP\n",
    "# GP does not have class_weight implemented\n",
    "gp = Classifier('Gaussian Process', GP(all_data))"
   ]
  },
  {
   "cell_type": "markdown",
   "metadata": {},
   "source": [
    "## Majority Voting"
   ]
  },
  {
   "cell_type": "code",
   "execution_count": 32,
   "metadata": {
    "ExecuteTime": {
     "end_time": "2019-02-28T02:40:53.607253Z",
     "start_time": "2019-02-28T02:40:51.530834Z"
    }
   },
   "outputs": [
    {
     "data": {
      "text/html": [
       "<div>\n",
       "<style scoped>\n",
       "    .dataframe tbody tr th:only-of-type {\n",
       "        vertical-align: middle;\n",
       "    }\n",
       "\n",
       "    .dataframe tbody tr th {\n",
       "        vertical-align: top;\n",
       "    }\n",
       "\n",
       "    .dataframe thead th {\n",
       "        text-align: right;\n",
       "    }\n",
       "</style>\n",
       "<table border=\"1\" class=\"dataframe\">\n",
       "  <thead>\n",
       "    <tr style=\"text-align: right;\">\n",
       "      <th></th>\n",
       "      <th>F1</th>\n",
       "    </tr>\n",
       "    <tr>\n",
       "      <th>Model</th>\n",
       "      <th></th>\n",
       "    </tr>\n",
       "  </thead>\n",
       "  <tbody>\n",
       "    <tr>\n",
       "      <th>XGBoost</th>\n",
       "      <td>0.789800</td>\n",
       "    </tr>\n",
       "    <tr>\n",
       "      <th>Bagging</th>\n",
       "      <td>0.781368</td>\n",
       "    </tr>\n",
       "    <tr>\n",
       "      <th>Gradient Boosting</th>\n",
       "      <td>0.771697</td>\n",
       "    </tr>\n",
       "    <tr>\n",
       "      <th>Random Forest</th>\n",
       "      <td>0.753775</td>\n",
       "    </tr>\n",
       "    <tr>\n",
       "      <th>AdaBoost</th>\n",
       "      <td>0.724855</td>\n",
       "    </tr>\n",
       "    <tr>\n",
       "      <th>Decision Tree</th>\n",
       "      <td>0.702981</td>\n",
       "    </tr>\n",
       "    <tr>\n",
       "      <th>SVM</th>\n",
       "      <td>0.653990</td>\n",
       "    </tr>\n",
       "    <tr>\n",
       "      <th>Gaussian Process</th>\n",
       "      <td>0.627287</td>\n",
       "    </tr>\n",
       "    <tr>\n",
       "      <th>KNN</th>\n",
       "      <td>0.615954</td>\n",
       "    </tr>\n",
       "    <tr>\n",
       "      <th>Logistic Regression</th>\n",
       "      <td>0.580811</td>\n",
       "    </tr>\n",
       "    <tr>\n",
       "      <th>Extra Trees</th>\n",
       "      <td>0.548972</td>\n",
       "    </tr>\n",
       "    <tr>\n",
       "      <th>Naïve Bayes</th>\n",
       "      <td>0.361995</td>\n",
       "    </tr>\n",
       "  </tbody>\n",
       "</table>\n",
       "</div>"
      ],
      "text/plain": [
       "                           F1\n",
       "Model                        \n",
       "XGBoost              0.789800\n",
       "Bagging              0.781368\n",
       "Gradient Boosting    0.771697\n",
       "Random Forest        0.753775\n",
       "AdaBoost             0.724855\n",
       "Decision Tree        0.702981\n",
       "SVM                  0.653990\n",
       "Gaussian Process     0.627287\n",
       "KNN                  0.615954\n",
       "Logistic Regression  0.580811\n",
       "Extra Trees          0.548972\n",
       "Naïve Bayes          0.361995"
      ]
     },
     "execution_count": 32,
     "metadata": {},
     "output_type": "execute_result"
    }
   ],
   "source": [
    "models = [knn, logreg, svm, forest, bag,\n",
    "          tree, extra, gradb, adab, xgb, bayes, gp]\n",
    "model_summary = pd.DataFrame({'Model': [x.name for x in models],\n",
    "                              'F1': [x.f1_macro for x in models]}).set_index('Model').sort_values('F1',\n",
    "                                                                                                  ascending=False)\n",
    "model_summary"
   ]
  },
  {
   "cell_type": "code",
   "execution_count": 33,
   "metadata": {
    "ExecuteTime": {
     "end_time": "2019-02-28T02:55:39.415063Z",
     "start_time": "2019-02-28T02:40:53.721555Z"
    }
   },
   "outputs": [
    {
     "name": "stdout",
     "output_type": "stream",
     "text": [
      "              precision    recall  f1-score   support\n",
      "\n",
      "       False       0.95      0.98      0.96      4946\n",
      "        True       0.69      0.46      0.55       517\n",
      "\n",
      "   micro avg       0.93      0.93      0.93      5463\n",
      "   macro avg       0.82      0.72      0.76      5463\n",
      "weighted avg       0.92      0.93      0.92      5463\n",
      "\n",
      "[[4838  108]\n",
      " [ 278  239]]\n",
      "AUROC= 0.7202\n",
      "F1 macro= 0.7574\n"
     ]
    }
   ],
   "source": [
    "from utils_classifiers import Voting\n",
    "voting = Classifier('Voting', Voting(all_data, \n",
    "                                     models=[x.classifier for x in models],\n",
    "                                     model_name=[x.name for x in models], \n",
    "                                     weights=[x.f1_macro for x in models],\n",
    "                                     how_to_vote='hard'))"
   ]
  },
  {
   "cell_type": "markdown",
   "metadata": {
    "heading_collapsed": true
   },
   "source": [
    "## Stacking"
   ]
  },
  {
   "cell_type": "raw",
   "metadata": {
    "ExecuteTime": {
     "end_time": "2019-02-23T22:41:53.645909Z",
     "start_time": "2019-02-23T22:30:44.535893Z"
    },
    "hidden": true
   },
   "source": [
    "from utils_classifiers import Stacking_op\n",
    "train_S, valid_S = Stacking_op(all_data, \n",
    "                              models=[x.classifier for x in models], \n",
    "                              seed=seed)\n",
    "S_data = [train_S, valid_S, train_bin, valid_bin]"
   ]
  },
  {
   "cell_type": "raw",
   "metadata": {
    "ExecuteTime": {
     "end_time": "2019-02-23T22:44:35.778521Z",
     "start_time": "2019-02-23T22:44:07.996514Z"
    },
    "hidden": true
   },
   "source": [
    "stacking = Classifier('Stacking-Random Forest', RandomForest_grid_search(S_data))"
   ]
  },
  {
   "cell_type": "markdown",
   "metadata": {},
   "source": [
    "# Convolutional Neural Net"
   ]
  },
  {
   "cell_type": "markdown",
   "metadata": {},
   "source": [
    "## ADASYN Oversampling"
   ]
  },
  {
   "cell_type": "code",
   "execution_count": 56,
   "metadata": {
    "ExecuteTime": {
     "end_time": "2019-02-28T04:29:20.656487Z",
     "start_time": "2019-02-28T04:29:11.224274Z"
    }
   },
   "outputs": [
    {
     "name": "stderr",
     "output_type": "stream",
     "text": [
      "/scratch/s1895566/miniconda/base/envs/venv/lib/python3.6/site-packages/sklearn/utils/validation.py:761: DataConversionWarning: A column-vector y was passed when a 1d array was expected. Please change the shape of y to (n_samples, ), for example using ravel().\n",
      "  y = column_or_1d(y, warn=True)\n"
     ]
    },
    {
     "name": "stdout",
     "output_type": "stream",
     "text": [
      "1 class ratio after ADASYN= 50.21%\n"
     ]
    }
   ],
   "source": [
    "from classes import AugmentedSubset\n",
    "from utils import Sample\n",
    "aug = Sample(AugmentedSubset(s.train), s.validation, s.test)\n",
    "print('1 class ratio after ADASYN= {:.2%}'.format(aug.train.class_ratio))"
   ]
  },
  {
   "cell_type": "markdown",
   "metadata": {},
   "source": [
    "## Network Construction"
   ]
  },
  {
   "cell_type": "code",
   "execution_count": 57,
   "metadata": {
    "ExecuteTime": {
     "end_time": "2019-02-28T04:31:14.811043Z",
     "start_time": "2019-02-28T04:29:21.197359Z"
    }
   },
   "outputs": [
    {
     "name": "stderr",
     "output_type": "stream",
     "text": [
      "Using TensorFlow backend.\n"
     ]
    }
   ],
   "source": [
    "from keras.models import Model\n",
    "from keras.layers import Activation, BatchNormalization, Conv1D, Dense, Dropout, MaxPooling1D\n",
    "from keras.layers import concatenate, Flatten, Input\n",
    "from keras.optimizers import Adam\n",
    "from keras.utils import plot_model\n",
    "from keras import regularizers\n",
    "from keras.callbacks import EarlyStopping, ModelCheckpoint\n",
    "\n",
    "from utils_nn import f1_macro_loss"
   ]
  },
  {
   "cell_type": "code",
   "execution_count": 59,
   "metadata": {
    "ExecuteTime": {
     "end_time": "2019-02-28T04:40:28.174527Z",
     "start_time": "2019-02-28T04:39:45.457037Z"
    },
    "scrolled": true
   },
   "outputs": [
    {
     "name": "stdout",
     "output_type": "stream",
     "text": [
      "__________________________________________________________________________________________________\n",
      "Layer (type)                    Output Shape         Param #     Connected to                     \n",
      "==================================================================================================\n",
      "column_input (InputLayer)       (None, 37, 4)        0                                            \n",
      "__________________________________________________________________________________________________\n",
      "conv1d_3 (Conv1D)               (None, 30, 8)        264         column_input[0][0]               \n",
      "__________________________________________________________________________________________________\n",
      "batch_normalization_3 (BatchNor (None, 30, 8)        32          conv1d_3[0][0]                   \n",
      "__________________________________________________________________________________________________\n",
      "max_pooling1d_3 (MaxPooling1D)  (None, 15, 8)        0           batch_normalization_3[0][0]      \n",
      "__________________________________________________________________________________________________\n",
      "activation_3 (Activation)       (None, 15, 8)        0           max_pooling1d_3[0][0]            \n",
      "__________________________________________________________________________________________________\n",
      "conv1d_4 (Conv1D)               (None, 12, 2)        66          activation_3[0][0]               \n",
      "__________________________________________________________________________________________________\n",
      "batch_normalization_4 (BatchNor (None, 12, 2)        8           conv1d_4[0][0]                   \n",
      "__________________________________________________________________________________________________\n",
      "max_pooling1d_4 (MaxPooling1D)  (None, 6, 2)         0           batch_normalization_4[0][0]      \n",
      "__________________________________________________________________________________________________\n",
      "activation_4 (Activation)       (None, 6, 2)         0           max_pooling1d_4[0][0]            \n",
      "__________________________________________________________________________________________________\n",
      "flatten_2 (Flatten)             (None, 12)           0           activation_4[0][0]               \n",
      "__________________________________________________________________________________________________\n",
      "surface_input (InputLayer)      (None, 6)            0                                            \n",
      "__________________________________________________________________________________________________\n",
      "concatenate_2 (Concatenate)     (None, 18)           0           flatten_2[0][0]                  \n",
      "                                                                 surface_input[0][0]              \n",
      "__________________________________________________________________________________________________\n",
      "dense_2 (Dense)                 (None, 4)            76          concatenate_2[0][0]              \n",
      "__________________________________________________________________________________________________\n",
      "dropout_2 (Dropout)             (None, 4)            0           dense_2[0][0]                    \n",
      "__________________________________________________________________________________________________\n",
      "output (Dense)                  (None, 1)            5           dropout_2[0][0]                  \n",
      "==================================================================================================\n",
      "Total params: 451\n",
      "Trainable params: 431\n",
      "Non-trainable params: 20\n",
      "__________________________________________________________________________________________________\n",
      "None\n"
     ]
    }
   ],
   "source": [
    "# Input placeholders\n",
    "input_conv = Input(shape=aug.train.Xvec.shape[1:], name='column_input')\n",
    "input_scalar = Input(shape=(aug.train.Xscalar.shape[1],), name='surface_input')\n",
    "\n",
    "# Hidden layers\n",
    "conv_1 = Conv1D(8, kernel_size=8)(input_conv)\n",
    "bn_1 = BatchNormalization()(conv_1)\n",
    "pool_1 = MaxPooling1D(pool_size=2)(bn_1)\n",
    "act_1 = Activation('relu')(pool_1)\n",
    "\n",
    "conv_2 = Conv1D(2, kernel_size=4)(act_1)\n",
    "bn_2 = BatchNormalization()(conv_2)\n",
    "pool_2 = MaxPooling1D(pool_size=2)(bn_2)\n",
    "act_2 = Activation('relu')(pool_2)\n",
    "\n",
    "flatten_2 = Flatten()(act_2)\n",
    "\n",
    "layer = concatenate([flatten_2, input_scalar])\n",
    "#layer = Dense(4, activation='relu')(layer)\n",
    "\n",
    "hid_3 = Dense(4,\n",
    "              activation='relu')(layer)\n",
    "hid_3 = Dropout(0.1)(hid_3)\n",
    "\n",
    "output = Dense(1,\n",
    "               kernel_regularizer=regularizers.l2(0.02),\n",
    "               activation='sigmoid',\n",
    "               name='output')(hid_3)\n",
    "\n",
    "# 1. Initialize\n",
    "model = Model(inputs=[input_conv, input_scalar], outputs=output)\n",
    "to_file_path = f'nn/model_c_all.png'\n",
    "plot_model(model, show_shapes=True, to_file=to_file_path)\n",
    "print(model.summary())"
   ]
  },
  {
   "cell_type": "markdown",
   "metadata": {},
   "source": [
    "## Network Training"
   ]
  },
  {
   "cell_type": "code",
   "execution_count": 60,
   "metadata": {
    "ExecuteTime": {
     "end_time": "2019-02-28T04:40:30.800944Z",
     "start_time": "2019-02-28T04:40:30.693416Z"
    }
   },
   "outputs": [],
   "source": [
    "# 2. Compile\n",
    "model.compile(optimizer=Adam(),\n",
    "              loss=f1_macro_loss)\n",
    "\n",
    "to_file_path = f'nn/best_model_r_all.h5'\n",
    "callbacks = [EarlyStopping(monitor='loss',\n",
    "                           min_delta=0,\n",
    "                           patience=20,\n",
    "                           verbose=0, mode='auto'),\n",
    "             ModelCheckpoint(filepath=to_file_path, \n",
    "                             monitor='loss', \n",
    "                             save_best_only=True)]"
   ]
  },
  {
   "cell_type": "code",
   "execution_count": 61,
   "metadata": {
    "ExecuteTime": {
     "end_time": "2019-02-28T05:02:06.975175Z",
     "start_time": "2019-02-28T04:40:30.967147Z"
    }
   },
   "outputs": [
    {
     "name": "stdout",
     "output_type": "stream",
     "text": [
      "Train on 19864 samples, validate on 5463 samples\n",
      "Epoch 1/2000\n",
      " - 5s - loss: 0.3716 - val_loss: 0.5131\n",
      "Epoch 2/2000\n",
      " - 3s - loss: 0.2882 - val_loss: 0.4769\n",
      "Epoch 3/2000\n",
      " - 3s - loss: 0.2690 - val_loss: 0.4843\n",
      "Epoch 4/2000\n",
      " - 3s - loss: 0.2610 - val_loss: 0.4563\n",
      "Epoch 5/2000\n",
      " - 3s - loss: 0.2514 - val_loss: 0.4483\n",
      "Epoch 6/2000\n",
      " - 3s - loss: 0.2460 - val_loss: 0.4363\n",
      "Epoch 7/2000\n",
      " - 3s - loss: 0.2393 - val_loss: 0.4383\n",
      "Epoch 8/2000\n",
      " - 3s - loss: 0.2329 - val_loss: 0.4352\n",
      "Epoch 9/2000\n",
      " - 3s - loss: 0.2293 - val_loss: 0.4479\n",
      "Epoch 10/2000\n",
      " - 3s - loss: 0.2277 - val_loss: 0.4477\n",
      "Epoch 11/2000\n",
      " - 3s - loss: 0.2245 - val_loss: 0.4299\n",
      "Epoch 12/2000\n",
      " - 3s - loss: 0.2207 - val_loss: 0.4355\n",
      "Epoch 13/2000\n",
      " - 3s - loss: 0.2153 - val_loss: 0.4279\n",
      "Epoch 14/2000\n",
      " - 3s - loss: 0.2148 - val_loss: 0.4443\n",
      "Epoch 15/2000\n",
      " - 3s - loss: 0.2135 - val_loss: 0.4164\n",
      "Epoch 16/2000\n",
      " - 3s - loss: 0.2099 - val_loss: 0.4405\n",
      "Epoch 17/2000\n",
      " - 3s - loss: 0.2106 - val_loss: 0.4228\n",
      "Epoch 18/2000\n",
      " - 3s - loss: 0.2078 - val_loss: 0.4400\n",
      "Epoch 19/2000\n",
      " - 3s - loss: 0.2053 - val_loss: 0.4280\n",
      "Epoch 20/2000\n",
      " - 3s - loss: 0.2068 - val_loss: 0.4404\n",
      "Epoch 21/2000\n",
      " - 3s - loss: 0.2013 - val_loss: 0.4475\n",
      "Epoch 22/2000\n",
      " - 3s - loss: 0.2014 - val_loss: 0.4232\n",
      "Epoch 23/2000\n",
      " - 3s - loss: 0.1982 - val_loss: 0.4296\n",
      "Epoch 24/2000\n",
      " - 3s - loss: 0.1982 - val_loss: 0.4157\n",
      "Epoch 25/2000\n",
      " - 3s - loss: 0.1985 - val_loss: 0.4294\n",
      "Epoch 26/2000\n",
      " - 3s - loss: 0.1951 - val_loss: 0.4115\n",
      "Epoch 27/2000\n",
      " - 3s - loss: 0.1931 - val_loss: 0.4272\n",
      "Epoch 28/2000\n",
      " - 3s - loss: 0.1928 - val_loss: 0.4452\n",
      "Epoch 29/2000\n",
      " - 3s - loss: 0.1915 - val_loss: 0.4235\n",
      "Epoch 30/2000\n",
      " - 3s - loss: 0.1881 - val_loss: 0.4374\n",
      "Epoch 31/2000\n",
      " - 3s - loss: 0.1885 - val_loss: 0.4215\n",
      "Epoch 32/2000\n",
      " - 3s - loss: 0.1864 - val_loss: 0.4224\n",
      "Epoch 33/2000\n",
      " - 3s - loss: 0.1869 - val_loss: 0.4026\n",
      "Epoch 34/2000\n",
      " - 3s - loss: 0.1849 - val_loss: 0.4232\n",
      "Epoch 35/2000\n",
      " - 3s - loss: 0.1833 - val_loss: 0.4280\n",
      "Epoch 36/2000\n",
      " - 3s - loss: 0.1838 - val_loss: 0.4100\n",
      "Epoch 37/2000\n",
      " - 3s - loss: 0.1854 - val_loss: 0.4192\n",
      "Epoch 38/2000\n",
      " - 3s - loss: 0.1829 - val_loss: 0.4197\n",
      "Epoch 39/2000\n",
      " - 4s - loss: 0.1821 - val_loss: 0.4038\n",
      "Epoch 40/2000\n",
      " - 3s - loss: 0.1817 - val_loss: 0.4377\n",
      "Epoch 41/2000\n",
      " - 3s - loss: 0.1801 - val_loss: 0.4357\n",
      "Epoch 42/2000\n",
      " - 3s - loss: 0.1777 - val_loss: 0.4042\n",
      "Epoch 43/2000\n",
      " - 3s - loss: 0.1778 - val_loss: 0.4341\n",
      "Epoch 44/2000\n",
      " - 3s - loss: 0.1778 - val_loss: 0.4268\n",
      "Epoch 45/2000\n",
      " - 3s - loss: 0.1746 - val_loss: 0.4101\n",
      "Epoch 46/2000\n",
      " - 3s - loss: 0.1748 - val_loss: 0.4000\n",
      "Epoch 47/2000\n",
      " - 3s - loss: 0.1743 - val_loss: 0.4369\n",
      "Epoch 48/2000\n",
      " - 3s - loss: 0.1751 - val_loss: 0.4148\n",
      "Epoch 49/2000\n",
      " - 3s - loss: 0.1735 - val_loss: 0.3910\n",
      "Epoch 50/2000\n",
      " - 3s - loss: 0.1736 - val_loss: 0.4277\n",
      "Epoch 51/2000\n",
      " - 3s - loss: 0.1725 - val_loss: 0.4195\n",
      "Epoch 52/2000\n",
      " - 3s - loss: 0.1714 - val_loss: 0.4042\n",
      "Epoch 53/2000\n",
      " - 3s - loss: 0.1719 - val_loss: 0.4132\n",
      "Epoch 54/2000\n",
      " - 3s - loss: 0.1698 - val_loss: 0.3934\n",
      "Epoch 55/2000\n",
      " - 3s - loss: 0.1680 - val_loss: 0.3998\n",
      "Epoch 56/2000\n",
      " - 3s - loss: 0.1693 - val_loss: 0.4167\n",
      "Epoch 57/2000\n",
      " - 3s - loss: 0.1702 - val_loss: 0.4179\n",
      "Epoch 58/2000\n",
      " - 3s - loss: 0.1669 - val_loss: 0.4512\n",
      "Epoch 59/2000\n",
      " - 3s - loss: 0.1658 - val_loss: 0.4162\n",
      "Epoch 60/2000\n",
      " - 3s - loss: 0.1683 - val_loss: 0.4022\n",
      "Epoch 61/2000\n",
      " - 3s - loss: 0.1656 - val_loss: 0.4139\n",
      "Epoch 62/2000\n",
      " - 3s - loss: 0.1663 - val_loss: 0.4259\n",
      "Epoch 63/2000\n",
      " - 3s - loss: 0.1643 - val_loss: 0.4151\n",
      "Epoch 64/2000\n",
      " - 3s - loss: 0.1628 - val_loss: 0.4197\n",
      "Epoch 65/2000\n",
      " - 3s - loss: 0.1637 - val_loss: 0.4150\n",
      "Epoch 66/2000\n",
      " - 3s - loss: 0.1646 - val_loss: 0.4004\n",
      "Epoch 67/2000\n",
      " - 3s - loss: 0.1628 - val_loss: 0.4101\n",
      "Epoch 68/2000\n",
      " - 3s - loss: 0.1623 - val_loss: 0.4205\n",
      "Epoch 69/2000\n",
      " - 3s - loss: 0.1607 - val_loss: 0.3980\n",
      "Epoch 70/2000\n",
      " - 3s - loss: 0.1620 - val_loss: 0.3880\n",
      "Epoch 71/2000\n",
      " - 3s - loss: 0.1612 - val_loss: 0.3879\n",
      "Epoch 72/2000\n",
      " - 3s - loss: 0.1594 - val_loss: 0.3998\n",
      "Epoch 73/2000\n",
      " - 3s - loss: 0.1604 - val_loss: 0.3859\n",
      "Epoch 74/2000\n",
      " - 3s - loss: 0.1603 - val_loss: 0.3913\n",
      "Epoch 75/2000\n",
      " - 3s - loss: 0.1592 - val_loss: 0.4020\n",
      "Epoch 76/2000\n",
      " - 3s - loss: 0.1599 - val_loss: 0.4127\n",
      "Epoch 77/2000\n",
      " - 3s - loss: 0.1569 - val_loss: 0.3959\n",
      "Epoch 78/2000\n",
      " - 3s - loss: 0.1585 - val_loss: 0.3923\n",
      "Epoch 79/2000\n",
      " - 3s - loss: 0.1595 - val_loss: 0.4139\n",
      "Epoch 80/2000\n",
      " - 3s - loss: 0.1549 - val_loss: 0.4205\n",
      "Epoch 81/2000\n",
      " - 3s - loss: 0.1552 - val_loss: 0.4007\n",
      "Epoch 82/2000\n",
      " - 3s - loss: 0.1573 - val_loss: 0.3974\n",
      "Epoch 83/2000\n",
      " - 3s - loss: 0.1558 - val_loss: 0.4020\n",
      "Epoch 84/2000\n",
      " - 3s - loss: 0.1554 - val_loss: 0.4122\n",
      "Epoch 85/2000\n",
      " - 3s - loss: 0.1535 - val_loss: 0.3944\n",
      "Epoch 86/2000\n",
      " - 3s - loss: 0.1546 - val_loss: 0.3910\n",
      "Epoch 87/2000\n",
      " - 3s - loss: 0.1533 - val_loss: 0.3914\n",
      "Epoch 88/2000\n",
      " - 3s - loss: 0.1546 - val_loss: 0.3984\n",
      "Epoch 89/2000\n",
      " - 3s - loss: 0.1534 - val_loss: 0.4034\n",
      "Epoch 90/2000\n",
      " - 3s - loss: 0.1524 - val_loss: 0.3965\n",
      "Epoch 91/2000\n",
      " - 3s - loss: 0.1524 - val_loss: 0.3881\n",
      "Epoch 92/2000\n",
      " - 3s - loss: 0.1515 - val_loss: 0.4054\n",
      "Epoch 93/2000\n",
      " - 3s - loss: 0.1545 - val_loss: 0.3894\n",
      "Epoch 94/2000\n",
      " - 3s - loss: 0.1503 - val_loss: 0.3946\n",
      "Epoch 95/2000\n",
      " - 3s - loss: 0.1504 - val_loss: 0.4102\n",
      "Epoch 96/2000\n",
      " - 3s - loss: 0.1507 - val_loss: 0.3999\n",
      "Epoch 97/2000\n",
      " - 3s - loss: 0.1510 - val_loss: 0.3892\n",
      "Epoch 98/2000\n",
      " - 3s - loss: 0.1510 - val_loss: 0.3896\n",
      "Epoch 99/2000\n",
      " - 3s - loss: 0.1497 - val_loss: 0.4222\n",
      "Epoch 100/2000\n",
      " - 3s - loss: 0.1502 - val_loss: 0.3939\n",
      "Epoch 101/2000\n",
      " - 3s - loss: 0.1509 - val_loss: 0.3890\n",
      "Epoch 102/2000\n",
      " - 3s - loss: 0.1490 - val_loss: 0.3933\n",
      "Epoch 103/2000\n",
      " - 3s - loss: 0.1485 - val_loss: 0.3982\n",
      "Epoch 104/2000\n",
      " - 3s - loss: 0.1487 - val_loss: 0.4029\n",
      "Epoch 105/2000\n",
      " - 3s - loss: 0.1474 - val_loss: 0.3952\n",
      "Epoch 106/2000\n",
      " - 3s - loss: 0.1481 - val_loss: 0.3736\n",
      "Epoch 107/2000\n",
      " - 3s - loss: 0.1470 - val_loss: 0.4070\n",
      "Epoch 108/2000\n",
      " - 3s - loss: 0.1477 - val_loss: 0.3985\n",
      "Epoch 109/2000\n",
      " - 3s - loss: 0.1468 - val_loss: 0.3941\n",
      "Epoch 110/2000\n",
      " - 3s - loss: 0.1464 - val_loss: 0.3923\n",
      "Epoch 111/2000\n",
      " - 3s - loss: 0.1451 - val_loss: 0.4033\n",
      "Epoch 112/2000\n",
      " - 3s - loss: 0.1456 - val_loss: 0.3761\n",
      "Epoch 113/2000\n",
      " - 3s - loss: 0.1463 - val_loss: 0.3804\n",
      "Epoch 114/2000\n",
      " - 3s - loss: 0.1454 - val_loss: 0.3896\n",
      "Epoch 115/2000\n",
      " - 3s - loss: 0.1446 - val_loss: 0.3887\n",
      "Epoch 116/2000\n",
      " - 3s - loss: 0.1441 - val_loss: 0.3964\n",
      "Epoch 117/2000\n",
      " - 4s - loss: 0.1452 - val_loss: 0.3944\n",
      "Epoch 118/2000\n",
      " - 3s - loss: 0.1444 - val_loss: 0.4004\n",
      "Epoch 119/2000\n",
      " - 3s - loss: 0.1431 - val_loss: 0.3780\n",
      "Epoch 120/2000\n",
      " - 3s - loss: 0.1436 - val_loss: 0.4083\n",
      "Epoch 121/2000\n",
      " - 3s - loss: 0.1466 - val_loss: 0.3970\n",
      "Epoch 122/2000\n",
      " - 3s - loss: 0.1446 - val_loss: 0.3965\n",
      "Epoch 123/2000\n",
      " - 3s - loss: 0.1431 - val_loss: 0.3985\n",
      "Epoch 124/2000\n",
      " - 3s - loss: 0.1423 - val_loss: 0.3854\n",
      "Epoch 125/2000\n",
      " - 3s - loss: 0.1451 - val_loss: 0.3840\n",
      "Epoch 126/2000\n",
      " - 3s - loss: 0.1439 - val_loss: 0.3838\n",
      "Epoch 127/2000\n",
      " - 3s - loss: 0.1425 - val_loss: 0.3904\n",
      "Epoch 128/2000\n",
      " - 3s - loss: 0.1422 - val_loss: 0.3759\n",
      "Epoch 129/2000\n",
      " - 3s - loss: 0.1404 - val_loss: 0.3895\n",
      "Epoch 130/2000\n",
      " - 3s - loss: 0.1428 - val_loss: 0.3877\n",
      "Epoch 131/2000\n",
      " - 3s - loss: 0.1405 - val_loss: 0.4011\n",
      "Epoch 132/2000\n",
      " - 3s - loss: 0.1418 - val_loss: 0.3814\n",
      "Epoch 133/2000\n",
      " - 3s - loss: 0.1395 - val_loss: 0.4018\n",
      "Epoch 134/2000\n",
      " - 3s - loss: 0.1402 - val_loss: 0.3836\n",
      "Epoch 135/2000\n",
      " - 3s - loss: 0.1400 - val_loss: 0.3783\n",
      "Epoch 136/2000\n",
      " - 3s - loss: 0.1406 - val_loss: 0.3760\n",
      "Epoch 137/2000\n",
      " - 3s - loss: 0.1410 - val_loss: 0.3821\n",
      "Epoch 138/2000\n",
      " - 3s - loss: 0.1397 - val_loss: 0.3850\n",
      "Epoch 139/2000\n",
      " - 3s - loss: 0.1378 - val_loss: 0.3900\n",
      "Epoch 140/2000\n",
      " - 3s - loss: 0.1412 - val_loss: 0.3629\n",
      "Epoch 141/2000\n",
      " - 3s - loss: 0.1403 - val_loss: 0.3929\n",
      "Epoch 142/2000\n",
      " - 3s - loss: 0.1394 - val_loss: 0.3915\n",
      "Epoch 143/2000\n",
      " - 3s - loss: 0.1386 - val_loss: 0.3730\n",
      "Epoch 144/2000\n",
      " - 3s - loss: 0.1368 - val_loss: 0.3618\n",
      "Epoch 145/2000\n",
      " - 3s - loss: 0.1377 - val_loss: 0.3692\n",
      "Epoch 146/2000\n",
      " - 3s - loss: 0.1386 - val_loss: 0.3737\n",
      "Epoch 147/2000\n",
      " - 3s - loss: 0.1383 - val_loss: 0.3812\n",
      "Epoch 148/2000\n",
      " - 3s - loss: 0.1378 - val_loss: 0.3685\n",
      "Epoch 149/2000\n",
      " - 3s - loss: 0.1370 - val_loss: 0.4040\n",
      "Epoch 150/2000\n",
      " - 3s - loss: 0.1361 - val_loss: 0.3841\n",
      "Epoch 151/2000\n"
     ]
    },
    {
     "name": "stdout",
     "output_type": "stream",
     "text": [
      " - 3s - loss: 0.1386 - val_loss: 0.3708\n",
      "Epoch 152/2000\n",
      " - 3s - loss: 0.1383 - val_loss: 0.4030\n",
      "Epoch 153/2000\n",
      " - 3s - loss: 0.1385 - val_loss: 0.3698\n",
      "Epoch 154/2000\n",
      " - 3s - loss: 0.1364 - val_loss: 0.3726\n",
      "Epoch 155/2000\n",
      " - 3s - loss: 0.1361 - val_loss: 0.3704\n",
      "Epoch 156/2000\n",
      " - 3s - loss: 0.1363 - val_loss: 0.3814\n",
      "Epoch 157/2000\n",
      " - 3s - loss: 0.1366 - val_loss: 0.3614\n",
      "Epoch 158/2000\n",
      " - 3s - loss: 0.1369 - val_loss: 0.3800\n",
      "Epoch 159/2000\n",
      " - 3s - loss: 0.1380 - val_loss: 0.3763\n",
      "Epoch 160/2000\n",
      " - 3s - loss: 0.1364 - val_loss: 0.3620\n",
      "Epoch 161/2000\n",
      " - 3s - loss: 0.1380 - val_loss: 0.3672\n",
      "Epoch 162/2000\n",
      " - 3s - loss: 0.1356 - val_loss: 0.3772\n",
      "Epoch 163/2000\n",
      " - 3s - loss: 0.1342 - val_loss: 0.4013\n",
      "Epoch 164/2000\n",
      " - 3s - loss: 0.1367 - val_loss: 0.3796\n",
      "Epoch 165/2000\n",
      " - 3s - loss: 0.1347 - val_loss: 0.3593\n",
      "Epoch 166/2000\n",
      " - 3s - loss: 0.1357 - val_loss: 0.3694\n",
      "Epoch 167/2000\n",
      " - 3s - loss: 0.1331 - val_loss: 0.3687\n",
      "Epoch 168/2000\n",
      " - 3s - loss: 0.1346 - val_loss: 0.3644\n",
      "Epoch 169/2000\n",
      " - 3s - loss: 0.1340 - val_loss: 0.3712\n",
      "Epoch 170/2000\n",
      " - 3s - loss: 0.1340 - val_loss: 0.3709\n",
      "Epoch 171/2000\n",
      " - 3s - loss: 0.1321 - val_loss: 0.3805\n",
      "Epoch 172/2000\n",
      " - 3s - loss: 0.1326 - val_loss: 0.3625\n",
      "Epoch 173/2000\n",
      " - 3s - loss: 0.1352 - val_loss: 0.3676\n",
      "Epoch 174/2000\n",
      " - 3s - loss: 0.1363 - val_loss: 0.3639\n",
      "Epoch 175/2000\n",
      " - 3s - loss: 0.1326 - val_loss: 0.3743\n",
      "Epoch 176/2000\n",
      " - 3s - loss: 0.1328 - val_loss: 0.3825\n",
      "Epoch 177/2000\n",
      " - 3s - loss: 0.1312 - val_loss: 0.3688\n",
      "Epoch 178/2000\n",
      " - 3s - loss: 0.1340 - val_loss: 0.3728\n",
      "Epoch 179/2000\n",
      " - 3s - loss: 0.1361 - val_loss: 0.3656\n",
      "Epoch 180/2000\n",
      " - 3s - loss: 0.1328 - val_loss: 0.3695\n",
      "Epoch 181/2000\n",
      " - 3s - loss: 0.1334 - val_loss: 0.3643\n",
      "Epoch 182/2000\n",
      " - 3s - loss: 0.1320 - val_loss: 0.3762\n",
      "Epoch 183/2000\n",
      " - 3s - loss: 0.1334 - val_loss: 0.3746\n",
      "Epoch 184/2000\n",
      " - 3s - loss: 0.1316 - val_loss: 0.3794\n",
      "Epoch 185/2000\n",
      " - 3s - loss: 0.1316 - val_loss: 0.3582\n",
      "Epoch 186/2000\n",
      " - 3s - loss: 0.1317 - val_loss: 0.3724\n",
      "Epoch 187/2000\n",
      " - 3s - loss: 0.1337 - val_loss: 0.3779\n",
      "Epoch 188/2000\n",
      " - 3s - loss: 0.1325 - val_loss: 0.3845\n",
      "Epoch 189/2000\n",
      " - 3s - loss: 0.1313 - val_loss: 0.3727\n",
      "Epoch 190/2000\n",
      " - 3s - loss: 0.1293 - val_loss: 0.3825\n",
      "Epoch 191/2000\n",
      " - 3s - loss: 0.1316 - val_loss: 0.3708\n",
      "Epoch 192/2000\n",
      " - 3s - loss: 0.1321 - val_loss: 0.3718\n",
      "Epoch 193/2000\n",
      " - 3s - loss: 0.1314 - val_loss: 0.3834\n",
      "Epoch 194/2000\n",
      " - 3s - loss: 0.1307 - val_loss: 0.3681\n",
      "Epoch 195/2000\n",
      " - 3s - loss: 0.1304 - val_loss: 0.3703\n",
      "Epoch 196/2000\n",
      " - 3s - loss: 0.1314 - val_loss: 0.3738\n",
      "Epoch 197/2000\n",
      " - 3s - loss: 0.1299 - val_loss: 0.3717\n",
      "Epoch 198/2000\n",
      " - 3s - loss: 0.1298 - val_loss: 0.3710\n",
      "Epoch 199/2000\n",
      " - 3s - loss: 0.1308 - val_loss: 0.3705\n",
      "Epoch 200/2000\n",
      " - 3s - loss: 0.1303 - val_loss: 0.3746\n",
      "Epoch 201/2000\n",
      " - 3s - loss: 0.1317 - val_loss: 0.3729\n",
      "Epoch 202/2000\n",
      " - 3s - loss: 0.1307 - val_loss: 0.3777\n",
      "Epoch 203/2000\n",
      " - 3s - loss: 0.1289 - val_loss: 0.3579\n",
      "Epoch 204/2000\n",
      " - 3s - loss: 0.1314 - val_loss: 0.3813\n",
      "Epoch 205/2000\n",
      " - 3s - loss: 0.1285 - val_loss: 0.3732\n",
      "Epoch 206/2000\n",
      " - 3s - loss: 0.1281 - val_loss: 0.3621\n",
      "Epoch 207/2000\n",
      " - 3s - loss: 0.1303 - val_loss: 0.3749\n",
      "Epoch 208/2000\n",
      " - 3s - loss: 0.1304 - val_loss: 0.3803\n",
      "Epoch 209/2000\n",
      " - 3s - loss: 0.1312 - val_loss: 0.3704\n",
      "Epoch 210/2000\n",
      " - 3s - loss: 0.1294 - val_loss: 0.3894\n",
      "Epoch 211/2000\n",
      " - 3s - loss: 0.1289 - val_loss: 0.3641\n",
      "Epoch 212/2000\n",
      " - 3s - loss: 0.1307 - val_loss: 0.3710\n",
      "Epoch 213/2000\n",
      " - 3s - loss: 0.1278 - val_loss: 0.3675\n",
      "Epoch 214/2000\n",
      " - 3s - loss: 0.1293 - val_loss: 0.3799\n",
      "Epoch 215/2000\n",
      " - 3s - loss: 0.1302 - val_loss: 0.3830\n",
      "Epoch 216/2000\n",
      " - 3s - loss: 0.1305 - val_loss: 0.3733\n",
      "Epoch 217/2000\n",
      " - 3s - loss: 0.1299 - val_loss: 0.3692\n",
      "Epoch 218/2000\n",
      " - 3s - loss: 0.1266 - val_loss: 0.3747\n",
      "Epoch 219/2000\n",
      " - 3s - loss: 0.1272 - val_loss: 0.3784\n",
      "Epoch 220/2000\n",
      " - 3s - loss: 0.1295 - val_loss: 0.3583\n",
      "Epoch 221/2000\n",
      " - 3s - loss: 0.1277 - val_loss: 0.3681\n",
      "Epoch 222/2000\n",
      " - 3s - loss: 0.1282 - val_loss: 0.3779\n",
      "Epoch 223/2000\n",
      " - 3s - loss: 0.1283 - val_loss: 0.3868\n",
      "Epoch 224/2000\n",
      " - 3s - loss: 0.1284 - val_loss: 0.3711\n",
      "Epoch 225/2000\n",
      " - 3s - loss: 0.1273 - val_loss: 0.3622\n",
      "Epoch 226/2000\n",
      " - 3s - loss: 0.1268 - val_loss: 0.3645\n",
      "Epoch 227/2000\n",
      " - 3s - loss: 0.1283 - val_loss: 0.3727\n",
      "Epoch 228/2000\n",
      " - 3s - loss: 0.1274 - val_loss: 0.3675\n",
      "Epoch 229/2000\n",
      " - 3s - loss: 0.1261 - val_loss: 0.3710\n",
      "Epoch 230/2000\n",
      " - 3s - loss: 0.1266 - val_loss: 0.3663\n",
      "Epoch 231/2000\n",
      " - 3s - loss: 0.1270 - val_loss: 0.3677\n",
      "Epoch 232/2000\n",
      " - 3s - loss: 0.1250 - val_loss: 0.3706\n",
      "Epoch 233/2000\n",
      " - 3s - loss: 0.1269 - val_loss: 0.3730\n",
      "Epoch 234/2000\n",
      " - 3s - loss: 0.1267 - val_loss: 0.3793\n",
      "Epoch 235/2000\n",
      " - 3s - loss: 0.1259 - val_loss: 0.3726\n",
      "Epoch 236/2000\n",
      " - 3s - loss: 0.1275 - val_loss: 0.3783\n",
      "Epoch 237/2000\n",
      " - 3s - loss: 0.1246 - val_loss: 0.3683\n",
      "Epoch 238/2000\n",
      " - 3s - loss: 0.1275 - val_loss: 0.3821\n",
      "Epoch 239/2000\n",
      " - 3s - loss: 0.1289 - val_loss: 0.3765\n",
      "Epoch 240/2000\n",
      " - 3s - loss: 0.1269 - val_loss: 0.3822\n",
      "Epoch 241/2000\n",
      " - 3s - loss: 0.1276 - val_loss: 0.3672\n",
      "Epoch 242/2000\n",
      " - 3s - loss: 0.1268 - val_loss: 0.3701\n",
      "Epoch 243/2000\n",
      " - 3s - loss: 0.1293 - val_loss: 0.3705\n",
      "Epoch 244/2000\n",
      " - 3s - loss: 0.1269 - val_loss: 0.3608\n",
      "Epoch 245/2000\n",
      " - 3s - loss: 0.1263 - val_loss: 0.3734\n",
      "Epoch 246/2000\n",
      " - 3s - loss: 0.1248 - val_loss: 0.3735\n",
      "Epoch 247/2000\n",
      " - 3s - loss: 0.1243 - val_loss: 0.3714\n",
      "Epoch 248/2000\n",
      " - 3s - loss: 0.1261 - val_loss: 0.3615\n",
      "Epoch 249/2000\n",
      " - 3s - loss: 0.1260 - val_loss: 0.3900\n",
      "Epoch 250/2000\n",
      " - 3s - loss: 0.1249 - val_loss: 0.3617\n",
      "Epoch 251/2000\n",
      " - 3s - loss: 0.1247 - val_loss: 0.3731\n",
      "Epoch 252/2000\n",
      " - 3s - loss: 0.1249 - val_loss: 0.3557\n",
      "Epoch 253/2000\n",
      " - 3s - loss: 0.1250 - val_loss: 0.3755\n",
      "Epoch 254/2000\n",
      " - 3s - loss: 0.1248 - val_loss: 0.3699\n",
      "Epoch 255/2000\n",
      " - 3s - loss: 0.1234 - val_loss: 0.3732\n",
      "Epoch 256/2000\n",
      " - 3s - loss: 0.1254 - val_loss: 0.3793\n",
      "Epoch 257/2000\n",
      " - 3s - loss: 0.1246 - val_loss: 0.3612\n",
      "Epoch 258/2000\n",
      " - 3s - loss: 0.1253 - val_loss: 0.3706\n",
      "Epoch 259/2000\n",
      " - 3s - loss: 0.1243 - val_loss: 0.3627\n",
      "Epoch 260/2000\n",
      " - 3s - loss: 0.1266 - val_loss: 0.3848\n",
      "Epoch 261/2000\n",
      " - 3s - loss: 0.1234 - val_loss: 0.3598\n",
      "Epoch 262/2000\n",
      " - 3s - loss: 0.1248 - val_loss: 0.3595\n",
      "Epoch 263/2000\n",
      " - 3s - loss: 0.1242 - val_loss: 0.3948\n",
      "Epoch 264/2000\n",
      " - 3s - loss: 0.1249 - val_loss: 0.3715\n",
      "Epoch 265/2000\n",
      " - 3s - loss: 0.1237 - val_loss: 0.3569\n",
      "Epoch 266/2000\n",
      " - 3s - loss: 0.1256 - val_loss: 0.3558\n",
      "Epoch 267/2000\n",
      " - 3s - loss: 0.1244 - val_loss: 0.3813\n",
      "Epoch 268/2000\n",
      " - 3s - loss: 0.1259 - val_loss: 0.3636\n",
      "Epoch 269/2000\n",
      " - 3s - loss: 0.1240 - val_loss: 0.3557\n",
      "Epoch 270/2000\n",
      " - 3s - loss: 0.1257 - val_loss: 0.3764\n",
      "Epoch 271/2000\n",
      " - 3s - loss: 0.1228 - val_loss: 0.3675\n",
      "Epoch 272/2000\n",
      " - 3s - loss: 0.1238 - val_loss: 0.3604\n",
      "Epoch 273/2000\n",
      " - 3s - loss: 0.1239 - val_loss: 0.3612\n",
      "Epoch 274/2000\n",
      " - 3s - loss: 0.1229 - val_loss: 0.3615\n",
      "Epoch 275/2000\n",
      " - 3s - loss: 0.1224 - val_loss: 0.3735\n",
      "Epoch 276/2000\n",
      " - 3s - loss: 0.1254 - val_loss: 0.3714\n",
      "Epoch 277/2000\n",
      " - 3s - loss: 0.1239 - val_loss: 0.3776\n",
      "Epoch 278/2000\n",
      " - 3s - loss: 0.1240 - val_loss: 0.3705\n",
      "Epoch 279/2000\n",
      " - 3s - loss: 0.1239 - val_loss: 0.3782\n",
      "Epoch 280/2000\n",
      " - 3s - loss: 0.1226 - val_loss: 0.3601\n",
      "Epoch 281/2000\n",
      " - 3s - loss: 0.1242 - val_loss: 0.3677\n",
      "Epoch 282/2000\n",
      " - 3s - loss: 0.1228 - val_loss: 0.3679\n",
      "Epoch 283/2000\n",
      " - 3s - loss: 0.1222 - val_loss: 0.3588\n",
      "Epoch 284/2000\n",
      " - 3s - loss: 0.1220 - val_loss: 0.3637\n",
      "Epoch 285/2000\n",
      " - 3s - loss: 0.1235 - val_loss: 0.3675\n",
      "Epoch 286/2000\n",
      " - 3s - loss: 0.1224 - val_loss: 0.3669\n",
      "Epoch 287/2000\n",
      " - 3s - loss: 0.1248 - val_loss: 0.3506\n",
      "Epoch 288/2000\n",
      " - 3s - loss: 0.1229 - val_loss: 0.3636\n",
      "Epoch 289/2000\n",
      " - 3s - loss: 0.1259 - val_loss: 0.3672\n",
      "Epoch 290/2000\n",
      " - 3s - loss: 0.1227 - val_loss: 0.3712\n",
      "Epoch 291/2000\n",
      " - 3s - loss: 0.1240 - val_loss: 0.3538\n",
      "Epoch 292/2000\n",
      " - 3s - loss: 0.1228 - val_loss: 0.3746\n",
      "Epoch 293/2000\n",
      " - 3s - loss: 0.1209 - val_loss: 0.3736\n",
      "Epoch 294/2000\n",
      " - 3s - loss: 0.1213 - val_loss: 0.3629\n",
      "Epoch 295/2000\n",
      " - 3s - loss: 0.1229 - val_loss: 0.3649\n",
      "Epoch 296/2000\n",
      " - 3s - loss: 0.1209 - val_loss: 0.3536\n",
      "Epoch 297/2000\n",
      " - 3s - loss: 0.1228 - val_loss: 0.3631\n",
      "Epoch 298/2000\n",
      " - 3s - loss: 0.1227 - val_loss: 0.3603\n",
      "Epoch 299/2000\n",
      " - 3s - loss: 0.1230 - val_loss: 0.3607\n",
      "Epoch 300/2000\n"
     ]
    },
    {
     "name": "stdout",
     "output_type": "stream",
     "text": [
      " - 3s - loss: 0.1209 - val_loss: 0.3631\n",
      "Epoch 301/2000\n",
      " - 3s - loss: 0.1233 - val_loss: 0.3757\n",
      "Epoch 302/2000\n",
      " - 3s - loss: 0.1224 - val_loss: 0.3693\n",
      "Epoch 303/2000\n",
      " - 3s - loss: 0.1227 - val_loss: 0.3717\n",
      "Epoch 304/2000\n",
      " - 3s - loss: 0.1224 - val_loss: 0.3611\n",
      "Epoch 305/2000\n",
      " - 3s - loss: 0.1225 - val_loss: 0.3647\n",
      "Epoch 306/2000\n",
      " - 3s - loss: 0.1207 - val_loss: 0.3682\n",
      "Epoch 307/2000\n",
      " - 3s - loss: 0.1218 - val_loss: 0.3847\n",
      "Epoch 308/2000\n",
      " - 3s - loss: 0.1217 - val_loss: 0.3711\n",
      "Epoch 309/2000\n",
      " - 3s - loss: 0.1214 - val_loss: 0.3680\n",
      "Epoch 310/2000\n",
      " - 3s - loss: 0.1219 - val_loss: 0.3679\n",
      "Epoch 311/2000\n",
      " - 3s - loss: 0.1225 - val_loss: 0.3627\n",
      "Epoch 312/2000\n",
      " - 3s - loss: 0.1200 - val_loss: 0.3689\n",
      "Epoch 313/2000\n",
      " - 3s - loss: 0.1212 - val_loss: 0.3661\n",
      "Epoch 314/2000\n",
      " - 3s - loss: 0.1198 - val_loss: 0.3780\n",
      "Epoch 315/2000\n",
      " - 3s - loss: 0.1200 - val_loss: 0.3667\n",
      "Epoch 316/2000\n",
      " - 3s - loss: 0.1210 - val_loss: 0.3674\n",
      "Epoch 317/2000\n",
      " - 3s - loss: 0.1200 - val_loss: 0.3668\n",
      "Epoch 318/2000\n",
      " - 3s - loss: 0.1205 - val_loss: 0.3622\n",
      "Epoch 319/2000\n",
      " - 3s - loss: 0.1206 - val_loss: 0.3600\n",
      "Epoch 320/2000\n",
      " - 3s - loss: 0.1212 - val_loss: 0.3634\n",
      "Epoch 321/2000\n",
      " - 3s - loss: 0.1201 - val_loss: 0.3646\n",
      "Epoch 322/2000\n",
      " - 3s - loss: 0.1208 - val_loss: 0.3694\n",
      "Epoch 323/2000\n",
      " - 3s - loss: 0.1214 - val_loss: 0.3616\n",
      "Epoch 324/2000\n",
      " - 3s - loss: 0.1206 - val_loss: 0.3656\n",
      "Epoch 325/2000\n",
      " - 3s - loss: 0.1203 - val_loss: 0.3617\n",
      "Epoch 326/2000\n",
      " - 3s - loss: 0.1185 - val_loss: 0.3691\n",
      "Epoch 327/2000\n",
      " - 3s - loss: 0.1202 - val_loss: 0.3639\n",
      "Epoch 328/2000\n",
      " - 3s - loss: 0.1205 - val_loss: 0.3551\n",
      "Epoch 329/2000\n",
      " - 3s - loss: 0.1186 - val_loss: 0.3725\n",
      "Epoch 330/2000\n",
      " - 3s - loss: 0.1200 - val_loss: 0.3668\n",
      "Epoch 331/2000\n",
      " - 3s - loss: 0.1208 - val_loss: 0.3657\n",
      "Epoch 332/2000\n",
      " - 3s - loss: 0.1189 - val_loss: 0.3659\n",
      "Epoch 333/2000\n",
      " - 3s - loss: 0.1207 - val_loss: 0.3584\n",
      "Epoch 334/2000\n",
      " - 3s - loss: 0.1220 - val_loss: 0.3645\n",
      "Epoch 335/2000\n",
      " - 3s - loss: 0.1191 - val_loss: 0.3751\n",
      "Epoch 336/2000\n",
      " - 3s - loss: 0.1201 - val_loss: 0.3665\n",
      "Epoch 337/2000\n",
      " - 3s - loss: 0.1200 - val_loss: 0.3551\n",
      "Epoch 338/2000\n",
      " - 3s - loss: 0.1187 - val_loss: 0.3625\n",
      "Epoch 339/2000\n",
      " - 3s - loss: 0.1206 - val_loss: 0.3782\n",
      "Epoch 340/2000\n",
      " - 3s - loss: 0.1193 - val_loss: 0.3624\n",
      "Epoch 341/2000\n",
      " - 3s - loss: 0.1193 - val_loss: 0.3586\n",
      "Epoch 342/2000\n",
      " - 3s - loss: 0.1186 - val_loss: 0.3601\n",
      "Epoch 343/2000\n",
      " - 3s - loss: 0.1189 - val_loss: 0.3629\n",
      "Epoch 344/2000\n",
      " - 3s - loss: 0.1184 - val_loss: 0.3746\n",
      "Epoch 345/2000\n",
      " - 3s - loss: 0.1189 - val_loss: 0.3586\n",
      "Epoch 346/2000\n",
      " - 3s - loss: 0.1196 - val_loss: 0.3580\n",
      "Epoch 347/2000\n",
      " - 3s - loss: 0.1189 - val_loss: 0.3672\n",
      "Epoch 348/2000\n",
      " - 3s - loss: 0.1190 - val_loss: 0.3768\n",
      "Epoch 349/2000\n",
      " - 3s - loss: 0.1186 - val_loss: 0.3525\n",
      "Epoch 350/2000\n",
      " - 3s - loss: 0.1194 - val_loss: 0.3682\n",
      "Epoch 351/2000\n",
      " - 3s - loss: 0.1189 - val_loss: 0.3674\n",
      "Epoch 352/2000\n",
      " - 3s - loss: 0.1201 - val_loss: 0.3628\n",
      "Epoch 353/2000\n",
      " - 3s - loss: 0.1180 - val_loss: 0.3682\n",
      "Epoch 354/2000\n",
      " - 3s - loss: 0.1186 - val_loss: 0.3655\n",
      "Epoch 355/2000\n",
      " - 3s - loss: 0.1190 - val_loss: 0.3633\n",
      "Epoch 356/2000\n",
      " - 3s - loss: 0.1181 - val_loss: 0.3658\n",
      "Epoch 357/2000\n",
      " - 3s - loss: 0.1177 - val_loss: 0.3611\n",
      "Epoch 358/2000\n",
      " - 3s - loss: 0.1175 - val_loss: 0.3598\n",
      "Epoch 359/2000\n",
      " - 3s - loss: 0.1194 - val_loss: 0.3747\n",
      "Epoch 360/2000\n",
      " - 3s - loss: 0.1174 - val_loss: 0.3678\n",
      "Epoch 361/2000\n",
      " - 3s - loss: 0.1193 - val_loss: 0.3640\n",
      "Epoch 362/2000\n",
      " - 3s - loss: 0.1190 - val_loss: 0.3623\n",
      "Epoch 363/2000\n",
      " - 3s - loss: 0.1173 - val_loss: 0.3651\n",
      "Epoch 364/2000\n",
      " - 3s - loss: 0.1185 - val_loss: 0.3705\n",
      "Epoch 365/2000\n",
      " - 3s - loss: 0.1179 - val_loss: 0.3788\n",
      "Epoch 366/2000\n",
      " - 3s - loss: 0.1181 - val_loss: 0.3634\n",
      "Epoch 367/2000\n",
      " - 3s - loss: 0.1180 - val_loss: 0.3558\n",
      "Epoch 368/2000\n",
      " - 3s - loss: 0.1187 - val_loss: 0.3596\n",
      "Epoch 369/2000\n",
      " - 3s - loss: 0.1171 - val_loss: 0.3703\n",
      "Epoch 370/2000\n",
      " - 3s - loss: 0.1178 - val_loss: 0.3652\n",
      "Epoch 371/2000\n",
      " - 3s - loss: 0.1168 - val_loss: 0.3604\n",
      "Epoch 372/2000\n",
      " - 3s - loss: 0.1180 - val_loss: 0.3724\n",
      "Epoch 373/2000\n",
      " - 3s - loss: 0.1170 - val_loss: 0.3638\n",
      "Epoch 374/2000\n",
      " - 3s - loss: 0.1184 - val_loss: 0.3633\n",
      "Epoch 375/2000\n",
      " - 3s - loss: 0.1179 - val_loss: 0.3682\n",
      "Epoch 376/2000\n",
      " - 3s - loss: 0.1175 - val_loss: 0.3764\n",
      "Epoch 377/2000\n",
      " - 3s - loss: 0.1181 - val_loss: 0.3588\n",
      "Epoch 378/2000\n",
      " - 3s - loss: 0.1180 - val_loss: 0.3604\n",
      "Epoch 379/2000\n",
      " - 3s - loss: 0.1171 - val_loss: 0.3670\n",
      "Epoch 380/2000\n",
      " - 3s - loss: 0.1191 - val_loss: 0.3717\n",
      "Epoch 381/2000\n",
      " - 3s - loss: 0.1178 - val_loss: 0.3684\n",
      "Epoch 382/2000\n",
      " - 3s - loss: 0.1162 - val_loss: 0.3620\n",
      "Epoch 383/2000\n",
      " - 3s - loss: 0.1172 - val_loss: 0.3695\n",
      "Epoch 384/2000\n",
      " - 3s - loss: 0.1166 - val_loss: 0.3684\n",
      "Epoch 385/2000\n",
      " - 3s - loss: 0.1165 - val_loss: 0.3769\n",
      "Epoch 386/2000\n",
      " - 3s - loss: 0.1156 - val_loss: 0.3574\n",
      "Epoch 387/2000\n",
      " - 3s - loss: 0.1163 - val_loss: 0.3588\n",
      "Epoch 388/2000\n",
      " - 3s - loss: 0.1175 - val_loss: 0.3593\n",
      "Epoch 389/2000\n",
      " - 3s - loss: 0.1171 - val_loss: 0.3706\n",
      "Epoch 390/2000\n",
      " - 3s - loss: 0.1159 - val_loss: 0.3654\n",
      "Epoch 391/2000\n",
      " - 3s - loss: 0.1175 - val_loss: 0.3592\n",
      "Epoch 392/2000\n",
      " - 3s - loss: 0.1163 - val_loss: 0.3648\n",
      "Epoch 393/2000\n",
      " - 3s - loss: 0.1168 - val_loss: 0.3603\n",
      "Epoch 394/2000\n",
      " - 3s - loss: 0.1157 - val_loss: 0.3645\n",
      "Epoch 395/2000\n",
      " - 3s - loss: 0.1180 - val_loss: 0.3630\n",
      "Epoch 396/2000\n",
      " - 3s - loss: 0.1150 - val_loss: 0.3568\n",
      "Epoch 397/2000\n",
      " - 3s - loss: 0.1165 - val_loss: 0.3509\n",
      "Epoch 398/2000\n",
      " - 3s - loss: 0.1166 - val_loss: 0.3644\n",
      "Epoch 399/2000\n",
      " - 3s - loss: 0.1174 - val_loss: 0.3658\n",
      "Epoch 400/2000\n",
      " - 3s - loss: 0.1159 - val_loss: 0.3600\n",
      "Epoch 401/2000\n",
      " - 3s - loss: 0.1154 - val_loss: 0.3562\n",
      "Epoch 402/2000\n",
      " - 3s - loss: 0.1168 - val_loss: 0.3574\n",
      "Epoch 403/2000\n",
      " - 3s - loss: 0.1168 - val_loss: 0.3515\n",
      "Epoch 404/2000\n",
      " - 3s - loss: 0.1164 - val_loss: 0.3807\n",
      "Epoch 405/2000\n",
      " - 3s - loss: 0.1165 - val_loss: 0.3637\n",
      "Epoch 406/2000\n",
      " - 3s - loss: 0.1173 - val_loss: 0.3602\n",
      "Epoch 407/2000\n",
      " - 3s - loss: 0.1144 - val_loss: 0.3587\n",
      "Epoch 408/2000\n",
      " - 3s - loss: 0.1167 - val_loss: 0.3669\n",
      "Epoch 409/2000\n",
      " - 3s - loss: 0.1178 - val_loss: 0.3575\n",
      "Epoch 410/2000\n",
      " - 3s - loss: 0.1160 - val_loss: 0.3717\n",
      "Epoch 411/2000\n",
      " - 3s - loss: 0.1160 - val_loss: 0.3558\n",
      "Epoch 412/2000\n",
      " - 3s - loss: 0.1160 - val_loss: 0.3718\n",
      "Epoch 413/2000\n",
      " - 3s - loss: 0.1162 - val_loss: 0.3584\n",
      "Epoch 414/2000\n",
      " - 3s - loss: 0.1172 - val_loss: 0.3472\n",
      "Epoch 415/2000\n",
      " - 3s - loss: 0.1177 - val_loss: 0.3660\n",
      "Epoch 416/2000\n",
      " - 3s - loss: 0.1171 - val_loss: 0.3565\n",
      "Epoch 417/2000\n",
      " - 3s - loss: 0.1164 - val_loss: 0.3584\n",
      "Epoch 418/2000\n",
      " - 3s - loss: 0.1180 - val_loss: 0.3619\n",
      "Epoch 419/2000\n",
      " - 3s - loss: 0.1149 - val_loss: 0.3548\n",
      "Epoch 420/2000\n",
      " - 3s - loss: 0.1158 - val_loss: 0.3487\n",
      "Epoch 421/2000\n",
      " - 3s - loss: 0.1145 - val_loss: 0.3653\n",
      "Epoch 422/2000\n",
      " - 3s - loss: 0.1157 - val_loss: 0.3658\n",
      "Epoch 423/2000\n",
      " - 3s - loss: 0.1150 - val_loss: 0.3558\n",
      "Epoch 424/2000\n",
      " - 3s - loss: 0.1150 - val_loss: 0.3578\n",
      "Epoch 425/2000\n",
      " - 3s - loss: 0.1150 - val_loss: 0.3608\n",
      "Epoch 426/2000\n",
      " - 3s - loss: 0.1158 - val_loss: 0.3619\n",
      "Epoch 427/2000\n",
      " - 3s - loss: 0.1170 - val_loss: 0.3594\n"
     ]
    },
    {
     "data": {
      "text/plain": [
       "<keras.callbacks.History at 0x7facff425048>"
      ]
     },
     "execution_count": 61,
     "metadata": {},
     "output_type": "execute_result"
    }
   ],
   "source": [
    "# 3. Train\n",
    "model.fit([aug.train.Xvec, aug.train.Xscalar], aug.train.bin,\n",
    "          epochs=2000,\n",
    "          callbacks=callbacks,\n",
    "          verbose=2,\n",
    "          batch_size=32, \n",
    "          validation_data=([aug.validation.Xvec, aug.validation.Xscalar], aug.validation.bin)\n",
    "         )"
   ]
  },
  {
   "cell_type": "markdown",
   "metadata": {},
   "source": [
    "## Testing"
   ]
  },
  {
   "cell_type": "code",
   "execution_count": 62,
   "metadata": {
    "ExecuteTime": {
     "end_time": "2019-02-28T05:02:54.872326Z",
     "start_time": "2019-02-28T05:02:54.437773Z"
    }
   },
   "outputs": [
    {
     "name": "stdout",
     "output_type": "stream",
     "text": [
      "              precision    recall  f1-score   support\n",
      "\n",
      "       False       0.96      0.88      0.92      4946\n",
      "        True       0.34      0.62      0.44       517\n",
      "\n",
      "   micro avg       0.85      0.85      0.85      5463\n",
      "   macro avg       0.65      0.75      0.68      5463\n",
      "weighted avg       0.90      0.85      0.87      5463\n",
      "\n",
      "[[4340  606]\n",
      " [ 199  318]]\n",
      "AUROC= 0.7463\n",
      "F1 macro= 0.6782\n"
     ]
    }
   ],
   "source": [
    "from utils_classifiers import reports\n",
    "\n",
    "aug.validation.bin_hat = model.predict([aug.validation.Xvec, aug.validation.Xscalar]) >= 0.5\n",
    "_ = (reports(aug.validation.bin, aug.validation.bin_hat))"
   ]
  },
  {
   "cell_type": "markdown",
   "metadata": {},
   "source": [
    "# Classifier Selection"
   ]
  },
  {
   "cell_type": "markdown",
   "metadata": {},
   "source": [
    "## Double-check using Test Subsample"
   ]
  },
  {
   "cell_type": "code",
   "execution_count": 63,
   "metadata": {
    "ExecuteTime": {
     "end_time": "2019-02-28T05:02:55.573897Z",
     "start_time": "2019-02-28T05:02:55.406471Z"
    }
   },
   "outputs": [],
   "source": [
    "# Find the optimal model (argmax in Python list)\n",
    "f = lambda i:models[i].f1_macro\n",
    "opt_model = models[max(range(len(models)), key=f)]"
   ]
  },
  {
   "cell_type": "code",
   "execution_count": 64,
   "metadata": {
    "ExecuteTime": {
     "end_time": "2019-02-28T05:02:58.608691Z",
     "start_time": "2019-02-28T05:02:57.276496Z"
    }
   },
   "outputs": [
    {
     "name": "stdout",
     "output_type": "stream",
     "text": [
      "              precision    recall  f1-score   support\n",
      "\n",
      "       False       0.95      0.98      0.96      1648\n",
      "        True       0.73      0.51      0.60       174\n",
      "\n",
      "   micro avg       0.93      0.93      0.93      1822\n",
      "   macro avg       0.84      0.74      0.78      1822\n",
      "weighted avg       0.93      0.93      0.93      1822\n",
      "\n",
      "[[1615   33]\n",
      " [  86   88]]\n",
      "AUROC= 0.7429\n",
      "F1 macro= 0.7805\n"
     ]
    },
    {
     "data": {
      "text/plain": [
       "0.7805385872838337"
      ]
     },
     "execution_count": 64,
     "metadata": {},
     "output_type": "execute_result"
    }
   ],
   "source": [
    "from utils_classifiers import reports\n",
    "s.test.bin_hat = opt_model.classifier.predict(s.test.Xflatten)\n",
    "reports(s.test.bin, s.test.bin_hat)"
   ]
  },
  {
   "cell_type": "markdown",
   "metadata": {},
   "source": [
    "## Plot"
   ]
  },
  {
   "cell_type": "code",
   "execution_count": 65,
   "metadata": {
    "ExecuteTime": {
     "end_time": "2019-02-28T05:03:02.827490Z",
     "start_time": "2019-02-28T05:03:01.372726Z"
    }
   },
   "outputs": [
    {
     "data": {
      "image/png": "[encoded data removed]",
      "text/plain": [
       "<Figure size 720x720 with 1 Axes>"
      ]
     },
     "metadata": {
      "needs_background": "light"
     },
     "output_type": "display_data"
    }
   ],
   "source": [
    "x1, x2 = s.test.y[s.test.bin_hat == 1][:,0], s.test.y[s.test.bin_hat == 0][:,0]\n",
    "\n",
    "plt.figure(figsize=(10, 10))\n",
    "axes = plt.gca()\n",
    "axes.set_xlim([0,1])\n",
    "\n",
    "sns.scatterplot(x1, np.zeros(x1.size)+.1, size=1)\n",
    "sns.scatterplot(x2, np.zeros(x2.size), size=1)\n",
    "\n",
    "plt.show()"
   ]
  },
  {
   "cell_type": "markdown",
   "metadata": {},
   "source": [
    "# Classical Regression"
   ]
  },
  {
   "cell_type": "markdown",
   "metadata": {},
   "source": [
    "## Data Extraction"
   ]
  },
  {
   "cell_type": "code",
   "execution_count": 66,
   "metadata": {
    "ExecuteTime": {
     "end_time": "2019-02-28T05:03:03.321302Z",
     "start_time": "2019-02-28T05:03:03.277764Z"
    }
   },
   "outputs": [],
   "source": [
    "from classes import Sample, SampleSubset"
   ]
  },
  {
   "cell_type": "code",
   "execution_count": 67,
   "metadata": {
    "ExecuteTime": {
     "end_time": "2019-02-28T05:03:05.606607Z",
     "start_time": "2019-02-28T05:03:03.472812Z"
    }
   },
   "outputs": [],
   "source": [
    "s.validation.bin_hat = opt_model.classifier.predict(s.validation.Xflatten)\n",
    "mask = s.validation.bin_hat\n",
    "s_post_valid = SampleSubset(s.validation.bin[mask,:], s.validation.y[mask,:], s.validation.Xscalar[mask,:], s.validation.Xvec[mask,:,:],\n",
    "                           Xflatten=s.validation.Xflatten[mask,:], Xboundary=s.validation.Xboundary)\n",
    "\n",
    "mask = s.test.bin_hat\n",
    "s_post_test = SampleSubset(s.test.bin[mask,:], s.test.y[mask,:], s.test.Xscalar[mask,:], s.test.Xvec[mask,:,:],\n",
    "                          Xflatten=s.test.Xflatten[mask,:], Xboundary=s.test.Xboundary)\n",
    "\n",
    "s_post = Sample(None, s_post_valid, s_post_test, scaler=s.scaler)"
   ]
  },
  {
   "cell_type": "raw",
   "metadata": {
    "ExecuteTime": {
     "end_time": "2019-02-26T02:52:49.824805Z",
     "start_time": "2019-02-26T02:52:49.745291Z"
    }
   },
   "source": [
    "'''\n",
    "sel_data_2 = [s.validation.Xflatten[np.squeeze(s.validation.bin_hat),:], \n",
    "            s.test.Xflatten[np.squeeze(s.test.bin_hat),:],\n",
    "            np.squeeze(s.validation.y[np.squeeze(s.validation.bin_hat)]),\n",
    "            np.squeeze(s.test.y[np.squeeze(s.test.bin_hat)])\n",
    "            ]\n",
    "'''"
   ]
  },
  {
   "cell_type": "code",
   "execution_count": 68,
   "metadata": {
    "ExecuteTime": {
     "end_time": "2019-02-28T05:03:17.587104Z",
     "start_time": "2019-02-28T05:03:05.784432Z"
    }
   },
   "outputs": [],
   "source": [
    "from classes import Regressor\n",
    "sel_data = [s_post.validation.Xflatten, s_post.test.Xflatten,\n",
    "            np.squeeze(s_post.validation.y), np.squeeze(s_post.test.y)]"
   ]
  },
  {
   "cell_type": "code",
   "execution_count": 69,
   "metadata": {
    "ExecuteTime": {
     "end_time": "2019-02-28T05:04:03.400994Z",
     "start_time": "2019-02-28T05:04:03.348959Z"
    }
   },
   "outputs": [
    {
     "data": {
      "text/plain": [
       "[(391, 154), (121, 154), (391,), (121,)]"
      ]
     },
     "execution_count": 69,
     "metadata": {},
     "output_type": "execute_result"
    }
   ],
   "source": [
    "[x.shape for x in sel_data]"
   ]
  },
  {
   "cell_type": "markdown",
   "metadata": {},
   "source": [
    "### Y Shift (+ve) for RMSLE"
   ]
  },
  {
   "cell_type": "code",
   "execution_count": 70,
   "metadata": {
    "ExecuteTime": {
     "end_time": "2019-02-28T05:04:04.196278Z",
     "start_time": "2019-02-28T05:04:03.584474Z"
    }
   },
   "outputs": [],
   "source": [
    "# shift all inputs for \n",
    "pos_shift = [-x.min() + 1 + np.finfo(np.float32).eps for x in sel_data[2:]] \n",
    "sel_pos_data = sel_data[:2] + [x + shift for x, shift in zip(sel_data[2:], pos_shift)]"
   ]
  },
  {
   "cell_type": "markdown",
   "metadata": {},
   "source": [
    "## Common Regressors"
   ]
  },
  {
   "cell_type": "markdown",
   "metadata": {},
   "source": [
    "### KNN"
   ]
  },
  {
   "cell_type": "code",
   "execution_count": 71,
   "metadata": {
    "ExecuteTime": {
     "end_time": "2019-02-28T05:06:14.732769Z",
     "start_time": "2019-02-28T05:04:04.416711Z"
    }
   },
   "outputs": [
    {
     "name": "stdout",
     "output_type": "stream",
     "text": [
      "0.115241416\n"
     ]
    },
    {
     "name": "stderr",
     "output_type": "stream",
     "text": [
      "/scratch/s1895566/miniconda/base/envs/venv/lib/python3.6/site-packages/sklearn/model_selection/_search.py:841: DeprecationWarning: The default of the `iid` parameter will change from True to False in version 0.22 and will be removed in 0.24. This will change numeric results when test-set sizes are unequal.\n",
      "  DeprecationWarning)\n"
     ]
    }
   ],
   "source": [
    "from utils_regressors import KNNReg\n",
    "knn_reg = Regressor('KNN Regression', KNNReg(sel_pos_data))"
   ]
  },
  {
   "cell_type": "markdown",
   "metadata": {},
   "source": [
    "### Linear Regression"
   ]
  },
  {
   "cell_type": "raw",
   "metadata": {
    "ExecuteTime": {
     "end_time": "2019-02-26T16:37:09.299537Z",
     "start_time": "2019-02-26T16:37:08.753763Z"
    }
   },
   "source": [
    "from utils_regressors import LinReg\n",
    "lin_reg = Regressor('Linear Regression', LinReg(sel_pos_data))"
   ]
  },
  {
   "cell_type": "markdown",
   "metadata": {},
   "source": [
    "### Support-vector Machine"
   ]
  },
  {
   "cell_type": "raw",
   "metadata": {
    "ExecuteTime": {
     "end_time": "2019-02-26T16:37:33.855222Z",
     "start_time": "2019-02-26T16:37:30.178318Z"
    }
   },
   "source": [
    "from utils_regressors import SVR\n",
    "svr = Regressor('SVM', SVR(sel_pos_data))"
   ]
  },
  {
   "cell_type": "markdown",
   "metadata": {},
   "source": [
    "### Random Forest"
   ]
  },
  {
   "cell_type": "code",
   "execution_count": 72,
   "metadata": {
    "ExecuteTime": {
     "end_time": "2019-02-28T05:08:19.948580Z",
     "start_time": "2019-02-28T05:08:08.076182Z"
    }
   },
   "outputs": [
    {
     "name": "stderr",
     "output_type": "stream",
     "text": [
      "/scratch/s1895566/miniconda/base/envs/venv/lib/python3.6/site-packages/sklearn/model_selection/_search.py:841: DeprecationWarning: The default of the `iid` parameter will change from True to False in version 0.22 and will be removed in 0.24. This will change numeric results when test-set sizes are unequal.\n",
      "  DeprecationWarning)\n",
      "/scratch/s1895566/miniconda/base/envs/venv/lib/python3.6/site-packages/sklearn/ensemble/forest.py:246: FutureWarning: The default value of n_estimators will change from 10 in version 0.20 to 100 in 0.22.\n",
      "  \"10 in version 0.20 to 100 in 0.22.\", FutureWarning)\n"
     ]
    },
    {
     "name": "stdout",
     "output_type": "stream",
     "text": [
      "0.15058231045834913\n"
     ]
    }
   ],
   "source": [
    "from utils_regressors import RFR\n",
    "rfr = Regressor('Random Forest', RFR(sel_pos_data))"
   ]
  },
  {
   "cell_type": "markdown",
   "metadata": {},
   "source": [
    "### Bagging"
   ]
  },
  {
   "cell_type": "code",
   "execution_count": 73,
   "metadata": {
    "ExecuteTime": {
     "end_time": "2019-02-28T05:08:49.133015Z",
     "start_time": "2019-02-28T05:08:46.544190Z"
    }
   },
   "outputs": [
    {
     "name": "stdout",
     "output_type": "stream",
     "text": [
      "0.16510702169616573\n"
     ]
    }
   ],
   "source": [
    "from utils_regressors import BagReg\n",
    "bag_reg = Regressor('Bagging', BagReg(sel_pos_data))"
   ]
  },
  {
   "cell_type": "markdown",
   "metadata": {
    "ExecuteTime": {
     "end_time": "2019-02-25T23:02:23.425938Z",
     "start_time": "2019-02-25T23:02:23.321923Z"
    }
   },
   "source": [
    "## Performance"
   ]
  },
  {
   "cell_type": "markdown",
   "metadata": {
    "ExecuteTime": {
     "end_time": "2019-02-25T23:04:38.803312Z",
     "start_time": "2019-02-25T23:04:38.762891Z"
    }
   },
   "source": [
    "### Validation (fit) Error"
   ]
  },
  {
   "cell_type": "code",
   "execution_count": 74,
   "metadata": {
    "ExecuteTime": {
     "end_time": "2019-02-28T05:08:49.405494Z",
     "start_time": "2019-02-28T05:08:49.342008Z"
    }
   },
   "outputs": [
    {
     "data": {
      "text/plain": [
       "'KNN Regression'"
      ]
     },
     "execution_count": 74,
     "metadata": {},
     "output_type": "execute_result"
    }
   ],
   "source": [
    "models_reg = [knn_reg, rfr, bag_reg]\n",
    "f = lambda i:models_reg[i].mse\n",
    "opt_model_reg = models_reg[min(range(len(models_reg)), key=f)]\n",
    "opt_model_reg.name"
   ]
  },
  {
   "cell_type": "code",
   "execution_count": 75,
   "metadata": {
    "ExecuteTime": {
     "end_time": "2019-02-28T05:08:50.901456Z",
     "start_time": "2019-02-28T05:08:49.571007Z"
    }
   },
   "outputs": [],
   "source": [
    "s.validation.y_hat = opt_model_reg.regressor.predict(s.validation.Xflatten) - pos_shift[0]\n",
    "labels = s.scaler.y.inverse_transform(s.validation.y)\n",
    "outputs = s.scaler.y.inverse_transform(s.validation.y_hat)"
   ]
  },
  {
   "cell_type": "code",
   "execution_count": 76,
   "metadata": {
    "ExecuteTime": {
     "end_time": "2019-02-28T05:08:51.715727Z",
     "start_time": "2019-02-28T05:08:51.108827Z"
    }
   },
   "outputs": [
    {
     "data": {
      "image/png": "[encoded data removed]",
      "text/plain": [
       "<Figure size 432x288 with 1 Axes>"
      ]
     },
     "metadata": {
      "needs_background": "light"
     },
     "output_type": "display_data"
    }
   ],
   "source": [
    "sns.scatterplot(np.squeeze(labels), np.squeeze(outputs), size=3)\n",
    "plt.xlabel('True precipitation')\n",
    "plt.ylabel('Predicted precipitation')\n",
    "plt.show()"
   ]
  },
  {
   "cell_type": "markdown",
   "metadata": {},
   "source": [
    "### Test Error"
   ]
  },
  {
   "cell_type": "code",
   "execution_count": 77,
   "metadata": {
    "ExecuteTime": {
     "end_time": "2019-02-28T05:08:52.506113Z",
     "start_time": "2019-02-28T05:08:51.909820Z"
    }
   },
   "outputs": [],
   "source": [
    "s.test.y_hat = opt_model_reg.regressor.predict(s.test.Xflatten) - pos_shift[1]\n",
    "labels = s.scaler.y.inverse_transform(s.test.y)\n",
    "outputs = s.scaler.y.inverse_transform(s.test.y_hat)"
   ]
  },
  {
   "cell_type": "code",
   "execution_count": 78,
   "metadata": {
    "ExecuteTime": {
     "end_time": "2019-02-28T05:08:53.455887Z",
     "start_time": "2019-02-28T05:08:53.031553Z"
    }
   },
   "outputs": [
    {
     "data": {
      "image/png": "[encoded data removed]",
      "text/plain": [
       "<Figure size 432x288 with 1 Axes>"
      ]
     },
     "metadata": {
      "needs_background": "light"
     },
     "output_type": "display_data"
    }
   ],
   "source": [
    "sns.scatterplot(np.squeeze(labels), np.squeeze(outputs), size=3)\n",
    "plt.xlabel('True precipitation')\n",
    "plt.ylabel('Predicted precipitation')\n",
    "plt.show()"
   ]
  },
  {
   "cell_type": "markdown",
   "metadata": {},
   "source": [
    "# Convolutional Neural Net"
   ]
  },
  {
   "cell_type": "code",
   "execution_count": 79,
   "metadata": {
    "ExecuteTime": {
     "end_time": "2019-02-28T05:08:53.861561Z",
     "start_time": "2019-02-28T05:08:53.680829Z"
    }
   },
   "outputs": [
    {
     "name": "stdout",
     "output_type": "stream",
     "text": [
      "1 class ratio after ADASYN= 71.36%\n"
     ]
    }
   ],
   "source": [
    "print('1 class ratio after ADASYN= {:.2%}'.format(s_post.validation.class_ratio))\n",
    "# ideally 100%"
   ]
  },
  {
   "cell_type": "markdown",
   "metadata": {},
   "source": [
    "## Network Construction"
   ]
  },
  {
   "cell_type": "code",
   "execution_count": 87,
   "metadata": {
    "ExecuteTime": {
     "end_time": "2019-02-28T05:20:02.034912Z",
     "start_time": "2019-02-28T05:19:25.205578Z"
    }
   },
   "outputs": [
    {
     "data": {
      "text/plain": [
       "391"
      ]
     },
     "execution_count": 87,
     "metadata": {},
     "output_type": "execute_result"
    }
   ],
   "source": [
    "s_post.validation.Xvec.shape[0]"
   ]
  },
  {
   "cell_type": "code",
   "execution_count": 80,
   "metadata": {
    "ExecuteTime": {
     "end_time": "2019-02-28T05:09:31.780137Z",
     "start_time": "2019-02-28T05:08:54.022433Z"
    }
   },
   "outputs": [
    {
     "name": "stdout",
     "output_type": "stream",
     "text": [
      "__________________________________________________________________________________________________\n",
      "Layer (type)                    Output Shape         Param #     Connected to                     \n",
      "==================================================================================================\n",
      "column_input (InputLayer)       (None, 37, 4)        0                                            \n",
      "__________________________________________________________________________________________________\n",
      "conv1d_5 (Conv1D)               (None, 30, 1)        33          column_input[0][0]               \n",
      "__________________________________________________________________________________________________\n",
      "batch_normalization_5 (BatchNor (None, 30, 1)        4           conv1d_5[0][0]                   \n",
      "__________________________________________________________________________________________________\n",
      "max_pooling1d_5 (MaxPooling1D)  (None, 15, 1)        0           batch_normalization_5[0][0]      \n",
      "__________________________________________________________________________________________________\n",
      "activation_5 (Activation)       (None, 15, 1)        0           max_pooling1d_5[0][0]            \n",
      "__________________________________________________________________________________________________\n",
      "conv1d_6 (Conv1D)               (None, 12, 1)        5           activation_5[0][0]               \n",
      "__________________________________________________________________________________________________\n",
      "batch_normalization_6 (BatchNor (None, 12, 1)        4           conv1d_6[0][0]                   \n",
      "__________________________________________________________________________________________________\n",
      "max_pooling1d_6 (MaxPooling1D)  (None, 6, 1)         0           batch_normalization_6[0][0]      \n",
      "__________________________________________________________________________________________________\n",
      "activation_6 (Activation)       (None, 6, 1)         0           max_pooling1d_6[0][0]            \n",
      "__________________________________________________________________________________________________\n",
      "flatten_3 (Flatten)             (None, 6)            0           activation_6[0][0]               \n",
      "__________________________________________________________________________________________________\n",
      "surface_input (InputLayer)      (None, 6)            0                                            \n",
      "__________________________________________________________________________________________________\n",
      "concatenate_3 (Concatenate)     (None, 12)           0           flatten_3[0][0]                  \n",
      "                                                                 surface_input[0][0]              \n",
      "__________________________________________________________________________________________________\n",
      "dense_3 (Dense)                 (None, 2)            26          concatenate_3[0][0]              \n",
      "__________________________________________________________________________________________________\n",
      "dropout_3 (Dropout)             (None, 2)            0           dense_3[0][0]                    \n",
      "__________________________________________________________________________________________________\n",
      "output (Dense)                  (None, 1)            3           dropout_3[0][0]                  \n",
      "==================================================================================================\n",
      "Total params: 75\n",
      "Trainable params: 71\n",
      "Non-trainable params: 4\n",
      "__________________________________________________________________________________________________\n",
      "None\n"
     ]
    }
   ],
   "source": [
    "# Input placeholders\n",
    "input_conv = Input(shape=s_post.validation.Xvec.shape[1:], name='column_input')\n",
    "input_scalar = Input(shape=(s_post.validation.Xscalar.shape[1],), name='surface_input')\n",
    "\n",
    "# Hidden layers\n",
    "conv_1 = Conv1D(1, kernel_size=8)(input_conv)\n",
    "bn_1 = BatchNormalization()(conv_1)\n",
    "pool_1 = MaxPooling1D(pool_size=2)(bn_1)\n",
    "act_1 = Activation('relu')(pool_1)\n",
    "\n",
    "conv_2 = Conv1D(1, kernel_size=4)(act_1)\n",
    "bn_2 = BatchNormalization()(conv_2)\n",
    "pool_2 = MaxPooling1D(pool_size=2)(bn_2)\n",
    "act_2 = Activation('relu')(pool_2)\n",
    "\n",
    "flatten_2 = Flatten()(act_2)\n",
    "\n",
    "layer = concatenate([flatten_2, input_scalar])\n",
    "#layer = Dense(4, activation='relu')(layer)\n",
    "\n",
    "hid_3 = Dense(2,\n",
    "              activation='relu')(layer)\n",
    "hid_3 = Dropout(0.1)(hid_3)\n",
    "\n",
    "output = Dense(1,\n",
    "               kernel_regularizer=regularizers.l2(0.02),\n",
    "               name='output')(hid_3)\n",
    "\n",
    "# 1. Initialize\n",
    "model_reg = Model(inputs=[input_conv, input_scalar], outputs=output)\n",
    "to_file_path = f'nn/model_r_all.png'\n",
    "plot_model(model_reg, show_shapes=True, to_file=to_file_path)\n",
    "print(model_reg.summary())"
   ]
  },
  {
   "cell_type": "markdown",
   "metadata": {},
   "source": [
    "## Network Training"
   ]
  },
  {
   "cell_type": "code",
   "execution_count": 81,
   "metadata": {
    "ExecuteTime": {
     "end_time": "2019-02-28T05:10:05.123673Z",
     "start_time": "2019-02-28T05:10:05.023416Z"
    }
   },
   "outputs": [],
   "source": [
    "# 2. Compile\n",
    "model_reg.compile(optimizer=Adam(),\n",
    "                  loss='mean_squared_logarithmic_error')\n",
    "\n",
    "to_file_path = f'nn/best_model_r_all.h5'\n",
    "callbacks = [EarlyStopping(monitor='loss',\n",
    "                           min_delta=0,\n",
    "                           patience=40,\n",
    "                           verbose=0, mode='auto'),\n",
    "             ModelCheckpoint(filepath=to_file_path, \n",
    "                             monitor='loss', \n",
    "                             save_best_only=True)]"
   ]
  },
  {
   "cell_type": "code",
   "execution_count": 82,
   "metadata": {
    "ExecuteTime": {
     "end_time": "2019-02-28T05:10:22.024705Z",
     "start_time": "2019-02-28T05:10:05.610319Z"
    }
   },
   "outputs": [
    {
     "name": "stdout",
     "output_type": "stream",
     "text": [
      "Train on 391 samples, validate on 121 samples\n",
      "Epoch 1/2000\n",
      " - 2s - loss: 0.4597 - val_loss: 0.2837\n",
      "Epoch 2/2000\n",
      " - 0s - loss: 0.4369 - val_loss: 0.2535\n",
      "Epoch 3/2000\n",
      " - 0s - loss: 0.4353 - val_loss: 0.2301\n",
      "Epoch 4/2000\n",
      " - 0s - loss: 0.4181 - val_loss: 0.2131\n",
      "Epoch 5/2000\n",
      " - 0s - loss: 0.3950 - val_loss: 0.1993\n",
      "Epoch 6/2000\n",
      " - 0s - loss: 0.3882 - val_loss: 0.1879\n",
      "Epoch 7/2000\n",
      " - 0s - loss: 0.3822 - val_loss: 0.1748\n",
      "Epoch 8/2000\n",
      " - 0s - loss: 0.3776 - val_loss: 0.1630\n",
      "Epoch 9/2000\n",
      " - 0s - loss: 0.3640 - val_loss: 0.1544\n",
      "Epoch 10/2000\n",
      " - 0s - loss: 0.3586 - val_loss: 0.1485\n",
      "Epoch 11/2000\n",
      " - 0s - loss: 0.3666 - val_loss: 0.1393\n",
      "Epoch 12/2000\n",
      " - 0s - loss: 0.3710 - val_loss: 0.1332\n",
      "Epoch 13/2000\n",
      " - 0s - loss: 0.3477 - val_loss: 0.1290\n",
      "Epoch 14/2000\n",
      " - 0s - loss: 0.3420 - val_loss: 0.1276\n",
      "Epoch 15/2000\n",
      " - 0s - loss: 0.3560 - val_loss: 0.1245\n",
      "Epoch 16/2000\n",
      " - 0s - loss: 0.3488 - val_loss: 0.1223\n",
      "Epoch 17/2000\n",
      " - 0s - loss: 0.3413 - val_loss: 0.1214\n",
      "Epoch 18/2000\n",
      " - 0s - loss: 0.3415 - val_loss: 0.1223\n",
      "Epoch 19/2000\n",
      " - 0s - loss: 0.3275 - val_loss: 0.1242\n",
      "Epoch 20/2000\n",
      " - 0s - loss: 0.3312 - val_loss: 0.1231\n",
      "Epoch 21/2000\n",
      " - 0s - loss: 0.3465 - val_loss: 0.1210\n",
      "Epoch 22/2000\n",
      " - 0s - loss: 0.3288 - val_loss: 0.1196\n",
      "Epoch 23/2000\n",
      " - 0s - loss: 0.3543 - val_loss: 0.1171\n",
      "Epoch 24/2000\n",
      " - 0s - loss: 0.3261 - val_loss: 0.1164\n",
      "Epoch 25/2000\n",
      " - 0s - loss: 0.3280 - val_loss: 0.1155\n",
      "Epoch 26/2000\n",
      " - 0s - loss: 0.3159 - val_loss: 0.1161\n",
      "Epoch 27/2000\n",
      " - 0s - loss: 0.3545 - val_loss: 0.1139\n",
      "Epoch 28/2000\n",
      " - 0s - loss: 0.3172 - val_loss: 0.1128\n",
      "Epoch 29/2000\n",
      " - 0s - loss: 0.3517 - val_loss: 0.1124\n",
      "Epoch 30/2000\n",
      " - 0s - loss: 0.3151 - val_loss: 0.1125\n",
      "Epoch 31/2000\n",
      " - 0s - loss: 0.3190 - val_loss: 0.1107\n",
      "Epoch 32/2000\n",
      " - 0s - loss: 0.3350 - val_loss: 0.1126\n",
      "Epoch 33/2000\n",
      " - 0s - loss: 0.3288 - val_loss: 0.1127\n",
      "Epoch 34/2000\n",
      " - 0s - loss: 0.3207 - val_loss: 0.1110\n",
      "Epoch 35/2000\n",
      " - 0s - loss: 0.3239 - val_loss: 0.1094\n",
      "Epoch 36/2000\n",
      " - 0s - loss: 0.3067 - val_loss: 0.1073\n",
      "Epoch 37/2000\n",
      " - 0s - loss: 0.3155 - val_loss: 0.1066\n",
      "Epoch 38/2000\n",
      " - 0s - loss: 0.3089 - val_loss: 0.1075\n",
      "Epoch 39/2000\n",
      " - 0s - loss: 0.3293 - val_loss: 0.1054\n",
      "Epoch 40/2000\n",
      " - 0s - loss: 0.3203 - val_loss: 0.1054\n",
      "Epoch 41/2000\n",
      " - 0s - loss: 0.3123 - val_loss: 0.1039\n",
      "Epoch 42/2000\n",
      " - 0s - loss: 0.3091 - val_loss: 0.1048\n",
      "Epoch 43/2000\n",
      " - 0s - loss: 0.3327 - val_loss: 0.1037\n",
      "Epoch 44/2000\n",
      " - 0s - loss: 0.3191 - val_loss: 0.1018\n",
      "Epoch 45/2000\n",
      " - 0s - loss: 0.3113 - val_loss: 0.1008\n",
      "Epoch 46/2000\n",
      " - 0s - loss: 0.3129 - val_loss: 0.0999\n",
      "Epoch 47/2000\n",
      " - 0s - loss: 0.3113 - val_loss: 0.1008\n",
      "Epoch 48/2000\n",
      " - 0s - loss: 0.3254 - val_loss: 0.1029\n",
      "Epoch 49/2000\n",
      " - 0s - loss: 0.3139 - val_loss: 0.1029\n",
      "Epoch 50/2000\n",
      " - 0s - loss: 0.3081 - val_loss: 0.0999\n",
      "Epoch 51/2000\n",
      " - 0s - loss: 0.3001 - val_loss: 0.0984\n",
      "Epoch 52/2000\n",
      " - 0s - loss: 0.3401 - val_loss: 0.0963\n",
      "Epoch 53/2000\n",
      " - 0s - loss: 0.3068 - val_loss: 0.0964\n",
      "Epoch 54/2000\n",
      " - 0s - loss: 0.3106 - val_loss: 0.0960\n",
      "Epoch 55/2000\n",
      " - 0s - loss: 0.3232 - val_loss: 0.0964\n",
      "Epoch 56/2000\n",
      " - 0s - loss: 0.3073 - val_loss: 0.0965\n",
      "Epoch 57/2000\n",
      " - 0s - loss: 0.3164 - val_loss: 0.0965\n",
      "Epoch 58/2000\n",
      " - 0s - loss: 0.3076 - val_loss: 0.0959\n",
      "Epoch 59/2000\n",
      " - 0s - loss: 0.3213 - val_loss: 0.0958\n",
      "Epoch 60/2000\n",
      " - 0s - loss: 0.3085 - val_loss: 0.0963\n",
      "Epoch 61/2000\n",
      " - 0s - loss: 0.3124 - val_loss: 0.0973\n",
      "Epoch 62/2000\n",
      " - 0s - loss: 0.3191 - val_loss: 0.0959\n",
      "Epoch 63/2000\n",
      " - 0s - loss: 0.3034 - val_loss: 0.0958\n",
      "Epoch 64/2000\n",
      " - 0s - loss: 0.3152 - val_loss: 0.0959\n",
      "Epoch 65/2000\n",
      " - 0s - loss: 0.3013 - val_loss: 0.0942\n",
      "Epoch 66/2000\n",
      " - 0s - loss: 0.3052 - val_loss: 0.0931\n",
      "Epoch 67/2000\n",
      " - 0s - loss: 0.3086 - val_loss: 0.0938\n",
      "Epoch 68/2000\n",
      " - 0s - loss: 0.2958 - val_loss: 0.0937\n",
      "Epoch 69/2000\n",
      " - 0s - loss: 0.3313 - val_loss: 0.0939\n",
      "Epoch 70/2000\n",
      " - 0s - loss: 0.3341 - val_loss: 0.0934\n",
      "Epoch 71/2000\n",
      " - 0s - loss: 0.3072 - val_loss: 0.0927\n",
      "Epoch 72/2000\n",
      " - 0s - loss: 0.3209 - val_loss: 0.0918\n",
      "Epoch 73/2000\n",
      " - 0s - loss: 0.3189 - val_loss: 0.0900\n",
      "Epoch 74/2000\n",
      " - 0s - loss: 0.3139 - val_loss: 0.0896\n",
      "Epoch 75/2000\n",
      " - 0s - loss: 0.3191 - val_loss: 0.0899\n",
      "Epoch 76/2000\n",
      " - 0s - loss: 0.3131 - val_loss: 0.0890\n",
      "Epoch 77/2000\n",
      " - 0s - loss: 0.3017 - val_loss: 0.0895\n",
      "Epoch 78/2000\n",
      " - 0s - loss: 0.2978 - val_loss: 0.0898\n",
      "Epoch 79/2000\n",
      " - 0s - loss: 0.3019 - val_loss: 0.0898\n",
      "Epoch 80/2000\n",
      " - 0s - loss: 0.3028 - val_loss: 0.0899\n",
      "Epoch 81/2000\n",
      " - 0s - loss: 0.3204 - val_loss: 0.0903\n",
      "Epoch 82/2000\n",
      " - 0s - loss: 0.3084 - val_loss: 0.0903\n",
      "Epoch 83/2000\n",
      " - 0s - loss: 0.3056 - val_loss: 0.0901\n",
      "Epoch 84/2000\n",
      " - 0s - loss: 0.3098 - val_loss: 0.0904\n",
      "Epoch 85/2000\n",
      " - 0s - loss: 0.3140 - val_loss: 0.0912\n",
      "Epoch 86/2000\n",
      " - 0s - loss: 0.3060 - val_loss: 0.0912\n",
      "Epoch 87/2000\n",
      " - 0s - loss: 0.3062 - val_loss: 0.0918\n",
      "Epoch 88/2000\n",
      " - 0s - loss: 0.3290 - val_loss: 0.0914\n",
      "Epoch 89/2000\n",
      " - 0s - loss: 0.3112 - val_loss: 0.0902\n",
      "Epoch 90/2000\n",
      " - 0s - loss: 0.3423 - val_loss: 0.0894\n",
      "Epoch 91/2000\n",
      " - 0s - loss: 0.2917 - val_loss: 0.0884\n",
      "Epoch 92/2000\n",
      " - 0s - loss: 0.3288 - val_loss: 0.0882\n",
      "Epoch 93/2000\n",
      " - 0s - loss: 0.2976 - val_loss: 0.0892\n",
      "Epoch 94/2000\n",
      " - 0s - loss: 0.2935 - val_loss: 0.0902\n",
      "Epoch 95/2000\n",
      " - 0s - loss: 0.3311 - val_loss: 0.0889\n",
      "Epoch 96/2000\n",
      " - 0s - loss: 0.3077 - val_loss: 0.0882\n",
      "Epoch 97/2000\n",
      " - 0s - loss: 0.3234 - val_loss: 0.0869\n",
      "Epoch 98/2000\n",
      " - 0s - loss: 0.2983 - val_loss: 0.0862\n",
      "Epoch 99/2000\n",
      " - 0s - loss: 0.2975 - val_loss: 0.0866\n",
      "Epoch 100/2000\n",
      " - 0s - loss: 0.3018 - val_loss: 0.0872\n",
      "Epoch 101/2000\n",
      " - 0s - loss: 0.3139 - val_loss: 0.0878\n",
      "Epoch 102/2000\n",
      " - 0s - loss: 0.3030 - val_loss: 0.0883\n",
      "Epoch 103/2000\n",
      " - 0s - loss: 0.3183 - val_loss: 0.0899\n",
      "Epoch 104/2000\n",
      " - 0s - loss: 0.2931 - val_loss: 0.0892\n",
      "Epoch 105/2000\n",
      " - 0s - loss: 0.3022 - val_loss: 0.0902\n",
      "Epoch 106/2000\n",
      " - 0s - loss: 0.2980 - val_loss: 0.0905\n",
      "Epoch 107/2000\n",
      " - 0s - loss: 0.3343 - val_loss: 0.0904\n",
      "Epoch 108/2000\n",
      " - 0s - loss: 0.2903 - val_loss: 0.0885\n",
      "Epoch 109/2000\n",
      " - 0s - loss: 0.2919 - val_loss: 0.0890\n",
      "Epoch 110/2000\n",
      " - 0s - loss: 0.2942 - val_loss: 0.0899\n",
      "Epoch 111/2000\n",
      " - 0s - loss: 0.2988 - val_loss: 0.0900\n",
      "Epoch 112/2000\n",
      " - 0s - loss: 0.2974 - val_loss: 0.0896\n",
      "Epoch 113/2000\n",
      " - 0s - loss: 0.2989 - val_loss: 0.0888\n",
      "Epoch 114/2000\n",
      " - 0s - loss: 0.2918 - val_loss: 0.0894\n",
      "Epoch 115/2000\n",
      " - 0s - loss: 0.3066 - val_loss: 0.0900\n",
      "Epoch 116/2000\n",
      " - 0s - loss: 0.3086 - val_loss: 0.0900\n",
      "Epoch 117/2000\n",
      " - 0s - loss: 0.3124 - val_loss: 0.0889\n",
      "Epoch 118/2000\n",
      " - 0s - loss: 0.3060 - val_loss: 0.0880\n",
      "Epoch 119/2000\n",
      " - 0s - loss: 0.3104 - val_loss: 0.0873\n",
      "Epoch 120/2000\n",
      " - 0s - loss: 0.3158 - val_loss: 0.0858\n",
      "Epoch 121/2000\n",
      " - 0s - loss: 0.3095 - val_loss: 0.0870\n",
      "Epoch 122/2000\n",
      " - 0s - loss: 0.3350 - val_loss: 0.0863\n",
      "Epoch 123/2000\n",
      " - 0s - loss: 0.2978 - val_loss: 0.0868\n",
      "Epoch 124/2000\n",
      " - 0s - loss: 0.2943 - val_loss: 0.0878\n",
      "Epoch 125/2000\n",
      " - 0s - loss: 0.3073 - val_loss: 0.0881\n",
      "Epoch 126/2000\n",
      " - 0s - loss: 0.3077 - val_loss: 0.0887\n",
      "Epoch 127/2000\n",
      " - 0s - loss: 0.3161 - val_loss: 0.0888\n",
      "Epoch 128/2000\n",
      " - 0s - loss: 0.2948 - val_loss: 0.0883\n",
      "Epoch 129/2000\n",
      " - 0s - loss: 0.2857 - val_loss: 0.0895\n",
      "Epoch 130/2000\n",
      " - 0s - loss: 0.3063 - val_loss: 0.0915\n",
      "Epoch 131/2000\n",
      " - 0s - loss: 0.3241 - val_loss: 0.0902\n",
      "Epoch 132/2000\n",
      " - 0s - loss: 0.3217 - val_loss: 0.0927\n",
      "Epoch 133/2000\n",
      " - 0s - loss: 0.3060 - val_loss: 0.0921\n",
      "Epoch 134/2000\n",
      " - 0s - loss: 0.2925 - val_loss: 0.0920\n",
      "Epoch 135/2000\n",
      " - 0s - loss: 0.2919 - val_loss: 0.0910\n",
      "Epoch 136/2000\n",
      " - 0s - loss: 0.3184 - val_loss: 0.0911\n",
      "Epoch 137/2000\n",
      " - 0s - loss: 0.2751 - val_loss: 0.0896\n",
      "Epoch 138/2000\n",
      " - 0s - loss: 0.3144 - val_loss: 0.0904\n",
      "Epoch 139/2000\n",
      " - 0s - loss: 0.3102 - val_loss: 0.0884\n",
      "Epoch 140/2000\n",
      " - 0s - loss: 0.3016 - val_loss: 0.0876\n",
      "Epoch 141/2000\n",
      " - 0s - loss: 0.3132 - val_loss: 0.0875\n",
      "Epoch 142/2000\n",
      " - 0s - loss: 0.2918 - val_loss: 0.0883\n",
      "Epoch 143/2000\n",
      " - 0s - loss: 0.3102 - val_loss: 0.0887\n",
      "Epoch 144/2000\n",
      " - 0s - loss: 0.2966 - val_loss: 0.0884\n",
      "Epoch 145/2000\n",
      " - 0s - loss: 0.3074 - val_loss: 0.0887\n",
      "Epoch 146/2000\n",
      " - 0s - loss: 0.2900 - val_loss: 0.0887\n",
      "Epoch 147/2000\n",
      " - 0s - loss: 0.2974 - val_loss: 0.0894\n",
      "Epoch 148/2000\n",
      " - 0s - loss: 0.2916 - val_loss: 0.0908\n",
      "Epoch 149/2000\n",
      " - 0s - loss: 0.3085 - val_loss: 0.0913\n",
      "Epoch 150/2000\n",
      " - 0s - loss: 0.3004 - val_loss: 0.0902\n",
      "Epoch 151/2000\n"
     ]
    },
    {
     "name": "stdout",
     "output_type": "stream",
     "text": [
      " - 0s - loss: 0.2906 - val_loss: 0.0903\n",
      "Epoch 152/2000\n",
      " - 0s - loss: 0.2976 - val_loss: 0.0904\n",
      "Epoch 153/2000\n",
      " - 0s - loss: 0.2983 - val_loss: 0.0903\n",
      "Epoch 154/2000\n",
      " - 0s - loss: 0.3073 - val_loss: 0.0888\n",
      "Epoch 155/2000\n",
      " - 0s - loss: 0.2877 - val_loss: 0.0901\n",
      "Epoch 156/2000\n",
      " - 0s - loss: 0.2974 - val_loss: 0.0900\n",
      "Epoch 157/2000\n",
      " - 0s - loss: 0.2863 - val_loss: 0.0907\n",
      "Epoch 158/2000\n",
      " - 0s - loss: 0.2965 - val_loss: 0.0900\n",
      "Epoch 159/2000\n",
      " - 0s - loss: 0.2959 - val_loss: 0.0899\n",
      "Epoch 160/2000\n",
      " - 0s - loss: 0.2951 - val_loss: 0.0910\n",
      "Epoch 161/2000\n",
      " - 0s - loss: 0.2966 - val_loss: 0.0906\n",
      "Epoch 162/2000\n",
      " - 0s - loss: 0.3004 - val_loss: 0.0902\n",
      "Epoch 163/2000\n",
      " - 0s - loss: 0.2995 - val_loss: 0.0908\n",
      "Epoch 164/2000\n",
      " - 0s - loss: 0.2865 - val_loss: 0.0914\n",
      "Epoch 165/2000\n",
      " - 0s - loss: 0.3010 - val_loss: 0.0919\n",
      "Epoch 166/2000\n",
      " - 0s - loss: 0.2920 - val_loss: 0.0899\n",
      "Epoch 167/2000\n",
      " - 0s - loss: 0.2925 - val_loss: 0.0894\n",
      "Epoch 168/2000\n",
      " - 0s - loss: 0.2971 - val_loss: 0.0891\n",
      "Epoch 169/2000\n",
      " - 0s - loss: 0.2985 - val_loss: 0.0912\n",
      "Epoch 170/2000\n",
      " - 0s - loss: 0.2907 - val_loss: 0.0914\n",
      "Epoch 171/2000\n",
      " - 0s - loss: 0.2755 - val_loss: 0.0915\n",
      "Epoch 172/2000\n",
      " - 0s - loss: 0.2907 - val_loss: 0.0927\n",
      "Epoch 173/2000\n",
      " - 0s - loss: 0.2892 - val_loss: 0.0922\n",
      "Epoch 174/2000\n",
      " - 0s - loss: 0.2845 - val_loss: 0.0931\n",
      "Epoch 175/2000\n",
      " - 0s - loss: 0.2943 - val_loss: 0.0908\n",
      "Epoch 176/2000\n",
      " - 0s - loss: 0.2892 - val_loss: 0.0913\n",
      "Epoch 177/2000\n",
      " - 0s - loss: 0.2943 - val_loss: 0.0908\n"
     ]
    },
    {
     "data": {
      "text/plain": [
       "<keras.callbacks.History at 0x7facfe1097b8>"
      ]
     },
     "execution_count": 82,
     "metadata": {},
     "output_type": "execute_result"
    }
   ],
   "source": [
    "# 3. Train\n",
    "model_reg.fit([s_post.validation.Xvec, s_post.validation.Xscalar], s_post.validation.y,\n",
    "          epochs=2000,\n",
    "          callbacks=callbacks,\n",
    "          verbose=2,\n",
    "          batch_size=32, \n",
    "          validation_data=([s_post.test.Xvec, s_post.test.Xscalar], s_post.test.y)\n",
    "         )"
   ]
  },
  {
   "cell_type": "markdown",
   "metadata": {},
   "source": [
    "## Testing"
   ]
  },
  {
   "cell_type": "markdown",
   "metadata": {},
   "source": [
    "### Validation Error"
   ]
  },
  {
   "cell_type": "code",
   "execution_count": 83,
   "metadata": {
    "ExecuteTime": {
     "end_time": "2019-02-28T05:10:24.981825Z",
     "start_time": "2019-02-28T05:10:24.798073Z"
    }
   },
   "outputs": [],
   "source": [
    "s_post.validation.y_hat = model_reg.predict([s_post.validation.Xvec, s_post.validation.Xscalar])\n",
    "labels = s.scaler.y.inverse_transform(s_post.validation.y)\n",
    "outputs = s.scaler.y.inverse_transform(s_post.validation.y_hat)"
   ]
  },
  {
   "cell_type": "code",
   "execution_count": 84,
   "metadata": {
    "ExecuteTime": {
     "end_time": "2019-02-28T05:10:25.730156Z",
     "start_time": "2019-02-28T05:10:25.402335Z"
    }
   },
   "outputs": [
    {
     "data": {
      "image/png": "[encoded data removed]",
      "text/plain": [
       "<Figure size 432x288 with 1 Axes>"
      ]
     },
     "metadata": {
      "needs_background": "light"
     },
     "output_type": "display_data"
    }
   ],
   "source": [
    "sns.scatterplot(np.squeeze(labels), np.squeeze(outputs), size=3)\n",
    "plt.xlabel('True precipitation')\n",
    "plt.ylabel('Predicted precipitation')\n",
    "plt.show()"
   ]
  },
  {
   "cell_type": "markdown",
   "metadata": {},
   "source": [
    "### Test Error"
   ]
  },
  {
   "cell_type": "code",
   "execution_count": 85,
   "metadata": {
    "ExecuteTime": {
     "end_time": "2019-02-28T05:10:25.992697Z",
     "start_time": "2019-02-28T05:10:25.919814Z"
    }
   },
   "outputs": [],
   "source": [
    "s_post.test.y_hat = model_reg.predict([s_post.test.Xvec, s_post.test.Xscalar])\n",
    "labels = s.scaler.y.inverse_transform(s_post.test.y)\n",
    "outputs = s.scaler.y.inverse_transform(s_post.test.y_hat)"
   ]
  },
  {
   "cell_type": "code",
   "execution_count": 86,
   "metadata": {
    "ExecuteTime": {
     "end_time": "2019-02-28T05:10:26.462260Z",
     "start_time": "2019-02-28T05:10:26.157058Z"
    }
   },
   "outputs": [
    {
     "data": {
      "image/png": "[encoded data removed]",
      "text/plain": [
       "<Figure size 432x288 with 1 Axes>"
      ]
     },
     "metadata": {
      "needs_background": "light"
     },
     "output_type": "display_data"
    }
   ],
   "source": [
    "sns.scatterplot(np.squeeze(labels), np.squeeze(outputs), size=3)\n",
    "plt.xlabel('True precipitation')\n",
    "plt.ylabel('Predicted precipitation')\n",
    "plt.show()"
   ]
  },
  {
   "cell_type": "code",
   "execution_count": null,
   "metadata": {},
   "outputs": [],
   "source": []
  },
  {
   "cell_type": "code",
   "execution_count": null,
   "metadata": {},
   "outputs": [],
   "source": []
  }
 ],
 "metadata": {
  "hide_input": false,
  "kernelspec": {
   "display_name": "Python 3",
   "language": "python",
   "name": "python3"
  },
  "language_info": {
   "codemirror_mode": {
    "name": "ipython",
    "version": 3
   },
   "file_extension": ".py",
   "mimetype": "text/x-python",
   "name": "python",
   "nbconvert_exporter": "python",
   "pygments_lexer": "ipython3",
   "version": "3.6.8"
  },
  "toc": {
   "base_numbering": 1,
   "nav_menu": {},
   "number_sections": true,
   "sideBar": true,
   "skip_h1_title": false,
   "title_cell": "Table of Contents",
   "title_sidebar": "Contents",
   "toc_cell": false,
   "toc_position": {
    "height": "calc(100% - 180px)",
    "left": "10px",
    "top": "150px",
    "width": "293px"
   },
   "toc_section_display": true,
   "toc_window_display": true
  },
  "varInspector": {
   "cols": {
    "lenName": 16,
    "lenType": 16,
    "lenVar": 40
   },
   "kernels_config": {
    "python": {
     "delete_cmd_postfix": "",
     "delete_cmd_prefix": "del ",
     "library": "var_list.py",
     "varRefreshCmd": "print(var_dic_list())"
    },
    "r": {
     "delete_cmd_postfix": ") ",
     "delete_cmd_prefix": "rm(",
     "library": "var_list.r",
     "varRefreshCmd": "cat(var_dic_list()) "
    }
   },
   "oldHeight": 177.85,
   "position": {
    "height": "40px",
    "left": "1077px",
    "right": "20px",
    "top": "120px",
    "width": "343px"
   },
   "types_to_exclude": [
    "module",
    "function",
    "builtin_function_or_method",
    "instance",
    "_Feature"
   ],
   "varInspector_section_display": "none",
   "window_display": true
  }
 },
 "nbformat": 4,
 "nbformat_minor": 2
}

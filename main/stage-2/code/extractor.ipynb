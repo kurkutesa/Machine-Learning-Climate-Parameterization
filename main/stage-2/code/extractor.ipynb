{
 "cells": [
  {
   "cell_type": "markdown",
   "metadata": {},
   "source": [
    "# Pre-extracting"
   ]
  },
  {
   "cell_type": "code",
   "execution_count": 37,
   "metadata": {
    "ExecuteTime": {
     "end_time": "2019-02-19T23:35:00.705116Z",
     "start_time": "2019-02-19T23:35:00.700056Z"
    }
   },
   "outputs": [
    {
     "name": "stdout",
     "output_type": "stream",
     "text": [
      "All packages imported.\n"
     ]
    }
   ],
   "source": [
    "import os\n",
    "import numpy as np\n",
    "import pandas as pd\n",
    "import matplotlib.pyplot as plt\n",
    "import seaborn as sns\n",
    "import ipywidgets as widgets\n",
    "import xarray as xr\n",
    "import datetime\n",
    "print('All packages imported.')"
   ]
  },
  {
   "cell_type": "markdown",
   "metadata": {},
   "source": [
    "## Site Selection"
   ]
  },
  {
   "cell_type": "code",
   "execution_count": 2,
   "metadata": {
    "ExecuteTime": {
     "end_time": "2019-02-19T19:12:00.225353Z",
     "start_time": "2019-02-19T19:12:00.209062Z"
    }
   },
   "outputs": [
    {
     "data": {
      "application/vnd.jupyter.widget-view+json": {
       "model_id": "8222dd1c2b2f4bdfbf32483a472fc1af",
       "version_major": 2,
       "version_minor": 0
      },
      "text/plain": [
       "Select(description='ARM Site:', index=2, layout=Layout(width='175px'), options=('hfe-M1', 'nsa-C1', 'sgp-C1', …"
      ]
     },
     "metadata": {},
     "output_type": "display_data"
    }
   ],
   "source": [
    "site = widgets.Select(\n",
    "    options=['hfe-M1', 'nsa-C1', 'sgp-C1', 'twp-C1', 'twp-C2', 'twp-C3'],\n",
    "    value='sgp-C1',\n",
    "    rows=6,\n",
    "    description='ARM Site:',\n",
    "    disabled=False\n",
    ")\n",
    "\n",
    "\n",
    "def on_change(change):\n",
    "    if change['type'] == 'change' and change['name'] == 'value':\n",
    "        print(f\"Switch site to {change['new']}\")\n",
    "\n",
    "\n",
    "site.layout.width = '175px'\n",
    "site.observe(on_change)\n",
    "display(site)"
   ]
  },
  {
   "cell_type": "code",
   "execution_count": 3,
   "metadata": {
    "ExecuteTime": {
     "end_time": "2019-02-19T19:13:17.697282Z",
     "start_time": "2019-02-19T19:13:17.680055Z"
    }
   },
   "outputs": [
    {
     "data": {
      "application/vnd.jupyter.widget-view+json": {
       "model_id": "e23d9298fbb7425a95885f1e81f92ff6",
       "version_major": 2,
       "version_minor": 0
      },
      "text/plain": [
       "Select(description='Product:', layout=Layout(width='175px'), options=('armbeatm',), rows=1, value='armbeatm')"
      ]
     },
     "metadata": {},
     "output_type": "display_data"
    }
   ],
   "source": [
    "product = widgets.Select(\n",
    "    options=['armbeatm'],\n",
    "    value='armbeatm',\n",
    "    rows=1,\n",
    "    description='Product:',\n",
    "    disabled=False\n",
    ")\n",
    "\n",
    "def on_change(change):\n",
    "    if change['type'] == 'change' and change['name'] == 'value':\n",
    "        print(f\"Switch site to {change['new']}\")\n",
    "              \n",
    "product.layout.width = '175px'\n",
    "product.observe(on_change)\n",
    "display(product)"
   ]
  },
  {
   "cell_type": "markdown",
   "metadata": {},
   "source": [
    "## Data Import"
   ]
  },
  {
   "cell_type": "code",
   "execution_count": 14,
   "metadata": {
    "ExecuteTime": {
     "end_time": "2019-02-19T19:21:31.186137Z",
     "start_time": "2019-02-19T19:21:31.179634Z"
    }
   },
   "outputs": [],
   "source": [
    "def site2stream(site, product):\n",
    "    region, index = site.split('-')\n",
    "    stream = region+product+index\n",
    "    print(f'Ready for data stream: {stream}')\n",
    "    return stream\n",
    "\n",
    "def get_ARM_files_path(site, stream, ext='nc'):\n",
    "    CURRENT_DIR = os.getcwd()\n",
    "    DATA_DIR = f'{CURRENT_DIR}/../../data/ARM/{site}/{stream}'\n",
    "    FILE_PATH = f'{DATA_DIR}/{stream}.*.{ext}'\n",
    "    return FILE_PATH\n",
    "\n",
    "def get_DS(mf):\n",
    "    return xr.open_mfdataset(mf)"
   ]
  },
  {
   "cell_type": "code",
   "execution_count": 13,
   "metadata": {
    "ExecuteTime": {
     "end_time": "2019-02-19T19:21:31.130966Z",
     "start_time": "2019-02-19T19:20:48.696560Z"
    }
   },
   "outputs": [
    {
     "name": "stdout",
     "output_type": "stream",
     "text": [
      "Ready for data stream: sgparmbeatmC1\n"
     ]
    },
    {
     "data": {
      "text/plain": [
       "<xarray.Dataset>\n",
       "Dimensions:        (p: 37, range: 2, time: 166560, z: 512)\n",
       "Coordinates:\n",
       "  * time           (time) datetime64[ns] 1994-01-01T00:30:00 ... 2012-12-31T23:30:00\n",
       "  * p              (p) float32 1000.0 975.0 950.0 925.0 ... 150.0 125.0 100.0\n",
       "  * z              (z) float32 15.0 60.0 105.0 150.0 ... 22920.0 22965.0 23010.0\n",
       "    z10            float32 10.0\n",
       "    z2             float32 2.0\n",
       "Dimensions without coordinates: range\n",
       "Data variables:\n",
       "    base_time      (time) datetime64[ns] 1994-01-01 1994-01-01 ... 2012-01-01\n",
       "    time_offset    (time) datetime64[ns] dask.array<shape=(166560,), chunksize=(8760,)>\n",
       "    time_bounds    (time, range) datetime64[ns] dask.array<shape=(166560, 2), chunksize=(8760, 2)>\n",
       "    time_frac      (time) datetime64[ns] dask.array<shape=(166560,), chunksize=(8760,)>\n",
       "    p_bounds       (time, p, range) float64 dask.array<shape=(166560, 37, 2), chunksize=(8760, 37, 2)>\n",
       "    z_bounds       (time, z, range) float64 dask.array<shape=(166560, 512, 2), chunksize=(8760, 512, 2)>\n",
       "    u_sfc          (time) float32 dask.array<shape=(166560,), chunksize=(8760,)>\n",
       "    v_sfc          (time) float32 dask.array<shape=(166560,), chunksize=(8760,)>\n",
       "    T_sfc          (time) float32 dask.array<shape=(166560,), chunksize=(8760,)>\n",
       "    rh_sfc         (time) float32 dask.array<shape=(166560,), chunksize=(8760,)>\n",
       "    p_sfc          (time) float32 dask.array<shape=(166560,), chunksize=(8760,)>\n",
       "    prec_sfc       (time) float32 dask.array<shape=(166560,), chunksize=(8760,)>\n",
       "    SH_baebbr      (time) float32 dask.array<shape=(166560,), chunksize=(8760,)>\n",
       "    LH_baebbr      (time) float32 dask.array<shape=(166560,), chunksize=(8760,)>\n",
       "    SH_qcecor      (time) float32 dask.array<shape=(166560,), chunksize=(8760,)>\n",
       "    LH_qcecor      (time) float32 dask.array<shape=(166560,), chunksize=(8760,)>\n",
       "    T_p            (time, p) float32 dask.array<shape=(166560, 37), chunksize=(8760, 37)>\n",
       "    T_z            (time, z) float32 dask.array<shape=(166560, 512), chunksize=(8760, 512)>\n",
       "    Td_p           (time, p) float32 dask.array<shape=(166560, 37), chunksize=(8760, 37)>\n",
       "    Td_z           (time, z) float32 dask.array<shape=(166560, 512), chunksize=(8760, 512)>\n",
       "    u_p            (time, p) float32 dask.array<shape=(166560, 37), chunksize=(8760, 37)>\n",
       "    u_z            (time, z) float32 dask.array<shape=(166560, 512), chunksize=(8760, 512)>\n",
       "    v_p            (time, p) float32 dask.array<shape=(166560, 37), chunksize=(8760, 37)>\n",
       "    v_z            (time, z) float32 dask.array<shape=(166560, 512), chunksize=(8760, 512)>\n",
       "    rh_p           (time, p) float32 dask.array<shape=(166560, 37), chunksize=(8760, 37)>\n",
       "    rh_z           (time, z) float32 dask.array<shape=(166560, 512), chunksize=(8760, 512)>\n",
       "    u_nwp_p        (time, p) float32 dask.array<shape=(166560, 37), chunksize=(8760, 37)>\n",
       "    v_nwp_p        (time, p) float32 dask.array<shape=(166560, 37), chunksize=(8760, 37)>\n",
       "    omega_nwp_p    (time, p) float32 dask.array<shape=(166560, 37), chunksize=(8760, 37)>\n",
       "    T_nwp_p        (time, p) float32 dask.array<shape=(166560, 37), chunksize=(8760, 37)>\n",
       "    rh_nwp_p       (time, p) float32 dask.array<shape=(166560, 37), chunksize=(8760, 37)>\n",
       "    lat            (time) float64 36.6 36.6 36.6 36.6 ... 36.6 36.6 36.6 36.6\n",
       "    lon            (time) float64 -97.5 -97.5 -97.5 -97.5 ... -97.5 -97.5 -97.5\n",
       "    alt            (time) float64 318.0 318.0 318.0 318.0 ... 318.0 318.0 318.0\n",
       "    qc_precip_sfc  (time) float32 dask.array<shape=(166560,), chunksize=(70128,)>\n",
       "Attributes:\n",
       "    Conventions:               CF-1.6\n",
       "    title:                     ARM Best Estimate (ARMBE) Product, atmospheric...\n",
       "    description:               ARM Best Estimate hourly averaged qc controlle...\n",
       "    project:                   Atmospheric Radiation Measurements (ARM) Progr...\n",
       "    location:                  SGP, C1; lon = -97.5 E, lat = 36.6 N, alt = 31...\n",
       "    averaging_interval:        60 min. reported at the center of the interval\n",
       "    references:                http://science.arm.gov/wg/cpm/scm/best_estimat...\n",
       "    institution:               Lawrence Livermore National Laboratory, CA, USA\n",
       "    software:                  IDL program, R.B.McCoy, LLNL, renata@llnl.gov\n",
       "    source:                    ARM VAPs: MET, sounding\n",
       "    source_met:                sgp30smosE13.a1.94*.cdf\n",
       "    source_baebbr:             sgp30baebbrE13.s1.1994*.cdf\n",
       "    dates_missing_baebbr:       \n",
       "    history_baebbr_last_file:  created by user dsmgr on machine reproc1 at 13...\n",
       "    source_qcecor:             sgp*beecorE14.?1.1994*.nc\n",
       "    dates_missing_qcecor:        19940101-19941231\n",
       "    date_qcecor_last_file:     created by user dsmgr on machine reproc1 at 13...\n",
       "    source_sonde:              sgpsondewrpnC1.a1.94*.cdf\n",
       "    site_id:                   sgp\n",
       "    facility_id:               C1\n",
       "    platform_id:               armbeatm\n",
       "    datastream:                sgparmbeatmC1.c1\n",
       "    location_description:      Southern Great Plains (SGP), Lamont, Oklahoma\n",
       "    data_level:                c1\n",
       "    dod_version:               armbeatm-c1-1.4\n",
       "    process_version:           armbeatm v1.4\n",
       "    command_line:              armbeatm_correct_soundings_v1.4\n",
       "    input_datastreams:         sgparmbeatmC1.c1:1.3:20120101\n",
       "    postprocessing_date:       Mon Feb  3 23:14:36 2014 UTC\n",
       "    postprocessing_commnd:     armbeatm_correct_soundings_v1.4\n",
       "    postprocessing_svn_tag:    9650\n",
       "    doi:                       10.5439/1111533\n",
       "    doi_url:                   http://dx.doi.org/10.5439/1111533\n",
       "    suggested_citation:        see http://www.arm.gov/data/armbe\n",
       "    history:                   created by user mccoy20 on machine dream.llnl...."
      ]
     },
     "execution_count": 13,
     "metadata": {},
     "output_type": "execute_result"
    }
   ],
   "source": [
    "stream = site2stream(site.value, product.value)\n",
    "FILE_PATH = get_ARM_files_path(site=site.value, stream=stream, ext='cdf')\n",
    "DS = get_DS(FILE_PATH)\n",
    "DS"
   ]
  },
  {
   "cell_type": "code",
   "execution_count": 78,
   "metadata": {
    "ExecuteTime": {
     "end_time": "2019-02-19T23:59:16.395017Z",
     "start_time": "2019-02-19T23:59:15.210099Z"
    }
   },
   "outputs": [
    {
     "name": "stdout",
     "output_type": "stream",
     "text": [
      "Ready for data stream: sgparmbeatmC1\n",
      "<xarray.Dataset>\n",
      "Dimensions:                    (bound: 2, height: 512, pressure: 37, time: 35064)\n",
      "Coordinates:\n",
      "  * pressure                   (pressure) float32 1000.0 975.0 ... 125.0 100.0\n",
      "  * height                     (height) float32 15.0 60.0 ... 22965.0 23010.0\n",
      "  * time                       (time) datetime64[ns] 2013-01-01T00:30:00 ... 2016-12-31T23:30:00\n",
      "Dimensions without coordinates: bound\n",
      "Data variables:\n",
      "    base_time                  (time) int32 1356998400 1356998400 ... 1451606400\n",
      "    time_offset                (time) float64 dask.array<shape=(35064,), chunksize=(8760,)>\n",
      "    time_bounds                (time, bound) float64 dask.array<shape=(35064, 2), chunksize=(8760, 2)>\n",
      "    time_frac                  (time) float32 dask.array<shape=(35064,), chunksize=(8760,)>\n",
      "    pressure_bounds            (time, pressure, bound) float32 dask.array<shape=(35064, 37, 2), chunksize=(8760, 37, 2)>\n",
      "    height_bounds              (time, height, bound) float32 dask.array<shape=(35064, 512, 2), chunksize=(8760, 512, 2)>\n",
      "    height_10m                 (time) float32 10.0 10.0 10.0 ... 10.0 10.0 10.0\n",
      "    height_2m                  (time) float32 2.0 2.0 2.0 2.0 ... 2.0 2.0 2.0\n",
      "    u_sfc                      (time) float32 dask.array<shape=(35064,), chunksize=(8760,)>\n",
      "    v_sfc                      (time) float32 dask.array<shape=(35064,), chunksize=(8760,)>\n",
      "    rh_sfc                     (time) float32 dask.array<shape=(35064,), chunksize=(8760,)>\n",
      "    p_sfc                      (time) float32 dask.array<shape=(35064,), chunksize=(8760,)>\n",
      "    prec_sfc                   (time) float32 dask.array<shape=(35064,), chunksize=(8760,)>\n",
      "    sensible_heat_flux_baebbr  (time) float32 dask.array<shape=(35064,), chunksize=(8760,)>\n",
      "    latent_heat_flux_baebbr    (time) float32 dask.array<shape=(35064,), chunksize=(8760,)>\n",
      "    T_sfc                      (time) float32 dask.array<shape=(35064,), chunksize=(8760,)>\n",
      "    sensible_heat_flux_qcecor  (time) float32 dask.array<shape=(35064,), chunksize=(8760,)>\n",
      "    latent_heat_flux_qcecor    (time) float32 dask.array<shape=(35064,), chunksize=(8760,)>\n",
      "    T_p                        (time, pressure) float32 dask.array<shape=(35064, 37), chunksize=(8760, 37)>\n",
      "    temperature_h              (time, height) float32 dask.array<shape=(35064, 512), chunksize=(8760, 512)>\n",
      "    dewpoint_p                 (time, pressure) float32 dask.array<shape=(35064, 37), chunksize=(8760, 37)>\n",
      "    dewpoint_h                 (time, height) float32 dask.array<shape=(35064, 512), chunksize=(8760, 512)>\n",
      "    u_p                        (time, pressure) float32 dask.array<shape=(35064, 37), chunksize=(8760, 37)>\n",
      "    u_wind_h                   (time, height) float32 dask.array<shape=(35064, 512), chunksize=(8760, 512)>\n",
      "    v_p                        (time, pressure) float32 dask.array<shape=(35064, 37), chunksize=(8760, 37)>\n",
      "    v_wind_h                   (time, height) float32 dask.array<shape=(35064, 512), chunksize=(8760, 512)>\n",
      "    rh_p                       (time, pressure) float32 dask.array<shape=(35064, 37), chunksize=(8760, 37)>\n",
      "    relative_humidity_h        (time, height) float32 dask.array<shape=(35064, 512), chunksize=(8760, 512)>\n",
      "    u_wind_nwp_p               (time, pressure) float32 dask.array<shape=(35064, 37), chunksize=(8760, 37)>\n",
      "    v_wind_nwp_p               (time, pressure) float32 dask.array<shape=(35064, 37), chunksize=(8760, 37)>\n",
      "    omega_nwp_p                (time, pressure) float32 dask.array<shape=(35064, 37), chunksize=(8760, 37)>\n",
      "    temperature_nwp_p          (time, pressure) float32 dask.array<shape=(35064, 37), chunksize=(8760, 37)>\n",
      "    relative_humidity_nwp_p    (time, pressure) float32 dask.array<shape=(35064, 37), chunksize=(8760, 37)>\n",
      "    lat                        (time) float64 36.6 36.6 36.6 ... 36.6 36.6 36.6\n",
      "    lon                        (time) float64 -97.49 -97.49 ... -97.49 -97.49\n",
      "    alt                        (time) float64 318.0 318.0 318.0 ... 318.0 318.0\n",
      "Attributes:\n",
      "    Conventions:           ARM-1.2\n",
      "    command_line:          idl -R -n adi_armbeatm -s sgp -f C1 -b 20130101 -e...\n",
      "    title:                 ARM Best Estimate (ARMBE) Product, atmospheric pro...\n",
      "    description:           ARM Best Estimate hourly averaged qc controlled pr...\n",
      "    location_description:  Southern Great Plains (SGP), Lamont, Oklahoma\n",
      "    platform_id:           armbeatm\n",
      "    averaging_interval:    60 min\n",
      "    references:            http://dx.doi.org/10.5439/1333748\n",
      "    datastream:            sgparmbeatmC1.c1\n",
      "    site_id:               sgp\n",
      "    facility_id:           C1\n",
      "    data_level:            c1\n",
      "    dod_version:           armbeatm-c1-1.7\n",
      "    process_version:       $\n",
      "    input_datastreams:     sgp30baebbrE13.s1 : 0.6 : 20130101.000000-20130829...\n",
      "    doi:                   10.5439/1333748\n",
      "    history:               created by user chen73 on machine lead at 2017-06-...\n"
     ]
    }
   ],
   "source": [
    "try:\n",
    "    stream = site2stream(site.value, product.value)\n",
    "    FILE_PATH = get_ARM_files_path(site=site.value, stream=stream, ext='nc')\n",
    "    DS2 = xr.open_mfdataset(FILE_PATH, decode_times=False, concat_dim='time')\n",
    "    DS2['time'] = [np.datetime64(dt_) for dt_ in [datetime.datetime.utcfromtimestamp(\n",
    "        int_) for int_ in (DS2.base_time + DS2.time_offset).values]]\n",
    "    old_name, new_name = [['precip_rate_sfc', 'temperature_sfc',\n",
    "                          'relative_humidity_sfc', 'u_wind_sfc', 'v_wind_sfc', 'pressure_sfc', 'temperature_p', 'relative_humidity_p', 'u_wind_p', 'v_wind_p'],\n",
    "    ['prec_sfc', 'T_sfc', 'rh_sfc', 'u_sfc',\n",
    "     'v_sfc', 'p_sfc', 'T_p', 'rh_p', 'u_p', 'v_p']]\n",
    "    name_dict = dict(zip(old_name, new_name))\n",
    "    DS2 = DS2.rename(name_dict)\n",
    "    print(DS2)\n",
    "except:\n",
    "    print('Nothing to do.')"
   ]
  },
  {
   "cell_type": "code",
   "execution_count": 79,
   "metadata": {
    "ExecuteTime": {
     "end_time": "2019-02-19T23:59:42.848689Z",
     "start_time": "2019-02-19T23:59:39.828448Z"
    }
   },
   "outputs": [
    {
     "name": "stdout",
     "output_type": "stream",
     "text": [
      "QC is empty.\n"
     ]
    }
   ],
   "source": [
    "# Ensure that qc is null\n",
    "try:\n",
    "    if DS['qc_precip_sfc'].dropna(dim='time').values.size == 0:\n",
    "        print('QC is empty.')\n",
    "    else:\n",
    "        print('QC IS NOT EMPTY!!!')\n",
    "except:\n",
    "    print('There is no QC.')"
   ]
  },
  {
   "cell_type": "markdown",
   "metadata": {},
   "source": [
    "# Data Handling"
   ]
  },
  {
   "cell_type": "markdown",
   "metadata": {},
   "source": [
    "## Variable Extraction"
   ]
  },
  {
   "cell_type": "code",
   "execution_count": 80,
   "metadata": {
    "ExecuteTime": {
     "end_time": "2019-02-20T00:00:10.586727Z",
     "start_time": "2019-02-20T00:00:10.371248Z"
    }
   },
   "outputs": [],
   "source": [
    "from utils import DS_count_valid, DS_extract"
   ]
  },
  {
   "cell_type": "code",
   "execution_count": 81,
   "metadata": {
    "ExecuteTime": {
     "end_time": "2019-02-20T00:00:11.095374Z",
     "start_time": "2019-02-20T00:00:11.091455Z"
    }
   },
   "outputs": [],
   "source": [
    "# hand-pick var_interest\n",
    "var_interest = ['prec_sfc', 'T_sfc', 'rh_sfc', 'u_sfc', 'v_sfc', 'p_sfc', 'T_p', 'rh_p', 'u_p', 'v_p']"
   ]
  },
  {
   "cell_type": "code",
   "execution_count": 87,
   "metadata": {
    "ExecuteTime": {
     "end_time": "2019-02-20T00:01:47.226690Z",
     "start_time": "2019-02-20T00:01:47.210101Z"
    }
   },
   "outputs": [
    {
     "data": {
      "text/plain": [
       "<xarray.Dataset>\n",
       "Dimensions:   (pressure: 37, time: 35064)\n",
       "Coordinates:\n",
       "  * pressure  (pressure) float32 1000.0 975.0 950.0 925.0 ... 150.0 125.0 100.0\n",
       "  * time      (time) datetime64[ns] 2013-01-01T00:30:00 ... 2016-12-31T23:30:00\n",
       "Data variables:\n",
       "    prec_sfc  (time) float32 dask.array<shape=(35064,), chunksize=(8760,)>\n",
       "    T_sfc     (time) float32 dask.array<shape=(35064,), chunksize=(8760,)>\n",
       "    rh_sfc    (time) float32 dask.array<shape=(35064,), chunksize=(8760,)>\n",
       "    u_sfc     (time) float32 dask.array<shape=(35064,), chunksize=(8760,)>\n",
       "    v_sfc     (time) float32 dask.array<shape=(35064,), chunksize=(8760,)>\n",
       "    p_sfc     (time) float32 dask.array<shape=(35064,), chunksize=(8760,)>\n",
       "    T_p       (time, pressure) float32 dask.array<shape=(35064, 37), chunksize=(8760, 37)>\n",
       "    rh_p      (time, pressure) float32 dask.array<shape=(35064, 37), chunksize=(8760, 37)>\n",
       "    u_p       (time, pressure) float32 dask.array<shape=(35064, 37), chunksize=(8760, 37)>\n",
       "    v_p       (time, pressure) float32 dask.array<shape=(35064, 37), chunksize=(8760, 37)>\n",
       "Attributes:\n",
       "    Conventions:           ARM-1.2\n",
       "    command_line:          idl -R -n adi_armbeatm -s sgp -f C1 -b 20130101 -e...\n",
       "    title:                 ARM Best Estimate (ARMBE) Product, atmospheric pro...\n",
       "    description:           ARM Best Estimate hourly averaged qc controlled pr...\n",
       "    location_description:  Southern Great Plains (SGP), Lamont, Oklahoma\n",
       "    platform_id:           armbeatm\n",
       "    averaging_interval:    60 min\n",
       "    references:            http://dx.doi.org/10.5439/1333748\n",
       "    datastream:            sgparmbeatmC1.c1\n",
       "    site_id:               sgp\n",
       "    facility_id:           C1\n",
       "    data_level:            c1\n",
       "    dod_version:           armbeatm-c1-1.7\n",
       "    process_version:       $\n",
       "    input_datastreams:     sgp30baebbrE13.s1 : 0.6 : 20130101.000000-20130829...\n",
       "    doi:                   10.5439/1333748\n",
       "    history:               created by user chen73 on machine lead at 2017-06-..."
      ]
     },
     "execution_count": 87,
     "metadata": {},
     "output_type": "execute_result"
    }
   ],
   "source": [
    "DS_interest = DS_extract(DS, \n",
    "                         extract_list=var_interest,\n",
    "                         drop_list=['z2','z10'])\n",
    "DS_interest"
   ]
  },
  {
   "cell_type": "markdown",
   "metadata": {},
   "source": [
    "## Predictand Shift"
   ]
  },
  {
   "cell_type": "code",
   "execution_count": 83,
   "metadata": {
    "ExecuteTime": {
     "end_time": "2019-02-20T00:00:17.621193Z",
     "start_time": "2019-02-20T00:00:17.617563Z"
    }
   },
   "outputs": [],
   "source": [
    "from utils import DS_shift_and_append"
   ]
  },
  {
   "cell_type": "code",
   "execution_count": 88,
   "metadata": {
    "ExecuteTime": {
     "end_time": "2019-02-20T00:02:30.308620Z",
     "start_time": "2019-02-20T00:02:30.285776Z"
    }
   },
   "outputs": [
    {
     "data": {
      "text/plain": [
       "<xarray.Dataset>\n",
       "Dimensions:        (pressure: 37, time: 35064)\n",
       "Coordinates:\n",
       "  * time           (time) datetime64[ns] 2013-01-01T00:30:00 ... 2016-12-31T23:30:00\n",
       "  * pressure       (pressure) float32 1000.0 975.0 950.0 ... 150.0 125.0 100.0\n",
       "Data variables:\n",
       "    prec_sfc_next  (time) float32 dask.array<shape=(35064,), chunksize=(8760,)>\n",
       "    prec_sfc       (time) float32 dask.array<shape=(35064,), chunksize=(8760,)>\n",
       "    T_sfc          (time) float32 dask.array<shape=(35064,), chunksize=(8760,)>\n",
       "    rh_sfc         (time) float32 dask.array<shape=(35064,), chunksize=(8760,)>\n",
       "    u_sfc          (time) float32 dask.array<shape=(35064,), chunksize=(8760,)>\n",
       "    v_sfc          (time) float32 dask.array<shape=(35064,), chunksize=(8760,)>\n",
       "    p_sfc          (time) float32 dask.array<shape=(35064,), chunksize=(8760,)>\n",
       "    T_p            (time, pressure) float32 dask.array<shape=(35064, 37), chunksize=(8760, 37)>\n",
       "    rh_p           (time, pressure) float32 dask.array<shape=(35064, 37), chunksize=(8760, 37)>\n",
       "    u_p            (time, pressure) float32 dask.array<shape=(35064, 37), chunksize=(8760, 37)>\n",
       "    v_p            (time, pressure) float32 dask.array<shape=(35064, 37), chunksize=(8760, 37)>"
      ]
     },
     "execution_count": 88,
     "metadata": {},
     "output_type": "execute_result"
    }
   ],
   "source": [
    "DS_shift = DS_shift_and_append(DS_interest,\n",
    "                               var_name='prec_sfc',\n",
    "                               new_var_name='prec_sfc_next',\n",
    "                               shift_hour=1)\n",
    "DS_shift"
   ]
  },
  {
   "cell_type": "code",
   "execution_count": 90,
   "metadata": {
    "ExecuteTime": {
     "end_time": "2019-02-20T00:02:43.668122Z",
     "start_time": "2019-02-20T00:02:43.408129Z"
    }
   },
   "outputs": [
    {
     "name": "stdout",
     "output_type": "stream",
     "text": [
      "Precipitation shift is correctly done.\n"
     ]
    }
   ],
   "source": [
    "if np.nanargmax(DS_shift['prec_sfc'].values) - np.nanargmax(DS_shift['prec_sfc_next'].values) == 1:\n",
    "    print('Precipitation shift is correctly done.')\n",
    "else:\n",
    "    print('Something wrong with the shift.')"
   ]
  },
  {
   "cell_type": "markdown",
   "metadata": {},
   "source": [
    "## NaN Dropping"
   ]
  },
  {
   "cell_type": "code",
   "execution_count": 94,
   "metadata": {
    "ExecuteTime": {
     "end_time": "2019-02-20T00:04:57.944287Z",
     "start_time": "2019-02-20T00:04:56.226111Z"
    }
   },
   "outputs": [
    {
     "data": {
      "text/plain": [
       "<xarray.Dataset>\n",
       "Dimensions:        (p: 37, time: 517)\n",
       "Coordinates:\n",
       "  * time           (time) datetime64[ns] 2013-01-01T17:30:00 ... 2016-12-30T11:30:00\n",
       "  * p              (p) float32 1000.0 975.0 950.0 925.0 ... 150.0 125.0 100.0\n",
       "Data variables:\n",
       "    prec_sfc_next  (time) float32 dask.array<shape=(517,), chunksize=(91,)>\n",
       "    prec_sfc       (time) float32 dask.array<shape=(517,), chunksize=(91,)>\n",
       "    T_sfc          (time) float32 dask.array<shape=(517,), chunksize=(91,)>\n",
       "    rh_sfc         (time) float32 dask.array<shape=(517,), chunksize=(91,)>\n",
       "    u_sfc          (time) float32 dask.array<shape=(517,), chunksize=(91,)>\n",
       "    v_sfc          (time) float32 dask.array<shape=(517,), chunksize=(91,)>\n",
       "    p_sfc          (time) float32 dask.array<shape=(517,), chunksize=(91,)>\n",
       "    T_p            (time, p) float32 dask.array<shape=(517, 37), chunksize=(91, 37)>\n",
       "    rh_p           (time, p) float32 dask.array<shape=(517, 37), chunksize=(91, 37)>\n",
       "    u_p            (time, p) float32 dask.array<shape=(517, 37), chunksize=(91, 37)>\n",
       "    v_p            (time, p) float32 dask.array<shape=(517, 37), chunksize=(91, 37)>"
      ]
     },
     "execution_count": 94,
     "metadata": {},
     "output_type": "execute_result"
    }
   ],
   "source": [
    "DS_shift = DS_shift.dropna(dim='time')\n",
    "DS_shift"
   ]
  },
  {
   "cell_type": "markdown",
   "metadata": {},
   "source": [
    "# Post-extracting"
   ]
  },
  {
   "cell_type": "markdown",
   "metadata": {},
   "source": [
    "## NetCDF Saving"
   ]
  },
  {
   "cell_type": "code",
   "execution_count": 97,
   "metadata": {
    "ExecuteTime": {
     "end_time": "2019-02-20T00:06:38.498472Z",
     "start_time": "2019-02-20T00:06:38.491235Z"
    }
   },
   "outputs": [],
   "source": [
    "def save_netcdf(DS, FILE_PATH):\n",
    "    DS.to_netcdf(FILE_PATH)\n",
    "    \n",
    "    print_path = FILE_PATH.split('../')\n",
    "    print(f'Saved to {print_path[-1]}')\n",
    "    return None\n",
    "\n",
    "\n",
    "def get_save_file_path(file_name, stage=2):\n",
    "    CURRENT_DIR = os.getcwd()\n",
    "    DATA_DIR = f'{CURRENT_DIR}/../../data/stage-{stage}_cleaned'\n",
    "    FILE_PATH = f'{DATA_DIR}/{file_name}'\n",
    "    return FILE_PATH"
   ]
  },
  {
   "cell_type": "code",
   "execution_count": 98,
   "metadata": {
    "ExecuteTime": {
     "end_time": "2019-02-20T00:06:56.498364Z",
     "start_time": "2019-02-20T00:06:41.261575Z"
    }
   },
   "outputs": [
    {
     "name": "stdout",
     "output_type": "stream",
     "text": [
      "Saved to data/stage-2_cleaned/sgparmbeatmC1_standard_dropped.cdf\n"
     ]
    }
   ],
   "source": [
    "file_name = f'{stream}_standard_dropped.cdf'\n",
    "FILE_PATH = get_save_file_path(file_name)\n",
    "\n",
    "save_netcdf(DS_shift, FILE_PATH)"
   ]
  },
  {
   "cell_type": "code",
   "execution_count": null,
   "metadata": {},
   "outputs": [],
   "source": []
  }
 ],
 "metadata": {
  "hide_input": false,
  "kernelspec": {
   "display_name": "Python 3",
   "language": "python",
   "name": "python3"
  },
  "language_info": {
   "codemirror_mode": {
    "name": "ipython",
    "version": 3
   },
   "file_extension": ".py",
   "mimetype": "text/x-python",
   "name": "python",
   "nbconvert_exporter": "python",
   "pygments_lexer": "ipython3",
   "version": "3.6.8"
  },
  "toc": {
   "base_numbering": 1,
   "nav_menu": {},
   "number_sections": true,
   "sideBar": true,
   "skip_h1_title": false,
   "title_cell": "Table of Contents",
   "title_sidebar": "Contents",
   "toc_cell": false,
   "toc_position": {},
   "toc_section_display": true,
   "toc_window_display": true
  },
  "varInspector": {
   "cols": {
    "lenName": 16,
    "lenType": 16,
    "lenVar": 40
   },
   "kernels_config": {
    "python": {
     "delete_cmd_postfix": "",
     "delete_cmd_prefix": "del ",
     "library": "var_list.py",
     "varRefreshCmd": "print(var_dic_list())"
    },
    "r": {
     "delete_cmd_postfix": ") ",
     "delete_cmd_prefix": "rm(",
     "library": "var_list.r",
     "varRefreshCmd": "cat(var_dic_list()) "
    }
   },
   "oldHeight": 277.85,
   "position": {
    "height": "40px",
    "left": "1170px",
    "right": "17px",
    "top": "120px",
    "width": "253px"
   },
   "types_to_exclude": [
    "module",
    "function",
    "builtin_function_or_method",
    "instance",
    "_Feature"
   ],
   "varInspector_section_display": "none",
   "window_display": true
  }
 },
 "nbformat": 4,
 "nbformat_minor": 2
}

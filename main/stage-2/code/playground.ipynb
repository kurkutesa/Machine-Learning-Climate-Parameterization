{
 "cells": [
  {
   "cell_type": "code",
   "execution_count": 1,
   "metadata": {
    "ExecuteTime": {
     "end_time": "2019-02-26T18:23:50.676120Z",
     "start_time": "2019-02-26T18:23:50.673116Z"
    }
   },
   "outputs": [],
   "source": [
    "l = [50, 99, 67, 99, 48]"
   ]
  },
  {
   "cell_type": "code",
   "execution_count": 2,
   "metadata": {
    "ExecuteTime": {
     "end_time": "2019-02-26T18:23:50.686269Z",
     "start_time": "2019-02-26T18:23:50.678214Z"
    }
   },
   "outputs": [],
   "source": [
    "# If multiple items are maximal, the function returns the first one encountered. This is consistent with other sort-stability preserving tools such as sorted(iterable, key=keyfunc, reverse=True)[0] and heapq.nlargest(1, iterable, key=keyfunc).\n",
    "# The key argument specifies a one-argument ordering function like that used for list.sort()\n",
    "# If you specify a key function, it will evaluate the function using the values in the list and return the object that maximizes the provided function. This seems like no big deal but actually makes the function work like argmax!"
   ]
  },
  {
   "cell_type": "code",
   "execution_count": 4,
   "metadata": {
    "ExecuteTime": {
     "end_time": "2019-02-26T18:23:50.712986Z",
     "start_time": "2019-02-26T18:23:50.707231Z"
    }
   },
   "outputs": [
    {
     "data": {
      "text/plain": [
       "1"
      ]
     },
     "execution_count": 4,
     "metadata": {},
     "output_type": "execute_result"
    }
   ],
   "source": [
    "# 0th\n",
    "index, max_val = -1, -1\n",
    "for i in range(len(l)):\n",
    "    if l[i] > max_val:\n",
    "        index, max_val = i, l[i]\n",
    "index"
   ]
  },
  {
   "cell_type": "code",
   "execution_count": 3,
   "metadata": {
    "ExecuteTime": {
     "end_time": "2019-02-26T18:23:50.704350Z",
     "start_time": "2019-02-26T18:23:50.689141Z"
    }
   },
   "outputs": [
    {
     "data": {
      "text/plain": [
       "1"
      ]
     },
     "execution_count": 3,
     "metadata": {},
     "output_type": "execute_result"
    }
   ],
   "source": [
    "# 1st\n",
    "f = lambda i: l[i]\n",
    "max(range(len(l)), key=f)"
   ]
  },
  {
   "cell_type": "code",
   "execution_count": 5,
   "metadata": {
    "ExecuteTime": {
     "end_time": "2019-02-26T18:23:50.721168Z",
     "start_time": "2019-02-26T18:23:50.715029Z"
    }
   },
   "outputs": [
    {
     "data": {
      "text/plain": [
       "[(0, 50), (1, 99), (2, 67), (3, 99), (4, 48)]"
      ]
     },
     "execution_count": 5,
     "metadata": {},
     "output_type": "execute_result"
    }
   ],
   "source": [
    "# 2a\n",
    "list(enumerate(l))"
   ]
  },
  {
   "cell_type": "code",
   "execution_count": 6,
   "metadata": {
    "ExecuteTime": {
     "end_time": "2019-02-26T18:23:50.728678Z",
     "start_time": "2019-02-26T18:23:50.723601Z"
    }
   },
   "outputs": [
    {
     "data": {
      "text/plain": [
       "3"
      ]
     },
     "execution_count": 6,
     "metadata": {},
     "output_type": "execute_result"
    }
   ],
   "source": [
    "max((x,i) for i,x in enumerate(l))[1] "
   ]
  },
  {
   "cell_type": "code",
   "execution_count": 7,
   "metadata": {
    "ExecuteTime": {
     "end_time": "2019-02-26T18:23:50.744013Z",
     "start_time": "2019-02-26T18:23:50.735607Z"
    }
   },
   "outputs": [
    {
     "data": {
      "text/plain": [
       "1"
      ]
     },
     "execution_count": 7,
     "metadata": {},
     "output_type": "execute_result"
    }
   ],
   "source": [
    "-max((x,-i) for i,x in enumerate(l))[1] "
   ]
  },
  {
   "cell_type": "code",
   "execution_count": 8,
   "metadata": {
    "ExecuteTime": {
     "end_time": "2019-02-26T18:23:50.754734Z",
     "start_time": "2019-02-26T18:23:50.748018Z"
    }
   },
   "outputs": [
    {
     "data": {
      "text/plain": [
       "3"
      ]
     },
     "execution_count": 8,
     "metadata": {},
     "output_type": "execute_result"
    }
   ],
   "source": [
    "# 2b\n",
    "max(zip(l, range(len(l))))[1]"
   ]
  },
  {
   "cell_type": "code",
   "execution_count": null,
   "metadata": {},
   "outputs": [],
   "source": []
  },
  {
   "cell_type": "code",
   "execution_count": null,
   "metadata": {},
   "outputs": [],
   "source": []
  },
  {
   "cell_type": "code",
   "execution_count": 9,
   "metadata": {
    "ExecuteTime": {
     "end_time": "2019-02-26T18:23:54.450836Z",
     "start_time": "2019-02-26T18:23:50.758228Z"
    }
   },
   "outputs": [],
   "source": [
    "import numpy as np\n",
    "import pandas as pd\n",
    "import tensorflow as tf"
   ]
  },
  {
   "cell_type": "code",
   "execution_count": 10,
   "metadata": {
    "ExecuteTime": {
     "end_time": "2019-02-26T18:23:54.459018Z",
     "start_time": "2019-02-26T18:23:54.454165Z"
    }
   },
   "outputs": [
    {
     "data": {
      "text/plain": [
       "1"
      ]
     },
     "execution_count": 10,
     "metadata": {},
     "output_type": "execute_result"
    }
   ],
   "source": [
    "l_np = np.asarray(l)\n",
    "l_np.argmax()"
   ]
  },
  {
   "cell_type": "code",
   "execution_count": 15,
   "metadata": {
    "ExecuteTime": {
     "end_time": "2019-02-26T18:34:53.250234Z",
     "start_time": "2019-02-26T18:34:53.243185Z"
    }
   },
   "outputs": [
    {
     "data": {
      "text/plain": [
       "l    1\n",
       "dtype: int64"
      ]
     },
     "execution_count": 15,
     "metadata": {},
     "output_type": "execute_result"
    }
   ],
   "source": [
    "l_pd = pd.DataFrame({'l': l})\n",
    "l_pd.idxmax()"
   ]
  },
  {
   "cell_type": "code",
   "execution_count": 12,
   "metadata": {
    "ExecuteTime": {
     "end_time": "2019-02-26T18:23:54.476087Z",
     "start_time": "2019-02-26T18:23:54.471919Z"
    }
   },
   "outputs": [],
   "source": [
    "# A Session object encapsulates the environment in which Operation objects are executed, and Tensor objects are evaluated. For example:"
   ]
  },
  {
   "cell_type": "code",
   "execution_count": 17,
   "metadata": {
    "ExecuteTime": {
     "end_time": "2019-02-26T18:38:04.816379Z",
     "start_time": "2019-02-26T18:38:04.807852Z"
    }
   },
   "outputs": [],
   "source": [
    "l_tf = tf.constant(l)\n",
    "\n",
    "with tf.Session() as sess:\n",
    "    print(sess.run(tf.argmax(l_tf)))"
   ]
  },
  {
   "cell_type": "markdown",
   "metadata": {},
   "source": [
    "# Pickle"
   ]
  },
  {
   "cell_type": "code",
   "execution_count": 18,
   "metadata": {
    "ExecuteTime": {
     "end_time": "2019-02-27T18:55:02.120208Z",
     "start_time": "2019-02-27T18:55:02.114369Z"
    }
   },
   "outputs": [],
   "source": [
    "import pickle\n",
    "import os"
   ]
  },
  {
   "cell_type": "code",
   "execution_count": 19,
   "metadata": {
    "ExecuteTime": {
     "end_time": "2019-02-27T18:55:04.038453Z",
     "start_time": "2019-02-27T18:55:04.034315Z"
    }
   },
   "outputs": [],
   "source": [
    "def get_save_file_path(file_name, stage=2):\n",
    "    CURRENT_DIR = os.getcwd()\n",
    "    DATA_DIR = f'{CURRENT_DIR}/../../data/stage-{stage}_cleaned'\n",
    "    FILE_PATH = f'{DATA_DIR}/{file_name}'\n",
    "    return FILE_PATH"
   ]
  },
  {
   "cell_type": "code",
   "execution_count": 21,
   "metadata": {
    "ExecuteTime": {
     "end_time": "2019-02-27T18:56:27.523478Z",
     "start_time": "2019-02-27T18:56:24.350056Z"
    }
   },
   "outputs": [
    {
     "data": {
      "text/plain": [
       "'/exports/csce/datastore/geos/users/s1895566/GitHub/Machine-Learning-Climate-Parameterization/main/stage-2/code/../../data/stage-2_cleaned/twparmbeatmC1.obj.pickle'"
      ]
     },
     "execution_count": 21,
     "metadata": {},
     "output_type": "execute_result"
    }
   ],
   "source": [
    "get_save_file_path('twparmbeatmC1.obj.pickle')"
   ]
  },
  {
   "cell_type": "code",
   "execution_count": 22,
   "metadata": {
    "ExecuteTime": {
     "end_time": "2019-02-27T18:59:39.335407Z",
     "start_time": "2019-02-27T18:58:23.983183Z"
    }
   },
   "outputs": [
    {
     "data": {
      "text/plain": [
       "<classes.Sample at 0x7f3ac8081a90>"
      ]
     },
     "execution_count": 22,
     "metadata": {},
     "output_type": "execute_result"
    }
   ],
   "source": [
    "with open(get_save_file_path('twparmbeatmC1.obj.pickle'), 'rb') as handle:\n",
    "    s1 = pickle.load(handle)\n",
    "s1"
   ]
  },
  {
   "cell_type": "code",
   "execution_count": 25,
   "metadata": {
    "ExecuteTime": {
     "end_time": "2019-02-27T19:00:19.817020Z",
     "start_time": "2019-02-27T19:00:19.812296Z"
    }
   },
   "outputs": [
    {
     "data": {
      "text/plain": [
       "(2884, 37, 4)"
      ]
     },
     "execution_count": 25,
     "metadata": {},
     "output_type": "execute_result"
    }
   ],
   "source": [
    "s1.train.Xvec.shape"
   ]
  },
  {
   "cell_type": "code",
   "execution_count": 1,
   "metadata": {
    "ExecuteTime": {
     "end_time": "2019-02-28T01:29:25.839280Z",
     "start_time": "2019-02-28T01:29:25.834448Z"
    }
   },
   "outputs": [],
   "source": [
    "#####"
   ]
  },
  {
   "cell_type": "code",
   "execution_count": null,
   "metadata": {},
   "outputs": [],
   "source": []
  }
 ],
 "metadata": {
  "hide_input": false,
  "kernelspec": {
   "display_name": "Python 3",
   "language": "python",
   "name": "python3"
  },
  "language_info": {
   "codemirror_mode": {
    "name": "ipython",
    "version": 3
   },
   "file_extension": ".py",
   "mimetype": "text/x-python",
   "name": "python",
   "nbconvert_exporter": "python",
   "pygments_lexer": "ipython3",
   "version": "3.6.8"
  },
  "toc": {
   "base_numbering": 1,
   "nav_menu": {},
   "number_sections": true,
   "sideBar": true,
   "skip_h1_title": false,
   "title_cell": "Table of Contents",
   "title_sidebar": "Contents",
   "toc_cell": false,
   "toc_position": {},
   "toc_section_display": true,
   "toc_window_display": false
  },
  "varInspector": {
   "cols": {
    "lenName": 16,
    "lenType": 16,
    "lenVar": 40
   },
   "kernels_config": {
    "python": {
     "delete_cmd_postfix": "",
     "delete_cmd_prefix": "del ",
     "library": "var_list.py",
     "varRefreshCmd": "print(var_dic_list())"
    },
    "r": {
     "delete_cmd_postfix": ") ",
     "delete_cmd_prefix": "rm(",
     "library": "var_list.r",
     "varRefreshCmd": "cat(var_dic_list()) "
    }
   },
   "oldHeight": 122.85,
   "position": {
    "height": "40px",
    "left": "1170px",
    "right": "20px",
    "top": "120px",
    "width": "250px"
   },
   "types_to_exclude": [
    "module",
    "function",
    "builtin_function_or_method",
    "instance",
    "_Feature"
   ],
   "varInspector_section_display": "none",
   "window_display": true
  }
 },
 "nbformat": 4,
 "nbformat_minor": 2
}
